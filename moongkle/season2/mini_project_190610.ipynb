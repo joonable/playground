{
  "cells": [
    {
      "cell_type": "markdown",
      "metadata": {
        "collapsed": true,
        "pycharm": {
          "name": "#%% md\n"
        }
      },
      "source": "# 뭉클 mini_project_190610\n### 저번주에 배운 기본 내장함수를 적극적으로 활용해보아요! [https://wikidocs.net/32]"
    },
    {
      "cell_type": "markdown",
      "source": "# 문제1 - 구구단 출력하기\n프로그램 사용자로부터 두 개의 정수를 입력 받아서 구구단을 출력하는 프로그램을 작성해 보자. \n예를 들어서 프로그램 사용자가 3과 5를 입력하면 3단, 4단, 5단이 출력되어야 하고, \n2와 4를 이렵하면 2단, 3단, 4단이 출력되어야 한다.  \n단 한가지 조건이 있다. 사용자는 두 개의 숫자를 입력 할 때에 입력 순서의 자유로워야 한다.\n즉 3과 5를 입력하건 5와 3을 입력하건 프로그램은 같은 결과를 출력해야 한다.\n",
      "metadata": {
        "pycharm": {
          "metadata": false
        }
      }
    },
    {
      "cell_type": "code",
      "execution_count": 2,
      "outputs": [],
      "source": "x, y \u003d input(\"2개의 숫자를 입력하세요 (comma로 구분)\").split(\u0027,\u0027)\nx \u003d int(x)\ny \u003d int(y)\n",
      "metadata": {
        "pycharm": {
          "metadata": false,
          "name": "#%%\n",
          "is_executing": false
        }
      }
    },
    {
      "cell_type": "code",
      "execution_count": 3,
      "outputs": [],
      "source": "\n",
      "metadata": {
        "pycharm": {
          "metadata": false,
          "name": "#%%\n",
          "is_executing": false
        }
      }
    },
    {
      "cell_type": "markdown",
      "source": "# 문제2\n프로그램 사용자로부터 초(second)를 입력 받은 후에, 이를 [시, 분, 초]의 형태로 출력하는 프로그램을 작성해 보자.  \n힌트 : divmod()\n",
      "metadata": {
        "pycharm": {
          "metadata": false
        }
      }
    },
    {
      "cell_type": "code",
      "execution_count": 4,
      "outputs": [],
      "source": "seconds \u003d int(input())\n",
      "metadata": {
        "pycharm": {
          "metadata": false,
          "name": "#%%\n",
          "is_executing": false
        }
      }
    },
    {
      "cell_type": "code",
      "execution_count": null,
      "outputs": [],
      "source": "",
      "metadata": {
        "pycharm": {
          "metadata": false,
          "name": "#%%\n"
        }
      }
    },
    {
      "cell_type": "markdown",
      "source": "# 문제3 - 면적 구하기\n프로그램 사용자로부터 두 점의 x, y 좌표를 입력 받아서, \n두 점이 이루는 직사각형의 넓이를 계산하여 출력하는 프로그램을 작성해보자.\n",
      "metadata": {
        "pycharm": {
          "metadata": false
        }
      }
    },
    {
      "cell_type": "code",
      "execution_count": 5,
      "outputs": [],
      "source": "x1, y1 \u003d input(\"x1, y1 좌표를 입력하세요 (comma로 구분)\").split(\u0027,\u0027)\nx2, y2 \u003d input(\"x2, y2 좌표를 입력하세요 (comma로 구분)\").split(\u0027,\u0027)\n",
      "metadata": {
        "pycharm": {
          "metadata": false,
          "name": "#%%\n",
          "is_executing": false
        }
      }
    },
    {
      "cell_type": "code",
      "execution_count": 6,
      "outputs": [],
      "source": "",
      "metadata": {
        "pycharm": {
          "metadata": false,
          "name": "#%%\n",
          "is_executing": false
        }
      }
    },
    {
      "cell_type": "markdown",
      "source": "# 문제4 - 문자열 압축하기\n문자열을 입력 받아 같은 문자가 연속적으로 반복되는 경우에 그 반복 횟수를 표시하여 문자열을 압축하여 표시해 보자.\n\n입력 예시: aaabbcccccca  \n출력 예시: a3b2c6a1  \n",
      "metadata": {
        "pycharm": {
          "metadata": false
        }
      }
    },
    {
      "cell_type": "code",
      "execution_count": 7,
      "outputs": [],
      "source": "str_input \u003d input()\n",
      "metadata": {
        "pycharm": {
          "metadata": false,
          "name": "#%%\n",
          "is_executing": false
        }
      }
    },
    {
      "cell_type": "code",
      "execution_count": 8,
      "outputs": [],
      "source": "\n",
      "metadata": {
        "pycharm": {
          "metadata": false,
          "name": "#%%\n",
          "is_executing": false
        }
      }
    },
    {
      "cell_type": "markdown",
      "source": "# 문제5 - 팰린드롬인지 확인하기\n알파벳 소문자로만 이루어진 단어가 주어진다. 이때, 이 단어가 팰린드롬인지 아닌지 확인하는 프로그램을 작성하시오.  \n팰린드롬이란 앞으로 읽을 때와 거꾸로 읽을 때 똑같은 단어를 말한다.  \nlevel, noon은 팰린드롬이고, will, ai, gsshop 팰린드롬이 아니다.  \n팰린드롬이면 1, 아니면 0을 출력한다.\n",
      "metadata": {
        "pycharm": {
          "metadata": false
        }
      }
    },
    {
      "cell_type": "code",
      "execution_count": 9,
      "outputs": [],
      "source": "str_input \u003d input()\n",
      "metadata": {
        "pycharm": {
          "metadata": false,
          "name": "#%% \n",
          "is_executing": false
        }
      }
    },
    {
      "cell_type": "code",
      "execution_count": 10,
      "outputs": [],
      "source": "\n",
      "metadata": {
        "pycharm": {
          "metadata": false,
          "name": "#%%\n",
          "is_executing": false
        }
      }
    },
    {
      "cell_type": "markdown",
      "source": "# 문제6 - 괄호\n괄호 문자열(Parenthesis String, PS)은 두 개의 괄호 기호인 ‘(’ 와 ‘)’ 만으로 구성되어 있는 문자열이다. \n그 중에서 괄호의 모양이 바르게 구성된 문자열을 올바른 괄호 문자열(Valid PS, VPS)이라고 부른다. \n한 쌍의 괄호 기호로 된 “( )” 문자열은 기본 VPS 이라고 부른다. \n만일 x 가 VPS 라면 이것을 하나의 괄호에 넣은 새로운 문자열 “(x)”도 VPS 가 된다. \n그리고 두 VPS x 와 y를 접합(concatenation)시킨 새로운 문자열 xy도 VPS 가 된다. \n예를 들어 “(())()”와 “((()))” 는 VPS 이지만 “(()(”, “(())()))” , 그리고 “(()” 는 모두 VPS 가 아닌 문자열이다. \n\n여러분은 입력으로 주어진 괄호 문자열이 VPS 인지 아닌지를 판단해서 그 결과를 YES 와 NO 로 나타내어야 한다. \n\n(())()) - NO  \n(((()())() - NO  \n(()())((())) - YES  \n((()()(()))(((())))() - NO  \n))(( - NO  \n())(() - NO  \n()()()()(()()())() - YES  \n(()((())()( - NO  \n",
      "metadata": {
        "pycharm": {
          "metadata": false
        }
      }
    },
    {
      "cell_type": "code",
      "execution_count": 11,
      "outputs": [],
      "source": "str_input \u003d input()\n",
      "metadata": {
        "pycharm": {
          "metadata": false,
          "name": "#%% \n",
          "is_executing": false
        }
      }
    },
    {
      "cell_type": "code",
      "execution_count": 12,
      "outputs": [],
      "source": "\n\n",
      "metadata": {
        "pycharm": {
          "metadata": false,
          "name": "#%%\n",
          "is_executing": false
        }
      }
    },
    {
      "cell_type": "markdown",
      "source": "# 문제6 - 단어 개수\n영어 대소문자와 띄어쓰기만으로 이루어진 문자열이 주어진다.  \n이 문자열에는 몇 개의 단어가 있을까? 이를 구하는 프로그램을 작성하시오.  \n단, split 함수는 사용하지 않는다\n\nThe Curious Case of Benjamin Button - 6  \n Mazatneunde Wae   Teullyeoyo - 3  \n       Teullinika Teullyeotzi              - 2  \n",
      "metadata": {
        "pycharm": {
          "metadata": false
        }
      }
    },
    {
      "cell_type": "code",
      "execution_count": 13,
      "outputs": [],
      "source": "str_input \u003d input()\n",
      "metadata": {
        "pycharm": {
          "metadata": false,
          "name": "#%% \n",
          "is_executing": false
        }
      }
    },
    {
      "cell_type": "code",
      "execution_count": 14,
      "outputs": [],
      "source": "\n",
      "metadata": {
        "pycharm": {
          "metadata": false,
          "name": "#%%\n",
          "is_executing": false
        }
      }
    },
    {
      "cell_type": "markdown",
      "source": "# 문제7 - 방번호\n다솜이는 은진이의 옆집에 새로 이사왔다. 다솜이는 자기 방 번호를 예쁜 플라스틱 숫자로 문에 붙이려고 한다.\n다솜이의 옆집에서는 플라스틱 숫자를 한 세트로 판다. 한 세트에는 0번부터 9번까지 숫자가 하나씩 들어있다.  \n다솜이의 방 번호가 주어졌을 때, 필요한 세트의 개수의 최솟값을 출력하시오.  \n(6은 9를 뒤집어서 이용할 수 있고, 9는 6을 뒤집어서 이용할 수 있다.)\n\n1234567890 - 1\n9999 - 2\n99699 - 3\n111666 - 3 \n1116666 - 3\n1116669 - 3\n\n",
      "metadata": {
        "pycharm": {
          "metadata": false
        }
      }
    },
    {
      "cell_type": "code",
      "execution_count": 15,
      "outputs": [],
      "source": "input_room_num \u003d input()\n",
      "metadata": {
        "pycharm": {
          "metadata": false,
          "name": "#%% \n",
          "is_executing": false
        }
      }
    },
    {
      "cell_type": "code",
      "execution_count": 16,
      "outputs": [],
      "source": "\n",
      "metadata": {
        "pycharm": {
          "metadata": false,
          "name": "#%%\n",
          "is_executing": false
        }
      }
    },
    {
      "cell_type": "markdown",
      "source": "# 문제8 - 해커톤 vs. IDD\nGSSHOP에서는 해커톤에 나갈 때 2명의 여직원과 1명의 남직원이 팀을 결성해서 나가는 것이 원칙이다.\nGSSHOP에서는 뛰어난 인재들이 많아 올해에도 N명의 여직원과 M명의 남직원이 팀원을 찾고 있다.  \n그런데 올해에는 대회에 참여하려는 학생들 중 K명을 반드시 IDD에 참여하라는 회사의 방침이 생기게 되었다.\n(인턴쉽에 참여하는 직원은 대회에 참여하지 못한다.)  \n여러분이 인사팀이라면 N명의 여직원과 M명의 남직원, K명의 IDD에 참여해야하는 인원이 주어질 때 만들 수 있는 최대의 팀 수를 구하면 된다.\n\n첫째 줄에 N, M, K가 순서대로 주어진다.\n\n6 3 2 - 2\n",
      "metadata": {
        "pycharm": {
          "metadata": false
        }
      }
    },
    {
      "cell_type": "code",
      "execution_count": 17,
      "outputs": [],
      "source": "n,m,k \u003d input(\"여직원수, 남직원수, IDD 참가 직원 수를 입력하세요 (comma로 구분)\").split(\u0027,\u0027)\n\nn \u003d int(n)\nm \u003d int(m)\nk \u003d int(k)\n",
      "metadata": {
        "pycharm": {
          "metadata": false,
          "name": "#%% \n",
          "is_executing": false
        }
      }
    },
    {
      "cell_type": "code",
      "execution_count": 19,
      "outputs": [],
      "source": "",
      "metadata": {
        "pycharm": {
          "metadata": false,
          "name": "#%%\n",
          "is_executing": false
        }
      }
    }
  ],
  "metadata": {
    "language_info": {
      "codemirror_mode": {
        "name": "ipython",
        "version": 2
      },
      "file_extension": ".py",
      "mimetype": "text/x-python",
      "name": "python",
      "nbconvert_exporter": "python",
      "pygments_lexer": "ipython2",
      "version": "2.7.6"
    },
    "kernelspec": {
      "name": "python3",
      "language": "python",
      "display_name": "Python 3"
    }
  },
  "nbformat": 4,
  "nbformat_minor": 0
}