{
 "cells": [
  {
   "cell_type": "heading",
   "metadata": {},
   "level": 1,
   "source": [
    "week3"
   ]
  },
  {
   "cell_type": "heading",
   "metadata": {},
   "level": 2,
   "source": [
    "실습1"
   ]
  },
  {
   "cell_type": "code",
   "execution_count": 5,
   "metadata": {
    "collapsed": true
   },
   "outputs": [
    {
     "data": {
      "text/plain": [
       "[4, 9, 16]"
      ]
     },
     "execution_count": 5,
     "metadata": {},
     "output_type": "execute_result"
    }
   ],
   "source": [
    "squares = [1, 4, 9, 16, 25]   # create new list\n",
    "# TODO squares에서 [4, 9, 16]만 slice하여 뽑아내기\n",
    "squares[1:4]"
   ]
  },
  {
   "cell_type": "heading",
   "metadata": {},
   "level": 2,
   "source": [
    "실습2"
   ]
  },
  {
   "cell_type": "code",
   "execution_count": 11,
   "metadata": {},
   "outputs": [
    {
     "name": "stdout",
     "output_type": "stream",
     "text": [
      "['elephant', 'lion', 'tiger', 'giraffe']\n"
     ]
    }
   ],
   "source": [
    "animals = ['elephant', 'lion', 'tiger', \"giraffe\"]  # create new list\n",
    "print(animals)"
   ]
  },
  {
   "cell_type": "code",
   "execution_count": 12,
   "metadata": {},
   "outputs": [
    {
     "name": "stdout",
     "output_type": "stream",
     "text": [
      "['elephant', 'lion', 'tiger', 'giraffe', 'monkey', 'dog']\n"
     ]
    }
   ],
   "source": [
    "animals+=[\"monkey\", 'dog']\n",
    "# TODO animals 뒤에 [\"monkey\", 'dog']을 더하기\n",
    "print(animals)\n"
   ]
  },
  {
   "cell_type": "code",
   "execution_count": 13,
   "metadata": {},
   "outputs": [
    {
     "name": "stdout",
     "output_type": "stream",
     "text": [
      "['elephant', 'lion', 'tiger', 'giraffe', 'monkey', 'dog', 'dino']\n"
     ]
    }
   ],
   "source": [
    "animals.append(\"dino\")\n",
    "# TODO append() method를 사용해서 animal에 \"dino\"를 더하기\n",
    "print(animals)"
   ]
  },
  {
   "cell_type": "code",
   "execution_count": 14,
   "metadata": {},
   "outputs": [
    {
     "name": "stdout",
     "output_type": "stream",
     "text": [
      "['elephant', 'lion', 'tiger', 'giraffe', 'monkey', 'dog', 'dinosour']\n"
     ]
    }
   ],
   "source": [
    "animals[-1] = 'dinosour'\n",
    "# TODO animal 내에 있는 ‘dino’를 dinosour로 바꾸기\n",
    "print(animals)"
   ]
  },
  {
   "cell_type": "heading",
   "metadata": {},
   "level": 2,
   "source": [
    "실습3"
   ]
  },
  {
   "cell_type": "code",
   "execution_count": 17,
   "metadata": {},
   "outputs": [
    {
     "name": "stdout",
     "output_type": "stream",
     "text": [
      "['elephant', 'lion', 'tiger', 'giraffe', 'monkey', 'dog']\n"
     ]
    }
   ],
   "source": [
    "animals = ['elephant', 'lion', 'tiger', \"giraffe\", \"monkey\", 'dog']\n",
    "print(animals)\n"
   ]
  },
  {
   "cell_type": "code",
   "execution_count": 18,
   "metadata": {},
   "outputs": [
    {
     "name": "stdout",
     "output_type": "stream",
     "text": [
      "['elephant', 'cat', 'cat', 'giraffe', 'monkey', 'dog']\n"
     ]
    }
   ],
   "source": [
    "animals[1:3] = ['cat', 'cat']\n",
    "# TODO 한 번에 'lion' 과 'tiger'을 'cat'으로 바꾸기\n",
    "print(animals)\n"
   ]
  },
  {
   "cell_type": "code",
   "execution_count": 19,
   "metadata": {},
   "outputs": [
    {
     "name": "stdout",
     "output_type": "stream",
     "text": [
      "['elephant', 'monkey', 'dog']\n"
     ]
    }
   ],
   "source": [
    "#TODO 'cat' and 'giraffe' 삭제\n",
    "animals[1:4] = []\n",
    "print(animals)"
   ]
  },
  {
   "cell_type": "code",
   "execution_count": 20,
   "metadata": {},
   "outputs": [
    {
     "name": "stdout",
     "output_type": "stream",
     "text": [
      "[]\n"
     ]
    }
   ],
   "source": [
    "animals=[]\n",
    "#TODO clear list\n",
    "print(animals)"
   ]
  },
  {
   "cell_type": "heading",
   "metadata": {},
   "level": 2,
   "source": [
    "실습4"
   ]
  },
  {
   "cell_type": "code",
   "execution_count": 22,
   "metadata": {},
   "outputs": [
    {
     "name": "stdout",
     "output_type": "stream",
     "text": [
      "{'John': 123, 'Jane': 456, 'Jerard': 789}\n"
     ]
    }
   ],
   "source": [
    "# create new dictionary.\n",
    "# \"John\", \"Jane\" and \"Jerard\"의 전화번호부를 만들어라 (번호는 임의로)\n",
    "phone_book = {\"John\": 123, \"Jane\":456, \"Jerard\":789} # TODO    \n",
    "print(phone_book)"
   ]
  },
  {
   "cell_type": "code",
   "execution_count": 23,
   "metadata": {},
   "outputs": [
    {
     "name": "stdout",
     "output_type": "stream",
     "text": [
      "{'John': 123, 'Jane': 456, 'Jerard': 789, 'Jack': 248}\n"
     ]
    }
   ],
   "source": [
    "phone_book[\"Jack\"] = 248\n",
    "# Jack의 번호를 추가하여라\n",
    "print(phone_book)\n",
    "# TODO "
   ]
  },
  {
   "cell_type": "code",
   "execution_count": 24,
   "metadata": {},
   "outputs": [
    {
     "name": "stdout",
     "output_type": "stream",
     "text": [
      "{'Jane': 456, 'Jerard': 789, 'Jack': 248}\n"
     ]
    }
   ],
   "source": [
    "# \"John\"을 전화번호부에서 삭제하라\n",
    "del phone_book['John']\n",
    "# TODO\n",
    "print(phone_book)"
   ]
  },
  {
   "cell_type": "heading",
   "metadata": {},
   "level": 2,
   "source": [
    "실습5"
   ]
  },
  {
   "cell_type": "code",
   "execution_count": 25,
   "metadata": {},
   "outputs": [
    {
     "name": "stdout",
     "output_type": "stream",
     "text": [
      "dict_keys(['Jane', 'Jerard', 'Jack'])\n"
     ]
    }
   ],
   "source": [
    "# 전화번호에 입력된 사람의 이름을 출력하라\n",
    "# TODO \n",
    "print(phone_book.keys())"
   ]
  },
  {
   "cell_type": "code",
   "execution_count": 26,
   "metadata": {},
   "outputs": [
    {
     "name": "stdout",
     "output_type": "stream",
     "text": [
      "dict_values([456, 789, 248])\n"
     ]
    }
   ],
   "source": [
    "# 전화번호에 입력된 전화번호를 출력하라\n",
    "# TODO \n",
    "print(phone_book.values())"
   ]
  },
  {
   "cell_type": "code",
   "execution_count": 27,
   "metadata": {},
   "outputs": [
    {
     "name": "stdout",
     "output_type": "stream",
     "text": [
      "dict_items([('Jane', 456), ('Jerard', 789), ('Jack', 248)])\n"
     ]
    }
   ],
   "source": [
    "# 전화번호에 입력된 이름과 전화번호를 출력하라\n",
    "# TODO \n",
    "print(phone_book.items())"
   ]
  },
  {
   "cell_type": "code",
   "execution_count": null,
   "metadata": {},
   "outputs": [],
   "source": []
  }
 ],
 "metadata": {
  "kernelspec": {
   "display_name": "Python 2",
   "language": "python",
   "name": "python2"
  },
  "language_info": {
   "codemirror_mode": {
    "name": "ipython",
    "version": 2
   },
   "file_extension": ".py",
   "mimetype": "text/x-python",
   "name": "python",
   "nbconvert_exporter": "python",
   "pygments_lexer": "ipython2",
   "version": "2.7.6"
  }
 },
 "nbformat": 4,
 "nbformat_minor": 0
}
