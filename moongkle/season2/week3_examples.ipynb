{
  "cells": [
    {
      "cell_type": "code",
      "execution_count": 28,
      "metadata": {
        "pycharm": {}
      },
      "outputs": [],
      "source": [
        "# week3"
      ]
    },
    {
      "cell_type": "code",
      "execution_count": 29,
      "metadata": {
        "pycharm": {}
      },
      "outputs": [],
      "source": [
        "# 실습1"
      ]
    },
    {
      "cell_type": "code",
      "execution_count": 31,
      "metadata": {
        "collapsed": true,
        "pycharm": {}
      },
      "outputs": [
        {
          "data": {
            "text/plain": [
              "[4, 9, 16]"
            ]
          },
          "execution_count": 31,
          "metadata": {},
          "output_type": "execute_result"
        }
      ],
      "source": [
        "squares \u003d [1, 4, 9, 16, 25]   # create new list\n",
        "# TODO squares에서 [4, 9, 16]만 slice하여 뽑아내기"
      ]
    },
    {
      "cell_type": "code",
      "execution_count": 30,
      "metadata": {
        "pycharm": {}
      },
      "outputs": [],
      "source": [
        "# 실습2"
      ]
    },
    {
      "cell_type": "code",
      "execution_count": 29,
      "metadata": {
        "pycharm": {}
      },
      "outputs": [
        {
          "name": "stdout",
          "output_type": "stream",
          "text": [
            "[\u0027elephant\u0027, \u0027lion\u0027, \u0027tiger\u0027, \u0027giraffe\u0027]\n"
          ]
        }
      ],
      "source": [
        "animals \u003d [\u0027elephant\u0027, \u0027lion\u0027, \u0027tiger\u0027, \"giraffe\"]  # create new list\n",
        "print(animals)"
      ]
    },
    {
      "cell_type": "code",
      "execution_count": 32,
      "metadata": {
        "pycharm": {}
      },
      "outputs": [
        {
          "name": "stdout",
          "output_type": "stream",
          "text": [
            "[\u0027elephant\u0027, \u0027lion\u0027, \u0027tiger\u0027, \u0027giraffe\u0027, \u0027monkey\u0027, \u0027dog\u0027]\n"
          ]
        }
      ],
      "source": [
        "# TODO animals 뒤에 [\"monkey\", \u0027dog\u0027]을 더하기\n",
        "print(animals)\n"
      ]
    },
    {
      "cell_type": "code",
      "execution_count": 13,
      "metadata": {
        "pycharm": {}
      },
      "outputs": [
        {
          "name": "stdout",
          "output_type": "stream",
          "text": [
            "[\u0027elephant\u0027, \u0027lion\u0027, \u0027tiger\u0027, \u0027giraffe\u0027, \u0027monkey\u0027, \u0027dog\u0027, \u0027dino\u0027]\n"
          ]
        }
      ],
      "source": [
        "# TODO append() method를 사용해서 animal에 \"dino\"를 더하기\n",
        "print(animals)"
      ]
    },
    {
      "cell_type": "code",
      "execution_count": 14,
      "metadata": {
        "pycharm": {}
      },
      "outputs": [
        {
          "name": "stdout",
          "output_type": "stream",
          "text": [
            "[\u0027elephant\u0027, \u0027lion\u0027, \u0027tiger\u0027, \u0027giraffe\u0027, \u0027monkey\u0027, \u0027dog\u0027, \u0027dinosour\u0027]\n"
          ]
        }
      ],
      "source": [
        "# TODO animal 내에 있는 ‘dino’를 dinosour로 바꾸기\n",
        "print(animals)"
      ]
    },
    {
      "cell_type": "code",
      "execution_count": 31,
      "metadata": {
        "pycharm": {}
      },
      "outputs": [],
      "source": [
        "# 실습3\n"
      ]
    },
    {
      "cell_type": "code",
      "execution_count": 17,
      "metadata": {
        "pycharm": {}
      },
      "outputs": [
        {
          "name": "stdout",
          "output_type": "stream",
          "text": [
            "[\u0027elephant\u0027, \u0027lion\u0027, \u0027tiger\u0027, \u0027giraffe\u0027, \u0027monkey\u0027, \u0027dog\u0027]\n"
          ]
        }
      ],
      "source": "animals \u003d [\u0027elephant\u0027, \u0027lion\u0027, \u0027tiger\u0027, \"giraffe\", \"monkey\", \u0027dog\u0027]\nprint(animals)\n"
    },
    {
      "cell_type": "code",
      "execution_count": 18,
      "metadata": {
        "pycharm": {}
      },
      "outputs": [
        {
          "name": "stdout",
          "output_type": "stream",
          "text": [
            "[\u0027elephant\u0027, \u0027cat\u0027, \u0027cat\u0027, \u0027giraffe\u0027, \u0027monkey\u0027, \u0027dog\u0027]\n"
          ]
        }
      ],
      "source": [
        "# TODO 한 번에 \u0027lion\u0027 과 \u0027tiger\u0027을 \u0027cat\u0027으로 바꾸기\n",
        "print(animals)\n"
      ]
    },
    {
      "cell_type": "code",
      "execution_count": 19,
      "metadata": {
        "pycharm": {}
      },
      "outputs": [
        {
          "name": "stdout",
          "output_type": "stream",
          "text": [
            "[\u0027elephant\u0027, \u0027monkey\u0027, \u0027dog\u0027]\n"
          ]
        }
      ],
      "source": [
        "#TODO \u0027cat\u0027 and \u0027giraffe\u0027 삭제\n",
        "print(animals)"
      ]
    },
    {
      "cell_type": "code",
      "execution_count": 20,
      "metadata": {
        "pycharm": {}
      },
      "outputs": [
        {
          "name": "stdout",
          "output_type": "stream",
          "text": [
            "[]\n"
          ]
        }
      ],
      "source": [
        "#TODO clear list\n",
        "print(animals)"
      ]
    },
    {
      "cell_type": "code",
      "execution_count": 33,
      "metadata": {
        "pycharm": {}
      },
      "outputs": [],
      "source": [
        "# 실습4"
      ]
    },
    {
      "cell_type": "code",
      "execution_count": 22,
      "metadata": {
        "pycharm": {}
      },
      "outputs": [
        {
          "name": "stdout",
          "output_type": "stream",
          "text": [
            "{\u0027John\u0027: 123, \u0027Jane\u0027: 456, \u0027Jerard\u0027: 789}\n"
          ]
        }
      ],
      "source": [
        "# TODO \"John\", \"Jane\" and \"Jerard\"의 전화번호부를 만들어라 (번호는 임의로)    \n",
        "phone_book \u003d {}\n",
        "print(phone_book)"
      ]
    },
    {
      "cell_type": "code",
      "execution_count": 23,
      "metadata": {
        "pycharm": {}
      },
      "outputs": [
        {
          "name": "stdout",
          "output_type": "stream",
          "text": [
            "{\u0027John\u0027: 123, \u0027Jane\u0027: 456, \u0027Jerard\u0027: 789, \u0027Jack\u0027: 248}\n"
          ]
        }
      ],
      "source": [
        "# TODO Jack의 번호를 추가하여라\n",
        "print(phone_book)"
      ]
    },
    {
      "cell_type": "code",
      "execution_count": 24,
      "metadata": {
        "pycharm": {}
      },
      "outputs": [
        {
          "name": "stdout",
          "output_type": "stream",
          "text": [
            "{\u0027Jane\u0027: 456, \u0027Jerard\u0027: 789, \u0027Jack\u0027: 248}\n"
          ]
        }
      ],
      "source": [
        "# TODO \"John\"을 전화번호부에서 삭제하라\n",
        "print(phone_book)"
      ]
    },
    {
      "cell_type": "code",
      "execution_count": 34,
      "metadata": {
        "pycharm": {}
      },
      "outputs": [],
      "source": [
        "# 실습5"
      ]
    },
    {
      "cell_type": "code",
      "execution_count": 25,
      "metadata": {
        "pycharm": {}
      },
      "outputs": [
        {
          "name": "stdout",
          "output_type": "stream",
          "text": [
            "dict_keys([\u0027Jane\u0027, \u0027Jerard\u0027, \u0027Jack\u0027])\n"
          ]
        }
      ],
      "source": [
        "print()     # TODO 전화번호에 입력된 사람의 이름을 출력하라"
      ]
    },
    {
      "cell_type": "code",
      "execution_count": 26,
      "metadata": {
        "pycharm": {}
      },
      "outputs": [
        {
          "name": "stdout",
          "output_type": "stream",
          "text": [
            "dict_values([456, 789, 248])\n"
          ]
        }
      ],
      "source": [
        "print()     # TODO 전화번호에 입력된 전화번호를 출력하라"
      ]
    },
    {
      "cell_type": "code",
      "execution_count": 27,
      "metadata": {
        "pycharm": {}
      },
      "outputs": [
        {
          "name": "stdout",
          "output_type": "stream",
          "text": [
            "dict_items([(\u0027Jane\u0027, 456), (\u0027Jerard\u0027, 789), (\u0027Jack\u0027, 248)])\n"
          ]
        }
      ],
      "source": "print()     # TODO 전화번호에 입력된 이름과 전화번호를 출력하라\n"
    },
    {
      "cell_type": "code",
      "execution_count": 2,
      "outputs": [
        {
          "name": "stdout",
          "text": [
            "{\u0027탱크보이\u0027: 1200, \u0027폴라포\u0027: 1200, \u0027빵빠레\u0027: 1800, \u0027월드콘\u0027: 1500, \u0027메로나\u0027: 1000, \u0027팥빙수\u0027: 2700, \u0027아맛나\u0027: 1000}\n"
          ],
          "output_type": "stream"
        }
      ],
      "source": "icecream \u003d {\u0027탱크보이\u0027: 1200, \u0027폴라포\u0027: 1200, \u0027빵빠레\u0027: 1800, \u0027월드콘\u0027: 1500, \u0027메로나\u0027: 1000}\nnew_product \u003d {\u0027팥빙수\u0027:2700, \u0027아맛나\u0027:1000}\nicecream[\u0027팥빙수\u0027] \u003d 2700\nicecream.update(new_product)\n\nprint(icecream)\n",
      "metadata": {
        "pycharm": {
          "metadata": false,
          "name": "#%%\n",
          "is_executing": false
        }
      }
    },
    {
      "cell_type": "code",
      "execution_count": 10,
      "outputs": [
        {
          "name": "stdout",
          "text": [
            "True\n1\n2\nTrue \u003d\u003d 1\n"
          ],
          "output_type": "stream"
        }
      ],
      "source": "if True:\n    print(\"True\")\n\nif 1:\n    print(\"1\")\n\nif 2:\n    print(\"2\")\n\nif True \u003d\u003d 1:\n    print(\"True \u003d\u003d 1\")\n    \nif True \u003d\u003d 2:\n    print(\"True \u003d\u003d 2\")\n",
      "metadata": {
        "pycharm": {
          "metadata": false,
          "name": "#%%\n",
          "is_executing": false
        }
      }
    },
    {
      "cell_type": "code",
      "execution_count": 13,
      "outputs": [
        {
          "name": "stdout",
          "text": [
            "1\n"
          ],
          "output_type": "stream"
        }
      ],
      "source": "if []:\n    print(\"0\")\nelse:\n    print(\"1\")\n",
      "metadata": {
        "pycharm": {
          "metadata": false,
          "name": "#%%    \n",
          "is_executing": false
        }
      }
    },
    {
      "cell_type": "code",
      "execution_count": 7,
      "outputs": [
        {
          "name": "stdout",
          "text": [
            "0\nTrue\nFalse\n-1\n"
          ],
          "output_type": "stream"
        }
      ],
      "source": "print(000 \u0026 000)\nprint(True and True)\nprint(not True)\nprint(~0)\n# https://stackoverflow.com/questions/2485466/pythons-equivalent-of-logical-and-in-an-if-statement",
      "metadata": {
        "pycharm": {
          "metadata": false,
          "name": "#%%\n",
          "is_executing": false
        }
      }
    },
    {
      "cell_type": "code",
      "execution_count": null,
      "outputs": [],
      "source": "print(4 \u003e\u003d 3) ",
      "metadata": {
        "pycharm": {
          "metadata": false,
          "name": "#%%\n"
        }
      }
    },
    {
      "cell_type": "code",
      "execution_count": null,
      "outputs": [],
      "source": "condition \u003d True\nresult \u003d True if condition else False",
      "metadata": {
        "pycharm": {
          "metadata": false,
          "name": "#%%\n"
        }
      }
    },
    {
      "cell_type": "code",
      "execution_count": 15,
      "outputs": [
        {
          "name": "stdout",
          "text": [
            "적어\n"
          ],
          "output_type": "stream"
        }
      ],
      "source": "age \u003d input()\nage \u003d int(age)\nif age \u003e 30:\n    print(\"많아\")\nelse:\n    print(\"적어\")",
      "metadata": {
        "pycharm": {
          "metadata": false,
          "name": "#%%\n",
          "is_executing": false
        }
      }
    },
    {
      "cell_type": "code",
      "execution_count": null,
      "outputs": [],
      "source": "\n",
      "metadata": {
        "pycharm": {
          "metadata": false,
          "name": "#%%\n"
        }
      }
    }
  ],
  "metadata": {
    "kernelspec": {
      "display_name": "Python 2",
      "language": "python",
      "name": "python2"
    },
    "language_info": {
      "codemirror_mode": {
        "name": "ipython",
        "version": 2
      },
      "file_extension": ".py",
      "mimetype": "text/x-python",
      "name": "python",
      "nbconvert_exporter": "python",
      "pygments_lexer": "ipython2",
      "version": "2.7.6"
    }
  },
  "nbformat": 4,
  "nbformat_minor": 0
}