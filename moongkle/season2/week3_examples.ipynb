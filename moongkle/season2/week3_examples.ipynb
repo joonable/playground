{
 "cells": [
  {
   "cell_type": "heading",
   "metadata": {},
   "level": 1,
   "source": [
    "week3"
   ]
  },
  {
   "cell_type": "heading",
   "metadata": {},
   "level": 2,
   "source": [
    "실습1"
   ]
  },
  {
   "cell_type": "code",
   "execution_count": null,
   "metadata": {
    "collapsed": true
   },
   "outputs": [],
   "source": [
    "squares = [1, 4, 9, 16, 25]   # create new list\n",
    "print(squares)\n",
    "\n",
    "print(slice)    # TODO squares에서 [4, 9, 16]만 slice하여 뽑아내기"
   ]
  },
  {
   "cell_type": "heading",
   "metadata": {},
   "level": 4,
   "source": [
    "올바른 출력 값 : [4, 9, 16]"
   ]
  },
  {
   "cell_type": "heading",
   "metadata": {},
   "level": 2,
   "source": [
    "실습2"
   ]
  },
  {
   "cell_type": "code",
   "execution_count": null,
   "metadata": {},
   "outputs": [],
   "source": [
    "animals = ['elephant', 'lion', 'tiger', \"giraffe\"]  # create new list\n",
    "print(animals)"
   ]
  },
  {
   "cell_type": "code",
   "execution_count": null,
   "metadata": {},
   "outputs": [],
   "source": []
  },
  {
   "cell_type": "code",
   "execution_count": null,
   "metadata": {},
   "outputs": [],
   "source": [
    "# TODO animals 뒤에 [\"monkey\", 'dog']을 더하기\n",
    "print(animals)\n"
   ]
  },
  {
   "cell_type": "code",
   "execution_count": null,
   "metadata": {},
   "outputs": [],
   "source": [
    "# TODO append() method를 사용해서 animal에 \"dino\"를 더하기\n",
    "print(animals)\n"
   ]
  },
  {
   "cell_type": "code",
   "execution_count": null,
   "metadata": {},
   "outputs": [],
   "source": [
    "# TODO animal 내에 있는 ‘dino’를 dinosour로 바꾸기\n",
    "print(animals)\n"
   ]
  },
  {
   "cell_type": "code",
   "execution_count": null,
   "metadata": {},
   "outputs": [],
   "source": [
    "# TODO 한 번에 'lion' 과 'tiger'을 'cat'으로 바꾸기\n",
    "print(animals)\n"
   ]
  },
  {
   "cell_type": "code",
   "execution_count": null,
   "metadata": {},
   "outputs": [],
   "source": [
    "# 실습3\n",
    "\n",
    "\n",
    "animals = ['elephant', 'lion', 'tiger', \"giraffe\", \"monkey\", 'dog']\n",
    "print(animals)\n",
    "\n",
    "animals[1:3] = ['cat']    # replace 2 items -- 'lion' 과 'tiger' with one item -- 'cat'\n",
    "print(animals)\n",
    "\n",
    "animals[1:3] = []     # remove 2 items -- 'cat' and 'giraffe' from the list\n",
    "print(animals)\n",
    "\n",
    "clear list\n",
    "print(animals)\n"
   ]
  }
 ],
 "metadata": {
  "kernelspec": {
   "display_name": "Python 2",
   "language": "python",
   "name": "python2"
  },
  "language_info": {
   "codemirror_mode": {
    "name": "ipython",
    "version": 2
   },
   "file_extension": ".py",
   "mimetype": "text/x-python",
   "name": "python",
   "nbconvert_exporter": "python",
   "pygments_lexer": "ipython2",
   "version": "2.7.6"
  }
 },
 "nbformat": 4,
 "nbformat_minor": 0
}
