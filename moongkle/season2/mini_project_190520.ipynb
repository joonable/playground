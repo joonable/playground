{
  "cells": [
    {
      "cell_type": "code",
      "execution_count": 3,
      "metadata": {
        "collapsed": true,
        "pycharm": {
          "is_executing": false
        }
      },
      "outputs": [
        {
          "name": "stdout",
          "text": [
            "         *\n        **\n       ***\n      ****\n     *****\n    ******\n   *******\n  ********\n *********\n**********\n"
          ],
          "output_type": "stream"
        }
      ],
      "source": "N \u003d int(input())\nfor i in range(1, N+1):\n    print(\u0027 \u0027*(N-i) + \u0027*\u0027*i)"
    },
    {
      "cell_type": "code",
      "execution_count": 8,
      "outputs": [
        {
          "name": "stdout",
          "text": [
            "10\n"
          ],
          "output_type": "stream"
        }
      ],
      "source": "A \u003d input()\nB \u003d input()\nC \u003d input()\nlist_nums \u003d [A, B, C]\nlist_nums.sort()\nprint(list_nums[1])\n",
      "metadata": {
        "pycharm": {
          "metadata": false,
          "name": "#%%\n",
          "is_executing": false
        }
      }
    },
    {
      "cell_type": "code",
      "execution_count": 11,
      "outputs": [
        {
          "name": "stdout",
          "text": [
            "65.0\n"
          ],
          "output_type": "stream"
        }
      ],
      "source": "n \u003d int(input())\nlist_scores \u003d []\nfor i in range(n):\n    score \u003d int(input())\n    list_scores.append(score)\nmax_score \u003d max(list_scores)\nlist_scores \u003d [score/max_score*100 for score in list_scores]\nprint(sum(list_scores)/len(list_scores))\n",
      "metadata": {
        "pycharm": {
          "metadata": false,
          "name": "#%%\n",
          "is_executing": false
        }
      }
    },
    {
      "cell_type": "code",
      "execution_count": 15,
      "outputs": [
        {
          "name": "stdout",
          "text": [
            "mixed\n"
          ],
          "output_type": "stream"
        }
      ],
      "source": "list_codes \u003d []\n\nfor i in range(8):\n    code \u003d int(input())\n    list_codes.append(code)\n\nflag \u003d list_codes[0] \u003c list_codes[1]\n\nfor i in range(1, len(list_codes)-1):\n    if not (flag and list_codes[i] \u003c\u003d list_codes[i]):\n        flag \u003d None\n        break\n\nif flag \u003d\u003d True:\n    print(\u0027asending\u0027)\nelif flag \u003d\u003d False:\n    print(\u0027descending\u0027)\nelse:\n    print(\u0027mixed\u0027)\n    ",
      "metadata": {
        "pycharm": {
          "metadata": false,
          "name": "#%%\n",
          "is_executing": false
        }
      }
    },
    {
      "cell_type": "code",
      "execution_count": 21,
      "outputs": [
        {
          "name": "stdout",
          "text": [
            "30\n"
          ],
          "output_type": "stream"
        }
      ],
      "source": "N \u003d int(input())\nlist_quiz \u003d []\nfor i in range(N):\n    list_quiz.append(input())\n\nfor quiz in list_quiz:\n    num_o \u003d 1\n    total_score \u003d 0\n    for ch in quiz:\n        if ch \u003d\u003d \u0027O\u0027:\n            total_score +\u003d num_o\n            num_o +\u003d 1\n        else:\n            num_o \u003d 1\n    print(total_score)\n",
      "metadata": {
        "pycharm": {
          "metadata": false,
          "name": "#%%\n",
          "is_executing": false
        }
      }
    },
    {
      "cell_type": "code",
      "execution_count": null,
      "outputs": [],
      "source": "string \u003d input()\ndict_alpha \u003d {}\nfor ch in string:\n    if not ch in dict_alpha.keys():\n        dict_alpha[ch.lower()] \u003d 1\n    dict_alpha[ch.lower()] +\u003d 1\n\u0027abcA\u0027\ndict_alpha[\u0027a\u0027] \u003d1\ndict_alpha[\u0027b\u0027] \u003d1\ndict_alpha[\u0027c\u0027] \u003d1\ndict_alpha[\u0027A\u0027.lower()] +\u003d 1\n\nv \u003d list(dict_alpha.values())\nk \u003d list(dict_alpha.keys())    \nprint(k[v.index(max(v))].upper())\n",
      "metadata": {
        "pycharm": {
          "metadata": false,
          "name": "#%%\n"
        }
      }
    },
    {
      "cell_type": "code",
      "execution_count": 22,
      "outputs": [
        {
          "name": "stdout",
          "text": [
            "437\n"
          ],
          "output_type": "stream"
        }
      ],
      "source": "score_1 \u003d input()\nscore_2 \u003d input()\nscore_1 \u003d int(score_1[::-1])\nscore_2 \u003d int(score_2[::-1])\nprint(max(score_1, score_2))\n",
      "metadata": {
        "pycharm": {
          "metadata": false,
          "name": "#%%\n",
          "is_executing": false
        }
      }
    },
    {
      "cell_type": "code",
      "execution_count": null,
      "outputs": [],
      "source": "# 설탕문제\nprevW \u003d 0\nprevN \u003d 0\nweight \u003d 0\nnum_bags \u003d 0\nN \u003d int(input())\n\nwhile True:\n    weight +\u003d 5\n    num_bags +\u003d 1\n    if weight \u003d\u003d N:\n        print(num_bags)\n        exit()\n\n    if weight \u003e N:\n        weight -\u003d 5\n        num_bags -\u003d 1\n        prevW \u003d weight\n        PrevN \u003d num_bags\n        break\n        \nwhile True:\n    if weight \u003d\u003d N:\n        break\n        \n    if weight \u003e N :\n        prevW -\u003d 5 \n        PrevN -\u003d 1\n        weight \u003d prevW\n        num_bags \u003d PrevN\n        if weight \u003c 0:\n            print(-1)\n            break\n            \n    weight +\u003d 3\n    num_bags +\u003d 1\n    if weight \u003d\u003d N:\n        print(num_bags)\n        break\n    \n",
      "metadata": {
        "pycharm": {
          "metadata": false,
          "name": "#%%\n"
        }
      }
    },
    {
      "cell_type": "code",
      "execution_count": null,
      "outputs": [],
      "source": "# 다이얼 4번\ndict_alpha_num \u003d {\n    \u0027A\u0027: 2, \u0027B\u0027: 2, \u0027C\u0027: 2,\n    \u0027D\u0027: 3, \u0027E\u0027: 3, \u0027F\u0027: 3,\n    \u0027G\u0027: 4, \u0027H\u0027: 4, \u0027I\u0027: 4,\n    \u0027J\u0027: 5, \u0027K\u0027: 5, \u0027L\u0027: 5,\n    \u0027M\u0027: 6, \u0027N\u0027: 6, \u0027O\u0027: 6,\n    \u0027P\u0027: 7, \u0027Q\u0027: 7, \u0027R\u0027: 7, \u0027S\u0027: 7,\n    \u0027T\u0027: 8, \u0027U\u0027: 8, \u0027V\u0027: 8,\n    \u0027W\u0027: 9, \u0027X\u0027: 9, \u0027Y\u0027: 9, \u0027Z\u0027: 9,\n}\n\nstring \u003d input()\nlist_nums \u003d [dict_alpha_num[alpha] for alpha in string]\nlist_secs \u003d [num+2 for num in list_nums ]\nsum(list_secs)\n\n",
      "metadata": {
        "pycharm": {
          "metadata": false,
          "name": "#%%\n"
        }
      }
    },
    {
      "cell_type": "code",
      "execution_count": null,
      "outputs": [],
      "source": "import pickle\nwith open(\u0027df_data.pkl\u0027, \u0027wb\u0027) as f:\n    df_data \u003d pickle.load(f)    \n",
      "metadata": {
        "pycharm": {
          "metadata": false,
          "name": "#%%\n"
        }
      }
    },
    {
      "cell_type": "code",
      "execution_count": null,
      "outputs": [],
      "source": "import pandas as pd\ndf_data \u003d pd.read_pickle(\u0027df_data.pkl\u0027)\n\n",
      "metadata": {
        "pycharm": {
          "metadata": false,
          "name": "#%%\n"
        }
      }
    }
  ],
  "metadata": {
    "language_info": {
      "codemirror_mode": {
        "name": "ipython",
        "version": 2
      },
      "file_extension": ".py",
      "mimetype": "text/x-python",
      "name": "python",
      "nbconvert_exporter": "python",
      "pygments_lexer": "ipython2",
      "version": "2.7.6"
    },
    "kernelspec": {
      "name": "python3",
      "language": "python",
      "display_name": "Python 3"
    }
  },
  "nbformat": 4,
  "nbformat_minor": 0
}