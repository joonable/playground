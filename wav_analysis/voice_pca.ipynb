{
 "cells": [
  {
   "cell_type": "code",
   "execution_count": 1,
   "metadata": {
    "collapsed": true
   },
   "outputs": [],
   "source": [
    "from sklearn.decomposition import PCA\n",
    "import numpy as np\n",
    "from sklearn.metrics import euclidean_distances\n",
    "import pandas as pd"
   ]
  },
  {
   "cell_type": "code",
   "execution_count": 3,
   "metadata": {
    "collapsed": true
   },
   "outputs": [],
   "source": [
    "spectrogram_list = []\n",
    "for i in range(240):\n",
    "    temp = pd.read_csv('./wav_analysis/voice_specs/voice_specs_0.csv').values[:,1:]\n",
    "    spectrogram_list.append(temp)"
   ]
  },
  {
   "cell_type": "code",
   "execution_count": 4,
   "metadata": {
    "collapsed": true
   },
   "outputs": [],
   "source": [
    "distance_list = []\n",
    "sorted_distance_list = []\n",
    "arg_sort_list = []\n",
    "for spectrogram in spectrogram_list:\n",
    "    pca = PCA(2)\n",
    "    z = pca.fit_transform(spectrogram.transpose())\n",
    "    distance = euclidean_distances(z, [[0, 0]])\n",
    "    sorted_distance = np.sort(distance, axis=0)[::-1]\n",
    "    arg_sort = np.argsort(distance, axis=0)[::-1]\n",
    "    \n",
    "    distance_list.append(distance)\n",
    "    sorted_distance_list.append(sorted_distance)\n",
    "    arg_sort_list.append(arg_sort)"
   ]
  },
  {
   "cell_type": "code",
   "execution_count": null,
   "metadata": {},
   "outputs": [],
   "source": []
  }
 ],
 "metadata": {
  "kernelspec": {
   "display_name": "Python 2",
   "language": "python",
   "name": "python2"
  },
  "language_info": {
   "codemirror_mode": {
    "name": "ipython",
    "version": 2
   },
   "file_extension": ".py",
   "mimetype": "text/x-python",
   "name": "python",
   "nbconvert_exporter": "python",
   "pygments_lexer": "ipython2",
   "version": "2.7.6"
  }
 },
 "nbformat": 4,
 "nbformat_minor": 0
}
