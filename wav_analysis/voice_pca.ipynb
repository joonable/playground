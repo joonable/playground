{
 "cells": [
  {
   "cell_type": "code",
   "execution_count": 1,
   "metadata": {
    "collapsed": true
   },
   "outputs": [],
   "source": [
    "from sklearn.decomposition import PCA\n",
    "import numpy as np\n",
    "from sklearn.metrics import euclidean_distances\n",
    "import pandas as pd\n",
    "import seaborn as sns\n",
    "%matplotlib inline"
   ]
  },
  {
   "cell_type": "code",
   "execution_count": 2,
   "metadata": {
    "collapsed": true
   },
   "outputs": [],
   "source": [
    "spectrogram_list = []\n",
    "for i in range(240):\n",
    "    temp = pd.read_csv('./wav_analysis/voice_specs/voice_specs_'+str(i)+'.csv').values[:,1:]\n",
    "    spectrogram_list.append(temp)"
   ]
  },
  {
   "cell_type": "code",
   "execution_count": 3,
   "metadata": {},
   "outputs": [],
   "source": [
    "pca = PCA(3)"
   ]
  },
  {
   "cell_type": "code",
   "execution_count": 11,
   "metadata": {},
   "outputs": [],
   "source": [
    "z = pca.fit_transform(spectrogram_list[0].transpose())"
   ]
  },
  {
   "cell_type": "code",
   "execution_count": 13,
   "metadata": {},
   "outputs": [
    {
     "data": {
      "text/plain": [
       "(1292, 1292)"
      ]
     },
     "execution_count": 13,
     "metadata": {},
     "output_type": "execute_result"
    }
   ],
   "source": [
    "pca.get_precision().shape"
   ]
  },
  {
   "cell_type": "code",
   "execution_count": 14,
   "metadata": {
    "collapsed": true
   },
   "outputs": [],
   "source": [
    "distance_list = []\n",
    "sorted_distance_list = []\n",
    "arg_sort_list = []\n",
    "\n",
    "num_dimension = 3\n",
    "for spectrogram in spectrogram_list:\n",
    "    pca = PCA(num_dimension)\n",
    "    z = pca.fit_transform(spectrogram.transpose())\n",
    "    distance = euclidean_distances(z, [[0] * num_dimension])\n",
    "    sorted_distance = np.sort(distance, axis=0)[::-1].squeeze()\n",
    "    arg_sort = np.argsort(distance, axis=0)[::-1].squeeze()\n",
    "    \n",
    "    distance_list.append(distance)\n",
    "    sorted_distance_list.append(sorted_distance)\n",
    "    arg_sort_list.append(arg_sort)"
   ]
  },
  {
   "cell_type": "code",
   "execution_count": 16,
   "metadata": {},
   "outputs": [
    {
     "data": {
      "text/plain": [
       "(128,)"
      ]
     },
     "execution_count": 16,
     "metadata": {},
     "output_type": "execute_result"
    }
   ],
   "source": [
    "arg_sort_list[0].shape"
   ]
  },
  {
   "cell_type": "code",
   "execution_count": 17,
   "metadata": {
    "collapsed": true
   },
   "outputs": [
    {
     "data": {
      "text/plain": [
       "array([[ 190.25847664],\n       [ 190.1543271 ],\n       [ 190.08859437],\n       [ 189.90476553],\n       [ 185.48289948],\n       [ 155.12907722],\n       [1359.86997003],\n       [5282.7213257 ],\n       [5989.700783  ],\n       [7691.19958471],\n       [5033.93616474],\n       [6080.63235167],\n       [1312.20522674],\n       [ 223.89479089],\n       [ 333.25533325],\n       [ 311.02348665],\n       [ 239.0691476 ],\n       [ 254.51488094],\n       [ 132.3668249 ],\n       [ 169.93447319],\n       [ 160.54249404],\n       [ 120.94461209],\n       [ 142.12062104],\n       [ 151.8028661 ],\n       [ 150.91758435],\n       [ 156.63992419],\n       [ 152.39785395],\n       [ 161.96645262],\n       [ 166.42579162],\n       [ 154.07359524],\n       [ 147.82635547],\n       [ 133.75178654],\n       [ 128.6141988 ],\n       [ 141.95740394],\n       [ 146.95846219],\n       [ 140.23031089],\n       [ 149.93883172],\n       [ 156.54975674],\n       [ 167.57474196],\n       [ 164.33891143],\n       [ 164.04258452],\n       [ 161.33174841],\n       [ 155.65165241],\n       [ 157.23295712],\n       [ 170.81327178],\n       [ 174.05702633],\n       [ 176.88644687],\n       [ 174.57553873],\n       [ 176.71371396],\n       [ 182.92807855],\n       [ 186.18144991],\n       [ 184.89365971],\n       [ 185.91617849],\n       [ 186.95963366],\n       [ 188.0886765 ],\n       [ 186.45137185],\n       [ 182.59541908],\n       [ 182.83923059],\n       [ 184.01536486],\n       [ 187.6924166 ],\n       [ 185.51516926],\n       [ 184.21887713],\n       [ 186.19213266],\n       [ 186.32520102],\n       [ 186.89062631],\n       [ 187.39088008],\n       [ 188.89721043],\n       [ 189.61741443],\n       [ 189.30472106],\n       [ 188.74416171],\n       [ 188.85283434],\n       [ 189.13551422],\n       [ 188.97506441],\n       [ 188.60524624],\n       [ 189.25641041],\n       [ 189.4102749 ],\n       [ 189.57016335],\n       [ 189.66413691],\n       [ 189.24684992],\n       [ 189.0504842 ],\n       [ 189.76667761],\n       [ 189.97766468],\n       [ 190.23772186],\n       [ 190.34354437],\n       [ 190.44064446],\n       [ 190.45927118],\n       [ 190.42698827],\n       [ 190.38429076],\n       [ 190.34245234],\n       [ 190.28795753],\n       [ 190.17745533],\n       [ 190.14372952],\n       [ 190.09920164],\n       [ 190.27176986],\n       [ 190.40963998],\n       [ 190.40586508],\n       [ 190.395863  ],\n       [ 190.36785427],\n       [ 190.36925576],\n       [ 190.35232202],\n       [ 190.37871289],\n       [ 190.4159636 ],\n       [ 190.42138395],\n       [ 190.36378094],\n       [ 190.41408267],\n       [ 190.45918569],\n       [ 190.46421775],\n       [ 190.47787558],\n       [ 190.48641279],\n       [ 190.50103003],\n       [ 190.44544834],\n       [ 190.46402679],\n       [ 190.49466915],\n       [ 190.50026948],\n       [ 190.47483401],\n       [ 190.47213048],\n       [ 190.49661336],\n       [ 190.52815284],\n       [ 190.56001936],\n       [ 190.55674639],\n       [ 190.5533464 ],\n       [ 190.55374257],\n       [ 190.55841531],\n       [ 190.55275411],\n       [ 190.55880413],\n       [ 190.5652823 ],\n       [ 190.57554737],\n       [ 190.58281322]])"
      ]
     },
     "execution_count": 17,
     "metadata": {},
     "output_type": "execute_result"
    }
   ],
   "source": [
    "distance_list[0]"
   ]
  },
  {
   "cell_type": "code",
   "execution_count": 57,
   "metadata": {},
   "outputs": [
    {
     "data": {
      "text/plain": [
       "array([  9,   8,  11,   7,  10,   6,  12,  14,  15,  17,  13,  16,  20,\n         5, 127, 126, 125, 118, 124, 122, 119, 120, 121, 123, 117, 113,\n       109, 116, 112, 108, 114, 107, 115, 111, 106,  85, 105, 110,  84,\n        86, 102,  95, 101, 104,  94,  96,  87, 100,  97,  98, 103,  99,\n        83,  88,  89,  93,   0,  82,  90,   1,  91,  92,   2,  81,   3,\n        80,  77,  67,  76,  75,  68,  74,  78,  71,  79,  66,  72,  70,\n        69,  73,  54,  59,  65,  53,  64,  55,  63,  50,  62,  52,  60,\n         4,  51,  61,  58,  49,  57,  56,  18,  46,  48,  47,  45,  44,\n        19,  38,  25,  26,  28,  27,  39,  40,  41,  37,  24,  43,  36,\n        42,  29,  23,  30,  34,  35,  21,  33,  22,  31,  32])"
      ]
     },
     "execution_count": 57,
     "metadata": {},
     "output_type": "execute_result"
    }
   ],
   "source": [
    "arg_sort_list[0]"
   ]
  },
  {
   "cell_type": "code",
   "execution_count": null,
   "metadata": {},
   "outputs": [],
   "source": [
    "important_freq_list = []\n",
    "for arg_sort in arg_sort_list:\n",
    "    important_freq_list.extend(arg_sort[:10])"
   ]
  },
  {
   "cell_type": "code",
   "execution_count": null,
   "metadata": {},
   "outputs": [],
   "source": [
    "from collections import Counter\n",
    "counter = Counter(important_freq_list)"
   ]
  },
  {
   "cell_type": "code",
   "execution_count": 32,
   "metadata": {},
   "outputs": [
    {
     "data": {
      "text/plain": [
       "array([6932.52224236, 5784.89878337, 5002.47788658, 4836.49340123,\n       3735.83904418,  925.47759001,  746.73510944,  249.72552717,\n        236.39181144,  232.164818  ])"
      ]
     },
     "execution_count": 32,
     "metadata": {},
     "output_type": "execute_result"
    }
   ],
   "source": [
    "sorted_distance_list[0][:10]"
   ]
  },
  {
   "cell_type": "code",
   "execution_count": 24,
   "metadata": {},
   "outputs": [
    {
     "data": {
      "text/plain": [
       "array([ 9,  8, 10, 11,  7, 12,  6, 17, 15, 14])"
      ]
     },
     "execution_count": 24,
     "metadata": {},
     "output_type": "execute_result"
    }
   ],
   "source": [
    "arg_sort_list[0][:10].squeeze()"
   ]
  },
  {
   "cell_type": "code",
   "execution_count": 34,
   "metadata": {},
   "outputs": [
    {
     "data": {
      "text/plain": [
       "(128,)"
      ]
     },
     "execution_count": 34,
     "metadata": {},
     "output_type": "execute_result"
    }
   ],
   "source": [
    "spectrogram"
   ]
  },
  {
   "cell_type": "code",
   "execution_count": 33,
   "metadata": {},
   "outputs": [
    {
     "name": "stderr",
     "output_type": "stream",
     "text": [
      "/Users/joonyoungjeon/anaconda/lib/python3.6/site-packages/seaborn/categorical.py:1428: FutureWarning: remove_na is deprecated and is a private function. Do not use.\n  stat_data = remove_na(group_data)\n"
     ]
    },
    {
     "data": {
      "text/plain": [
       "<matplotlib.axes._subplots.AxesSubplot at 0x1a32f75be0>"
      ]
     },
     "execution_count": 33,
     "metadata": {},
     "output_type": "execute_result"
    },
    {
     "data": {
      "image/png": "[encoded data removed]",
      "text/plain": [
       "<Figure size 432x288 with 1 Axes>"
      ]
     },
     "metadata": {},
     "output_type": "display_data"
    }
   ],
   "source": [
    "sns.barplot(x=list(range(10)), y = sorted_distance_list[0][:10])"
   ]
  },
  {
   "cell_type": "code",
   "execution_count": 8,
   "metadata": {},
   "outputs": [
    {
     "data": {
      "text/plain": [
       "(1292, 1)"
      ]
     },
     "execution_count": 8,
     "metadata": {},
     "output_type": "execute_result"
    }
   ],
   "source": [
    "sorted_distance_list[0].shape"
   ]
  },
  {
   "cell_type": "code",
   "execution_count": 9,
   "metadata": {},
   "outputs": [
    {
     "data": {
      "text/plain": [
       "array([[1457.30604643],\n       [1415.82184372],\n       [1386.30155913],\n       ...,\n       [  25.81269409],\n       [  17.27660886],\n       [  16.69183724]])"
      ]
     },
     "execution_count": 9,
     "metadata": {},
     "output_type": "execute_result"
    }
   ],
   "source": [
    "sorted_distance_list[0]"
   ]
  },
  {
   "cell_type": "code",
   "execution_count": 5,
   "metadata": {},
   "outputs": [
    {
     "data": {
      "text/plain": [
       "(128, 1)"
      ]
     },
     "execution_count": 5,
     "metadata": {},
     "output_type": "execute_result"
    }
   ],
   "source": [
    "distance_list[0].shape"
   ]
  },
  {
   "cell_type": "code",
   "execution_count": null,
   "metadata": {},
   "outputs": [],
   "source": [
    "pca = PCA(2)\n",
    "z = pca.fit_transform(spectrogram.transpose())"
   ]
  }
 ],
 "metadata": {
  "kernelspec": {
   "display_name": "Python 2",
   "language": "python",
   "name": "python2"
  },
  "language_info": {
   "codemirror_mode": {
    "name": "ipython",
    "version": 2
   },
   "file_extension": ".py",
   "mimetype": "text/x-python",
   "name": "python",
   "nbconvert_exporter": "python",
   "pygments_lexer": "ipython2",
   "version": "2.7.6"
  }
 },
 "nbformat": 4,
 "nbformat_minor": 0
}
