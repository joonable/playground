{
 "cells": [
  {
   "cell_type": "code",
   "execution_count": null,
   "metadata": {
    "collapsed": true
   },
   "outputs": [],
   "source": [
    "import pandas as pd\n",
    "import re\n",
    "from itertools import chain"
   ]
  },
  {
   "cell_type": "code",
   "execution_count": null,
   "metadata": {},
   "outputs": [],
   "source": [
    "customer_text = [x.split() for x in df.customer_text.tolist() if x != None]\n",
    "gs_text = [x.split() for x in df.gs_text.tolist() if x != None]\n",
    "\n",
    "customer_text = [x.split() for x in df.customer_text.tolist() if x != None]\n",
    "gs_text = [x.split() for x in df.gs_text.tolist() if x != None]\n",
    "\n"
   ]
  },
  {
   "cell_type": "code",
   "execution_count": null,
   "metadata": {},
   "outputs": [],
   "source": [
    "corpus_text = customer_text + gs_text\n",
    "corpus_text = [x for x in chain(*corpus_text)]\n",
    "corpus_text = list(set(corpus_text))\n",
    "\n"
   ]
  },
  {
   "cell_type": "code",
   "execution_count": null,
   "metadata": {},
   "outputs": [],
   "source": [
    "kg_name_list = ['킬로', '키로', 'kg', '키로그램', '킬로그램']\n",
    "kg_list = []\n",
    "for kg in kg_name_list:\n",
    "    kg_list_temp = [x for x in corpus_text if kg in x.lower()]\n",
    "    kg_list_temp = [re.search(pattern='((\\d)+\\.)*(\\d)+'+kg, string=x.lower()).group(0) for x in kg_list_temp if re.search(pattern='((\\d)+\\.)*(\\d)+'+kg, string=x.lower())]\n",
    "    kg_list_temp = [re.sub(kg, \"\", x) for x in kg_list_temp]\n",
    "    kg_list = kg_list + kg_list_temp\n",
    "kg_list = list(set(kg_list))"
   ]
  },
  {
   "cell_type": "code",
   "execution_count": null,
   "metadata": {},
   "outputs": [],
   "source": [
    "for x in range(101):\n",
    "    kg_list.append(str(x))\n",
    "    for y in range(10):\n",
    "        num = str(x) + '.' + str(y)\n",
    "        kg_list.append(num)\n",
    "kg_list = list(set(kg_list))"
   ]
  },
  {
   "cell_type": "code",
   "execution_count": null,
   "metadata": {},
   "outputs": [],
   "source": [
    "kg_vocab = []\n",
    "for kg in kg_list:\n",
    "    kg_vocab.append(kg)\n",
    "    for kg_nm in kg_name_list:\n",
    "        kg_vocab.append(kg + kg_nm)"
   ]
  },
  {
   "cell_type": "code",
   "execution_count": null,
   "metadata": {},
   "outputs": [],
   "source": [
    "g_name_list = ['그람', '그램', 'g', 'gram']\n",
    "g_list = []\n",
    "for kg in g_name_list:\n",
    "    g_list_temp = [x for x in corpus_text if kg in x.lower()]\n",
    "    kg_list_temp = [re.search(pattern='((\\d)+\\.)*(\\d)+'+kg, string=x.lower()).group(0) for x in kg_list_temp if re.search(pattern='((\\d)+\\.)*(\\d)+'+kg, string=x.lower())]\n",
    "    kg_list_temp = [re.sub(kg, \"\", x) for x in kg_list_temp]\n",
    "    g_name_list = g_name_list + kg_list_temp\n",
    "kg_list = list(set(kg_list))\n",
    "\n"
   ]
  },
  {
   "cell_type": "code",
   "execution_count": null,
   "metadata": {},
   "outputs": [],
   "source": [
    "len(corpus_text)"
   ]
  },
  {
   "cell_type": "code",
   "execution_count": null,
   "metadata": {},
   "outputs": [],
   "source": []
  }
 ],
 "metadata": {
  "kernelspec": {
   "display_name": "Python 2",
   "language": "python",
   "name": "python2"
  },
  "language_info": {
   "codemirror_mode": {
    "name": "ipython",
    "version": 2
   },
   "file_extension": ".py",
   "mimetype": "text/x-python",
   "name": "python",
   "nbconvert_exporter": "python",
   "pygments_lexer": "ipython2",
   "version": "2.7.6"
  }
 },
 "nbformat": 4,
 "nbformat_minor": 0
}
