{
 "cells": [
  {
   "cell_type": "code",
   "execution_count": 1,
   "metadata": {
    "collapsed": true
   },
   "outputs": [],
   "source": [
    "import pandas as pd\n",
    "import re\n",
    "from itertools import chain"
   ]
  },
  {
   "cell_type": "code",
   "execution_count": 2,
   "metadata": {},
   "outputs": [],
   "source": [
    "dt = '20190130'\n",
    "data_dir = '/home/admin-/Documents/dict_data/'+dt+'/'\n",
    "user_dict_names = ['colour_synonyms_dict_' + dt + '.txt', 'candidate_synonyms_final_' + dt + '.tsv']"
   ]
  },
  {
   "cell_type": "code",
   "execution_count": 35,
   "metadata": {},
   "outputs": [],
   "source": [
    "def get_synonyms_dicts(user_dict_names):\n",
    "    df_synonyms_dicts = pd.DataFrame()\n",
    "    for user_dict in user_dict_names:\n",
    "        file_path = data_dir + user_dict\n",
    "    \n",
    "        if file_path.endswith('.tsv'):\n",
    "            with open(file_path) as f:\n",
    "                lines_list = f.readlines()\n",
    "            lines_list = [line.rstrip() for line in lines_list]\n",
    "            new_lines_list = []\n",
    "            for line in lines_list:\n",
    "                re_group = re.split('\\t', line)\n",
    "                representative = re_group[0]\n",
    "                synonyms = ', '.join(re_group[1].split())\n",
    "                new_line = str(synonyms + \" => \" + representative)\n",
    "                new_lines_list.append(new_line)\n",
    "            df_temp = pd.DataFrame(new_lines_list, columns=['line'])\n",
    "        else:\n",
    "            df_temp = pd.read_csv(file_path, names=['line'])\n",
    "            \n",
    "        df_synonyms_dicts = df_synonyms_dicts.append(df_temp)\n",
    "        sr_synonyms_dicts = df_synonyms_dicts.line.drop_duplicates().sort_values().reset_index(drop=True)\n",
    "    return sr_synonyms_dicts"
   ]
  },
  {
   "cell_type": "code",
   "execution_count": 36,
   "metadata": {},
   "outputs": [],
   "source": [
    "sr_synonyms_dicts = get_synonyms_dicts(user_dict_names)"
   ]
  },
  {
   "cell_type": "code",
   "execution_count": 46,
   "metadata": {},
   "outputs": [],
   "source": [
    "# sr_synonyms_dicts[:10]\n",
    "sr_synonyms_dicts = sr_synonyms_dicts.astype('str')\n",
    "sr_synonyms_dicts = sr_synonyms_dicts.apply(lambda x: x.lower())\n"
   ]
  },
  {
   "cell_type": "code",
   "execution_count": 47,
   "metadata": {},
   "outputs": [
    {
     "data": {
      "text/plain": [
       "'frilled, frill, 후릴 => 프릴'"
      ]
     },
     "execution_count": 47,
     "metadata": {},
     "output_type": "execute_result"
    }
   ],
   "source": [
    "sr_synonyms_dicts[3]"
   ]
  },
  {
   "cell_type": "code",
   "execution_count": 48,
   "metadata": {},
   "outputs": [],
   "source": [
    "sr_synonyms_dicts.to_csv(data_dir + 'synonyms_dict_' + dt + '.txt', index=False)"
   ]
  }
 ],
 "metadata": {
  "kernelspec": {
   "display_name": "Python 2",
   "language": "python",
   "name": "python2"
  },
  "language_info": {
   "codemirror_mode": {
    "name": "ipython",
    "version": 2
   },
   "file_extension": ".py",
   "mimetype": "text/x-python",
   "name": "python",
   "nbconvert_exporter": "python",
   "pygments_lexer": "ipython2",
   "version": "2.7.6"
  }
 },
 "nbformat": 4,
 "nbformat_minor": 0
}
