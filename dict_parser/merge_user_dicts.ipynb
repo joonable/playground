{
 "cells": [
  {
   "cell_type": "code",
   "execution_count": 2,
   "metadata": {
    "collapsed": true
   },
   "outputs": [],
   "source": [
    "import pandas as pd\n",
    "import re\n",
    "from itertools import chain"
   ]
  },
  {
   "cell_type": "code",
   "execution_count": 29,
   "metadata": {},
   "outputs": [],
   "source": [
    "data_dir = '/home/admin-/Documents/dict_data/'\n",
    "dt = '20190130'\n",
    "user_dict_names = ['colour_user_dict_' + dt + '.txt', 'freq_user_dict_' + dt + '.txt']"
   ]
  },
  {
   "cell_type": "code",
   "execution_count": 24,
   "metadata": {},
   "outputs": [],
   "source": [
    "def get_user_dicts(user_dict_names):\n",
    "    sr_user_dicts = pd.Series()\n",
    "    for user_dict in user_dict_names:\n",
    "        file_path = data_dir + user_dict\n",
    "        sr_user_dicts = sr_user_dicts.append(pd.read_csv(file_path, names=['line']))\n",
    "    return sr_user_dicts"
   ]
  },
  {
   "cell_type": "code",
   "execution_count": 35,
   "metadata": {},
   "outputs": [
    {
     "name": "stderr",
     "output_type": "stream",
     "text": [
      "/home/admin-/anaconda3/lib/python3.6/site-packages/pandas/core/frame.py:6201: FutureWarning: Sorting because non-concatenation axis is not aligned. A future version\nof pandas will change to not sort by default.\n\nTo accept the future behavior, pass 'sort=True'.\n\nTo retain the current behavior and silence the warning, pass sort=False\n\n  sort=sort)\n"
     ]
    }
   ],
   "source": [
    "sr_user_dicts = get_user_dicts(user_dict_names)"
   ]
  },
  {
   "cell_type": "code",
   "execution_count": 36,
   "metadata": {},
   "outputs": [],
   "source": [
    "sr_user_dicts = sr_user_dicts.line.drop_duplicates().sort_values()\n"
   ]
  },
  {
   "cell_type": "code",
   "execution_count": 38,
   "metadata": {},
   "outputs": [],
   "source": [
    "def drop_duplicates_data(sr_user_dicts):\n",
    "    drop_index_list = []\n",
    "\n",
    "    for i in range(len(sr_user_dicts)-1):\n",
    "        if i == len(sr_user_dicts)-1: \n",
    "            break\n",
    "        prev = sr_user_dicts[i].split()\n",
    "        nex = sr_user_dicts[i+1].split()\n",
    "        if prev[0] == nex[0]:\n",
    "            drop_index_list.append(i)\n",
    "    \n",
    "    sr_user_dicts = sr_user_dicts.drop(drop_index_list).reset_index(drop=True)\n",
    "    return sr_user_dicts"
   ]
  },
  {
   "cell_type": "code",
   "execution_count": 39,
   "metadata": {},
   "outputs": [],
   "source": [
    "sr_user_dicts = drop_duplicates_data(sr_user_dicts)"
   ]
  },
  {
   "cell_type": "code",
   "execution_count": 40,
   "metadata": {},
   "outputs": [],
   "source": [
    "sr_user_dicts.to_csv(data_dir + 'user_dict_' + dt + '.txt', index=False)"
   ]
  },
  {
   "cell_type": "code",
   "execution_count": null,
   "metadata": {},
   "outputs": [],
   "source": []
  }
 ],
 "metadata": {
  "kernelspec": {
   "display_name": "Python 2",
   "language": "python",
   "name": "python2"
  },
  "language_info": {
   "codemirror_mode": {
    "name": "ipython",
    "version": 2
   },
   "file_extension": ".py",
   "mimetype": "text/x-python",
   "name": "python",
   "nbconvert_exporter": "python",
   "pygments_lexer": "ipython2",
   "version": "2.7.6"
  }
 },
 "nbformat": 4,
 "nbformat_minor": 0
}
