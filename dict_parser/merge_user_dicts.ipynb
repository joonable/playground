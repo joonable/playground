{
 "cells": [
  {
   "cell_type": "code",
   "execution_count": 1,
   "metadata": {
    "collapsed": true
   },
   "outputs": [],
   "source": [
    "import pandas as pd\n",
    "import re\n",
    "from itertools import chain"
   ]
  },
  {
   "cell_type": "code",
   "execution_count": 2,
   "metadata": {},
   "outputs": [],
   "source": [
    "dt = '20190130'\n",
    "data_dir = '/home/admin-/Documents/dict_data/' + dt +'/'\n",
    "user_dict_names = ['colour_user_dict_' + dt + '.txt', 'candidate_user_dict_final_' + dt + '.txt']\n",
    "# user_dict_names = ['colour_user_dict_'+ dt +'.txt', 'freq_user_dict_'+dt+'.txt', 'candidate_user_dict_final_' + dt + '.txt']\n",
    "# candidate_user_dict_final_20190130 .txt\n",
    "# freq_user_dict_20190130.txt"
   ]
  },
  {
   "cell_type": "code",
   "execution_count": 7,
   "metadata": {},
   "outputs": [],
   "source": [
    "# 필요한 사용자 사전을 모두 합침\n",
    "def get_user_dicts(user_dict_names):\n",
    "    df_users = pd.DataFrame()\n",
    "    for user_dict in user_dict_names:\n",
    "        file_path = data_dir + user_dict\n",
    "        df_users = df_users.append(pd.read_csv(file_path, names=['word']))\n",
    "    df_users = df_users.reset_index(drop=True)\n",
    "    return df_users"
   ]
  },
  {
   "cell_type": "code",
   "execution_count": 8,
   "metadata": {},
   "outputs": [
    {
     "data": {
      "text/plain": [
       "pandas.core.frame.DataFrame"
      ]
     },
     "execution_count": 8,
     "metadata": {},
     "output_type": "execute_result"
    }
   ],
   "source": [
    "df_users = get_user_dicts(user_dict_names)\n",
    "type(df_users)"
   ]
  },
  {
   "cell_type": "code",
   "execution_count": 9,
   "metadata": {
    "collapsed": true
   },
   "outputs": [
    {
     "data": {
      "text/plain": [
       "0         회색 회색 색\n1       회색깔 회색 색깔\n2      회색색상 회색 색상\n3      회색칼라 회색 칼라\n4      회색컬러 회색 컬러\n5      그래이색 그래이 색\n6    그래이색깔 그래이 색깔\n7    그래이색상 그래이 색상\n8    그래이칼라 그래이 칼라\n9    그래이컬러 그래이 컬러\nName: word, dtype: object"
      ]
     },
     "execution_count": 9,
     "metadata": {},
     "output_type": "execute_result"
    }
   ],
   "source": [
    "# candidate_user_dict_final_20190130 \n",
    "df_users.word[:10]"
   ]
  },
  {
   "cell_type": "code",
   "execution_count": 10,
   "metadata": {},
   "outputs": [],
   "source": [
    "df_users.word = df_users.word.astype('str')\n",
    "df_users.word = df_users.word.apply(lambda x: x.lower())\n",
    "df_users = df_users.drop_duplicates().sort_values(by=['word'])\n",
    "df_users = df_users.reset_index(drop=True)\n",
    "# sr_user_dicts = df_user_dicts.line"
   ]
  },
  {
   "cell_type": "code",
   "execution_count": 12,
   "metadata": {},
   "outputs": [
    {
     "name": "stderr",
     "output_type": "stream",
     "text": [
      "/home/admin-/anaconda3/lib/python3.6/site-packages/ipykernel_launcher.py:2: ParserWarning: Falling back to the 'python' engine because the 'c' engine does not support regex separators (separators > 1 char and different from '\\s+' are interpreted as regex); you can avoid this warning by specifying engine='python'.\n  \n/home/admin-/anaconda3/lib/python3.6/site-packages/pandas/core/frame.py:6201: FutureWarning: Sorting because non-concatenation axis is not aligned. A future version\nof pandas will change to not sort by default.\n\nTo accept the future behavior, pass 'sort=True'.\n\nTo retain the current behavior and silence the warning, pass sort=False\n\n  sort=sort)\n"
     ]
    }
   ],
   "source": [
    "# df_users\n",
    "df_synonyms = pd.read_csv(data_dir+'synonyms_dict_'+dt+'.txt', sep=' => ', names=['synonyms', 'word'], doublequote=False)\n",
    "df_synonyms.synonyms = df_synonyms.synonyms.apply(lambda x: re.sub('\\\"', '', x))\n",
    "df_synonyms.word = df_synonyms.word.apply(lambda x: re.sub('\\\"', '', x))\n",
    "df = df_synonyms.append(df_users, ignore_index=True).reset_index(drop=True)"
   ]
  },
  {
   "cell_type": "code",
   "execution_count": 13,
   "metadata": {
    "collapsed": true
   },
   "outputs": [
    {
     "data": {
      "text/plain": [
       "0         이중\n1        사계절\n2         체리\n3         프릴\n4         조이\n5         일본\n6        에이지\n7    에이지투웨니스\n8         에어\n9         알리\nName: word, dtype: object"
      ]
     },
     "execution_count": 13,
     "metadata": {},
     "output_type": "execute_result"
    }
   ],
   "source": [
    "df.word[:10]\n"
   ]
  },
  {
   "cell_type": "code",
   "execution_count": 14,
   "metadata": {},
   "outputs": [
    {
     "data": {
      "text/plain": [
       "0                                                   2중\n1                                                  4계절\n2                                           cherry, 채리\n3                                   frilled, frill, 후릴\n4                                              joy, 죠이\n5                            japan, 재팬, 재펜, 저팬, 제팬, 제펜\n6                                                  age\n7    age20s, 에이지투웨니즈, 에이지트웨니스, 에이지투웨이스, 애이지투웨니스, 애이...\n8                                                  air\n9                                                  ali\nName: synonyms, dtype: object"
      ]
     },
     "execution_count": 14,
     "metadata": {},
     "output_type": "execute_result"
    }
   ],
   "source": [
    "df.synonyms[:10]"
   ]
  },
  {
   "cell_type": "code",
   "execution_count": 15,
   "metadata": {},
   "outputs": [
    {
     "data": {
      "text/plain": [
       "str"
      ]
     },
     "execution_count": 15,
     "metadata": {},
     "output_type": "execute_result"
    }
   ],
   "source": [
    "df = df.sort_values(by=['word']).reset_index(drop=True)\n",
    "df.synonyms = df.synonyms.astype('str')\n",
    "df.synonyms = df.synonyms.fillna(value=0)\n",
    "type(df.synonyms[1])"
   ]
  },
  {
   "cell_type": "code",
   "execution_count": 16,
   "metadata": {},
   "outputs": [],
   "source": [
    "df['line'] = None\n",
    "\n",
    "\n",
    "def word_and_synonyms(row):\n",
    "    temp_str = row['word']\n",
    "    if row['synonyms'] != 'nan':\n",
    "        temp_list = [temp_str] + row['synonyms'].split(\", \")\n",
    "    else:\n",
    "        temp_list = [temp_str]\n",
    "    row['line'] = temp_list\n",
    "    return row\n",
    "\n",
    "\n",
    "df = df.apply(lambda row: word_and_synonyms(row), axis=1)"
   ]
  },
  {
   "cell_type": "code",
   "execution_count": 17,
   "metadata": {},
   "outputs": [
    {
     "data": {
      "text/plain": [
       "1360                                [초등학생, 초등생]\n299                                        [들깨]\n298                                 [드림, dream]\n1069                                    [여성청결제]\n1555                                    [트레이닝복]\n50                                        [건강즙]\n382                                       [만년필]\n532                                  [반짝이, 빤짝이]\n648                              [부라운칼라 부라운 칼라]\n680                       [브랜드, brand, 브렌드, 상표]\n827                              [소가죽, 쇠가죽, 우피]\n1071    [여아, 여아동, 여자아이, 여자애, 여자어린이, 여쥬니어, 여주니어]\n1366                         [초이스, choice, 쵸이스]\n214                   [노랑, yellow, 노란, 옐로, 옐로우]\n1398                               [카키색상 카키 색상]\n278                                [도톰, 도툼, 두툼]\n572                                  [버건디, 와인색]\n806                                [세안, 세면, 세수]\n1302                                     [중고도서]\n1256                                      [전동차]\nName: line, dtype: object"
      ]
     },
     "execution_count": 17,
     "metadata": {},
     "output_type": "execute_result"
    }
   ],
   "source": [
    "df.line.sample(20)"
   ]
  },
  {
   "cell_type": "code",
   "execution_count": 18,
   "metadata": {},
   "outputs": [],
   "source": [
    "user_words_list = df.line.tolist()\n",
    "user_words_list = [_.lower() for _ in chain(*user_words_list)]\n",
    "sr_user_dicts = pd.Series(user_words_list, name='word').sort_values().reset_index(drop=True)\n",
    "sr_user_dicts = sr_user_dicts.astype('str')\n"
   ]
  },
  {
   "cell_type": "code",
   "execution_count": 19,
   "metadata": {
    "collapsed": true
   },
   "outputs": [
    {
     "data": {
      "text/plain": [
       "3167"
      ]
     },
     "execution_count": 19,
     "metadata": {},
     "output_type": "execute_result"
    }
   ],
   "source": [
    "len(sr_user_dicts)"
   ]
  },
  {
   "cell_type": "code",
   "execution_count": 20,
   "metadata": {},
   "outputs": [],
   "source": [
    "# user_dict 내\n",
    "# ln 1:운동화\n",
    "# ln 2:운동화 운동 신발 \n",
    "# 같은 경우를 없앰\n",
    "\n",
    "def drop_duplicates_data(sr_user_dicts):\n",
    "    drop_index_list = []\n",
    "\n",
    "    for i in range(len(sr_user_dicts)-1):\n",
    "        if i == len(sr_user_dicts)-1: \n",
    "            break\n",
    "        prev = sr_user_dicts[i].split(\" \")\n",
    "        nex = sr_user_dicts[i+1].split(\" \")\n",
    "        if prev[0] == nex[0]:\n",
    "            drop_index_list.append(i)\n",
    "    \n",
    "    sr_user_dicts = sr_user_dicts.drop(drop_index_list).reset_index(drop=True)\n",
    "    return sr_user_dicts"
   ]
  },
  {
   "cell_type": "code",
   "execution_count": 21,
   "metadata": {},
   "outputs": [
    {
     "data": {
      "text/plain": [
       "3038"
      ]
     },
     "execution_count": 21,
     "metadata": {},
     "output_type": "execute_result"
    }
   ],
   "source": [
    "sr_user_dicts = drop_duplicates_data(sr_user_dicts)\n",
    "len(sr_user_dicts)"
   ]
  },
  {
   "cell_type": "code",
   "execution_count": 45,
   "metadata": {
    "collapsed": true
   },
   "outputs": [
    {
     "data": {
      "text/plain": [
       "1109          바이올렉\n535             곶감\n1920           야구공\n1248            벨트\n2564             크\n620      남색깔 남색 색깔\n803             등산\n2941            헤어\n2332            참깨\n1260           보냉병\n1472            상표\n1393          블루레이\n1688          스케처스\n1835          쓰래기통\n305          round\n2025         오리털다운\n2955           호박씨\n2034           온도계\n426            wow\n2119           위생대\n2838     풋살화 풋살 신발\n654            냉풍기\n1857           아동용\n2394           츄니닝\n1541         섬유유연재\n47        buttoned\n491     검정색깔 검정 색깔\n3027       흰색 흰색 색\n185            kit\n346     smartphone\nName: word, dtype: object"
      ]
     },
     "execution_count": 45,
     "metadata": {},
     "output_type": "execute_result"
    }
   ],
   "source": [
    "sr_user_dicts.sample(30)"
   ]
  },
  {
   "cell_type": "code",
   "execution_count": 34,
   "metadata": {
    "collapsed": true
   },
   "outputs": [
    {
     "data": {
      "text/plain": [
       "3038"
      ]
     },
     "execution_count": 34,
     "metadata": {},
     "output_type": "execute_result"
    }
   ],
   "source": [
    "len(user_words_list)"
   ]
  },
  {
   "cell_type": "code",
   "execution_count": 37,
   "metadata": {
    "collapsed": true
   },
   "outputs": [],
   "source": [
    "prev_syns_list = []\n",
    "new_user_words_list = []\n",
    "\n",
    "user_words_list = sr_user_dicts.tolist()\n",
    "user_words_list = [user_word.split() for user_word in user_words_list]\n",
    "for user_word_list in user_words_list:\n",
    "    word = user_word_list[0]\n",
    "    new_line = word\n",
    "    if len(user_word_list) == 1:\n",
    "        pass\n",
    "    else:\n",
    "        if word != \"\".join(user_word_list[1:]):\n",
    "            prev_syns_list.append(word + \" => \" + \", \".join(user_word_list[1:]))\n",
    "        else:\n",
    "            new_line = \" \".join(user_word_list)\n",
    "    new_user_words_list.append(new_line)"
   ]
  },
  {
   "cell_type": "code",
   "execution_count": 61,
   "metadata": {
    "collapsed": true
   },
   "outputs": [],
   "source": [
    "sr_prev_syns = pd.Series(prev_syns_list)"
   ]
  },
  {
   "cell_type": "code",
   "execution_count": 60,
   "metadata": {},
   "outputs": [],
   "source": [
    "sr_user_dicts = pd.Series(new_user_words_list)"
   ]
  },
  {
   "cell_type": "code",
   "execution_count": 66,
   "metadata": {},
   "outputs": [],
   "source": [
    "sr_user_dicts.to_csv(data_dir + 'user_dict_' + dt + '.txt', index=False)"
   ]
  },
  {
   "cell_type": "code",
   "execution_count": 67,
   "metadata": {
    "collapsed": true
   },
   "outputs": [],
   "source": [
    "sr_prev_syns.to_csv(data_dir + 'prev_synonyms_dict_' + dt + '.txt', index=False)"
   ]
  }
 ],
 "metadata": {
  "kernelspec": {
   "display_name": "Python 2",
   "language": "python",
   "name": "python2"
  },
  "language_info": {
   "codemirror_mode": {
    "name": "ipython",
    "version": 2
   },
   "file_extension": ".py",
   "mimetype": "text/x-python",
   "name": "python",
   "nbconvert_exporter": "python",
   "pygments_lexer": "ipython2",
   "version": "2.7.6"
  }
 },
 "nbformat": 4,
 "nbformat_minor": 0
}
