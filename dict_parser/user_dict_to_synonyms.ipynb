{
 "cells": [
  {
   "cell_type": "code",
   "execution_count": 33,
   "metadata": {
    "collapsed": true
   },
   "outputs": [],
   "source": [
    "import pandas as pd\n",
    "import re\n",
    "from itertools import chain"
   ]
  },
  {
   "cell_type": "code",
   "execution_count": 43,
   "metadata": {},
   "outputs": [],
   "source": [
    "dt = '20190130'\n",
    "data_dir = '/home/admin-/Documents/dict_data/'+dt+'/'"
   ]
  },
  {
   "cell_type": "code",
   "execution_count": 44,
   "metadata": {},
   "outputs": [],
   "source": [
    "sr_user_dicts = pd.read_csv(data_dir + 'user_dict_' + dt + '.txt', names=['word'])"
   ]
  },
  {
   "cell_type": "code",
   "execution_count": 48,
   "metadata": {},
   "outputs": [],
   "source": [
    "sr_user_dicts.word = sr_user_dicts.word.astype('str')\n",
    "user_words_list = sr_user_dicts.word.tolist()"
   ]
  },
  {
   "cell_type": "code",
   "execution_count": 49,
   "metadata": {},
   "outputs": [],
   "source": [
    "# user_words_list[:10]\n",
    "user_words_list = [user_word.split() for user_word in user_words_list]"
   ]
  },
  {
   "cell_type": "code",
   "execution_count": 50,
   "metadata": {},
   "outputs": [],
   "source": [
    "user_to_syns_list = []\n",
    "new_user_words_list = []\n",
    "for user_word_list in user_words_list:\n",
    "    representative = user_word_list[0]\n",
    "    new_line = representative\n",
    "    if len(user_word_list) == 1:\n",
    "        pass\n",
    "    else:\n",
    "        if representative != \"\".join(user_word_list[1:]):\n",
    "            user_to_syns_list.append(\", \".join(user_word_list[1:]) + \" => \" + representative)\n",
    "        else:\n",
    "            new_line = \" \".join(user_word_list)\n",
    "    new_user_words_list.append(new_line)"
   ]
  },
  {
   "cell_type": "code",
   "execution_count": 51,
   "metadata": {
    "collapsed": true
   },
   "outputs": [
    {
     "data": {
      "text/plain": [
       "['1주일',\n '2중',\n '4계절',\n '7부바지',\n 'age',\n 'age20',\n 'age20s',\n 'air',\n 'ali',\n 'aline',\n 'allnew',\n 'aloe',\n 'alpaca',\n 'ankle',\n 'atopy',\n 'a라인',\n 'baby',\n 'backpack',\n 'backpacks',\n 'bag',\n 'baggy',\n 'balcony',\n 'bally',\n 'band',\n 'bands',\n 'basic',\n 'bb',\n 'bb크림',\n 'belt',\n 'bench']"
      ]
     },
     "execution_count": 51,
     "metadata": {},
     "output_type": "execute_result"
    }
   ],
   "source": [
    "new_user_words_list[:30]"
   ]
  },
  {
   "cell_type": "code",
   "execution_count": 54,
   "metadata": {
    "collapsed": true
   },
   "outputs": [
    {
     "data": {
      "text/plain": [
       "['jean => 데님, 바지',\n '가죽백 => 가죽, 가방',\n '갈색 => 갈색, 색',\n '갈색깔 => 갈색, 색깔',\n '거위털 => 구스, 다운',\n '곤색 => 곤색, 색',\n '곤색깔 => 곤색, 색깔',\n '교환비 => 교환, 비용',\n '기능화 => 기능, 신발',\n '남색 => 남색, 색']"
      ]
     },
     "execution_count": 54,
     "metadata": {},
     "output_type": "execute_result"
    }
   ],
   "source": [
    "user_to_syns_list[:10]"
   ]
  },
  {
   "cell_type": "code",
   "execution_count": 55,
   "metadata": {},
   "outputs": [],
   "source": [
    "pd.Series(new_user_words_list).to_csv(data_dir + 'new_user_dict_' + dt + '.txt', index=False)\n",
    "pd.Series(user_to_syns_list).to_csv(data_dir + 'prev_synonyms_dict_' + dt + '.txt', index=False)"
   ]
  }
 ],
 "metadata": {
  "kernelspec": {
   "display_name": "Python 2",
   "language": "python",
   "name": "python2"
  },
  "language_info": {
   "codemirror_mode": {
    "name": "ipython",
    "version": 2
   },
   "file_extension": ".py",
   "mimetype": "text/x-python",
   "name": "python",
   "nbconvert_exporter": "python",
   "pygments_lexer": "ipython2",
   "version": "2.7.6"
  }
 },
 "nbformat": 4,
 "nbformat_minor": 0
}
