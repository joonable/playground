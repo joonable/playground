{
 "cells": [
  {
   "cell_type": "code",
   "execution_count": 11,
   "metadata": {
    "collapsed": true
   },
   "outputs": [],
   "source": [
    "import pandas as pd\n",
    "import json"
   ]
  },
  {
   "cell_type": "code",
   "execution_count": 27,
   "metadata": {},
   "outputs": [],
   "source": [
    "df = pd.read_excel('./es_mapping.xlsx')\n",
    "es_dict = {}"
   ]
  },
  {
   "cell_type": "code",
   "execution_count": 28,
   "metadata": {},
   "outputs": [
    {
     "data": {
      "text/html": [
       "<div>\n",
       "<style scoped>\n",
       "    .dataframe tbody tr th:only-of-type {\n",
       "        vertical-align: middle;\n",
       "    }\n",
       "\n",
       "    .dataframe tbody tr th {\n",
       "        vertical-align: top;\n",
       "    }\n",
       "\n",
       "    .dataframe thead th {\n",
       "        text-align: right;\n",
       "    }\n",
       "</style>\n",
       "<table border=\"1\" class=\"dataframe\">\n",
       "  <thead>\n",
       "    <tr style=\"text-align: right;\">\n",
       "      <th></th>\n",
       "      <th>col</th>\n",
       "      <th>type</th>\n",
       "      <th>index</th>\n",
       "    </tr>\n",
       "  </thead>\n",
       "  <tbody>\n",
       "    <tr>\n",
       "      <th>0</th>\n",
       "      <td>MESSAGE_ID</td>\n",
       "      <td>keyword</td>\n",
       "      <td>True</td>\n",
       "    </tr>\n",
       "    <tr>\n",
       "      <th>1</th>\n",
       "      <td>BBS_ID</td>\n",
       "      <td>keyword</td>\n",
       "      <td>False</td>\n",
       "    </tr>\n",
       "    <tr>\n",
       "      <th>2</th>\n",
       "      <td>MESSAGE_LEVEL</td>\n",
       "      <td>keyword</td>\n",
       "      <td>False</td>\n",
       "    </tr>\n",
       "    <tr>\n",
       "      <th>3</th>\n",
       "      <td>PARENT_MESSAGE_ID</td>\n",
       "      <td>long</td>\n",
       "      <td>False</td>\n",
       "    </tr>\n",
       "    <tr>\n",
       "      <th>4</th>\n",
       "      <td>TITLE</td>\n",
       "      <td>text</td>\n",
       "      <td>True</td>\n",
       "    </tr>\n",
       "  </tbody>\n",
       "</table>\n",
       "</div>"
      ],
      "text/plain": [
       "<div>\n",
       "<style scoped>\n",
       "    .dataframe tbody tr th:only-of-type {\n",
       "        vertical-align: middle;\n",
       "    }\n",
       "\n",
       "    .dataframe tbody tr th {\n",
       "        vertical-align: top;\n",
       "    }\n",
       "\n",
       "    .dataframe thead th {\n",
       "        text-align: right;\n",
       "    }\n",
       "</style>\n",
       "<table border=\"1\" class=\"dataframe\">\n",
       "  <thead>\n",
       "    <tr style=\"text-align: right;\">\n",
       "      <th></th>\n",
       "      <th>col</th>\n",
       "      <th>type</th>\n",
       "      <th>index</th>\n",
       "    </tr>\n",
       "  </thead>\n",
       "  <tbody>\n",
       "    <tr>\n",
       "      <th>0</th>\n",
       "      <td>MESSAGE_ID</td>\n",
       "      <td>keyword</td>\n",
       "      <td>True</td>\n",
       "    </tr>\n",
       "    <tr>\n",
       "      <th>1</th>\n",
       "      <td>BBS_ID</td>\n",
       "      <td>keyword</td>\n",
       "      <td>False</td>\n",
       "    </tr>\n",
       "    <tr>\n",
       "      <th>2</th>\n",
       "      <td>MESSAGE_LEVEL</td>\n",
       "      <td>keyword</td>\n",
       "      <td>False</td>\n",
       "    </tr>\n",
       "    <tr>\n",
       "      <th>3</th>\n",
       "      <td>PARENT_MESSAGE_ID</td>\n",
       "      <td>long</td>\n",
       "      <td>False</td>\n",
       "    </tr>\n",
       "    <tr>\n",
       "      <th>4</th>\n",
       "      <td>TITLE</td>\n",
       "      <td>text</td>\n",
       "      <td>True</td>\n",
       "    </tr>\n",
       "  </tbody>\n",
       "</table>\n",
       "</div>"
      ]
     },
     "execution_count": 28,
     "metadata": {},
     "output_type": "execute_result"
    }
   ],
   "source": [
    "df.head()"
   ]
  },
  {
   "cell_type": "code",
   "execution_count": 30,
   "metadata": {},
   "outputs": [
    {
     "data": {
      "text/plain": [
       "array(['MESSAGE_ID', 'BBS_ID', 'MESSAGE_LEVEL', 'PARENT_MESSAGE_ID',\n       'TITLE', 'REPORT_FLAG', 'LSECTID', 'MSECTID', 'RPST_PRDID',\n       'PRDID', 'PRDNAME', 'PRDID2', 'PRDID3', 'PRDID4', 'CHOICE_PRDID',\n       'PRD_COUNT', 'REPLY_ADOPT', 'PRD_SATISFACT', 'EVAL_NAME1',\n       'EVAL_VALUE1', 'EVAL_NAME2', 'EVAL_VALUE2', 'EVAL_NAME3',\n       'EVAL_VALUE3', 'EVAL_NAME4', 'EVAL_VALUE4', 'READ_COUNT',\n       'PARTICIPANT_COUNT', 'OPPOSITION_COUNT', 'REPLY_COUNT', 'REMARK',\n       'CREDATE', 'ORD_OPTION1_NM', 'ORD_OPTION2_NM', 'ORD_OPTION3_NM',\n       'CUS_GRADE', 'BEST_FLAG', 'PROMO_NUM', 'CHANL_CD'], dtype=object)"
      ]
     },
     "execution_count": 30,
     "metadata": {},
     "output_type": "execute_result"
    }
   ],
   "source": [
    "df.col.values"
   ]
  },
  {
   "cell_type": "code",
   "execution_count": 31,
   "metadata": {},
   "outputs": [
    {
     "data": {
      "text/html": [
       "<div>\n",
       "<style scoped>\n",
       "    .dataframe tbody tr th:only-of-type {\n",
       "        vertical-align: middle;\n",
       "    }\n",
       "\n",
       "    .dataframe tbody tr th {\n",
       "        vertical-align: top;\n",
       "    }\n",
       "\n",
       "    .dataframe thead th {\n",
       "        text-align: right;\n",
       "    }\n",
       "</style>\n",
       "<table border=\"1\" class=\"dataframe\">\n",
       "  <thead>\n",
       "    <tr style=\"text-align: right;\">\n",
       "      <th></th>\n",
       "      <th>col</th>\n",
       "      <th>type</th>\n",
       "      <th>index</th>\n",
       "    </tr>\n",
       "  </thead>\n",
       "  <tbody>\n",
       "    <tr>\n",
       "      <th>0</th>\n",
       "      <td>message_id</td>\n",
       "      <td>keyword</td>\n",
       "      <td>True</td>\n",
       "    </tr>\n",
       "    <tr>\n",
       "      <th>1</th>\n",
       "      <td>bbs_id</td>\n",
       "      <td>keyword</td>\n",
       "      <td>False</td>\n",
       "    </tr>\n",
       "    <tr>\n",
       "      <th>2</th>\n",
       "      <td>message_level</td>\n",
       "      <td>keyword</td>\n",
       "      <td>False</td>\n",
       "    </tr>\n",
       "    <tr>\n",
       "      <th>3</th>\n",
       "      <td>parent_message_id</td>\n",
       "      <td>long</td>\n",
       "      <td>False</td>\n",
       "    </tr>\n",
       "    <tr>\n",
       "      <th>4</th>\n",
       "      <td>title</td>\n",
       "      <td>text</td>\n",
       "      <td>True</td>\n",
       "    </tr>\n",
       "  </tbody>\n",
       "</table>\n",
       "</div>"
      ],
      "text/plain": [
       "<div>\n",
       "<style scoped>\n",
       "    .dataframe tbody tr th:only-of-type {\n",
       "        vertical-align: middle;\n",
       "    }\n",
       "\n",
       "    .dataframe tbody tr th {\n",
       "        vertical-align: top;\n",
       "    }\n",
       "\n",
       "    .dataframe thead th {\n",
       "        text-align: right;\n",
       "    }\n",
       "</style>\n",
       "<table border=\"1\" class=\"dataframe\">\n",
       "  <thead>\n",
       "    <tr style=\"text-align: right;\">\n",
       "      <th></th>\n",
       "      <th>col</th>\n",
       "      <th>type</th>\n",
       "      <th>index</th>\n",
       "    </tr>\n",
       "  </thead>\n",
       "  <tbody>\n",
       "    <tr>\n",
       "      <th>0</th>\n",
       "      <td>message_id</td>\n",
       "      <td>keyword</td>\n",
       "      <td>True</td>\n",
       "    </tr>\n",
       "    <tr>\n",
       "      <th>1</th>\n",
       "      <td>bbs_id</td>\n",
       "      <td>keyword</td>\n",
       "      <td>False</td>\n",
       "    </tr>\n",
       "    <tr>\n",
       "      <th>2</th>\n",
       "      <td>message_level</td>\n",
       "      <td>keyword</td>\n",
       "      <td>False</td>\n",
       "    </tr>\n",
       "    <tr>\n",
       "      <th>3</th>\n",
       "      <td>parent_message_id</td>\n",
       "      <td>long</td>\n",
       "      <td>False</td>\n",
       "    </tr>\n",
       "    <tr>\n",
       "      <th>4</th>\n",
       "      <td>title</td>\n",
       "      <td>text</td>\n",
       "      <td>True</td>\n",
       "    </tr>\n",
       "  </tbody>\n",
       "</table>\n",
       "</div>"
      ]
     },
     "execution_count": 31,
     "metadata": {},
     "output_type": "execute_result"
    }
   ],
   "source": [
    "df.col = df.col.apply(lambda x: x.lower())\n",
    "df.head()"
   ]
  },
  {
   "cell_type": "code",
   "execution_count": 32,
   "metadata": {},
   "outputs": [],
   "source": [
    "for col in df.col.tolist():\n",
    "    es_dict[col] = {}\n",
    "    es_dict[col]['type'] = df.loc[df.col == col, :].type.values[0]\n",
    "    \n",
    "    if 'text' == es_dict[col]['type']:\n",
    "        es_dict[col]['term_vector'] = \"yes\"\n",
    "        es_dict[col]['analyzer'] = \"nori\"\n",
    "        es_dict[col]['fielddata'] = True\n",
    "        \n",
    "    es_dict[col]['index'] = bool(df.loc[df.col == col, :]['index'].values[0])"
   ]
  },
  {
   "cell_type": "code",
   "execution_count": 33,
   "metadata": {},
   "outputs": [
    {
     "data": {
      "text/plain": [
       "'{\"message_id\": {\"type\": \"keyword\", \"index\": true}, \"bbs_id\": {\"type\": \"keyword\", \"index\": false}, \"message_level\": {\"type\": \"keyword\", \"index\": false}, \"parent_message_id\": {\"type\": \"long\", \"index\": false}, \"title\": {\"type\": \"text\", \"term_vector\": \"yes\", \"analyzer\": \"nori\", \"fielddata\": true, \"index\": true}, \"report_flag\": {\"type\": NaN, \"index\": false}, \"lsectid\": {\"type\": \"long\", \"index\": true}, \"msectid\": {\"type\": \"long\", \"index\": false}, \"rpst_prdid\": {\"type\": \"long\", \"index\": true}, \"prdid\": {\"type\": \"long\", \"index\": true}, \"prdname\": {\"type\": \"text\", \"term_vector\": \"yes\", \"analyzer\": \"nori\", \"fielddata\": true, \"index\": true}, \"prdid2\": {\"type\": \"long\", \"index\": true}, \"prdid3\": {\"type\": \"long\", \"index\": true}, \"prdid4\": {\"type\": \"long\", \"index\": true}, \"choice_prdid\": {\"type\": \"long\", \"index\": true}, \"prd_count\": {\"type\": \"long\", \"index\": false}, \"reply_adopt\": {\"type\": \"integer\", \"index\": true}, \"prd_satisfact\": {\"type\": \"integer\", \"index\": true}, \"eval_name1\": {\"type\": \"keyword\", \"index\": true}, \"eval_value1\": {\"type\": \"integer\", \"index\": true}, \"eval_name2\": {\"type\": \"keyword\", \"index\": true}, \"eval_value2\": {\"type\": \"integer\", \"index\": true}, \"eval_name3\": {\"type\": \"keyword\", \"index\": true}, \"eval_value3\": {\"type\": \"integer\", \"index\": true}, \"eval_name4\": {\"type\": \"keyword\", \"index\": true}, \"eval_value4\": {\"type\": \"integer\", \"index\": true}, \"read_count\": {\"type\": \"integer\", \"index\": true}, \"participant_count\": {\"type\": \"integer\", \"index\": true}, \"opposition_count\": {\"type\": \"integer\", \"index\": true}, \"reply_count\": {\"type\": \"integer\", \"index\": true}, \"remark\": {\"type\": \"keyword\", \"index\": true}, \"credate\": {\"type\": \"date\", \"index\": true}, \"ord_option1_nm\": {\"type\": \"text\", \"term_vector\": \"yes\", \"analyzer\": \"nori\", \"fielddata\": true, \"index\": true}, \"ord_option2_nm\": {\"type\": \"text\", \"term_vector\": \"yes\", \"analyzer\": \"nori\", \"fielddata\": true, \"index\": true}, \"ord_option3_nm\": {\"type\": \"text\", \"term_vector\": \"yes\", \"analyzer\": \"nori\", \"fielddata\": true, \"index\": true}, \"cus_grade\": {\"type\": \"keyword\", \"index\": true}, \"best_flag\": {\"type\": \"keyword\", \"index\": true}, \"promo_num\": {\"type\": \"long\", \"index\": false}, \"chanl_cd\": {\"type\": \"keyword\", \"index\": true}}'"
      ]
     },
     "execution_count": 33,
     "metadata": {},
     "output_type": "execute_result"
    }
   ],
   "source": [
    "json.dumps(es_dict, ensure_ascii=False)"
   ]
  },
  {
   "cell_type": "code",
   "execution_count": null,
   "metadata": {},
   "outputs": [],
   "source": []
  }
 ],
 "metadata": {
  "kernelspec": {
   "display_name": "Python 2",
   "language": "python",
   "name": "python2"
  },
  "language_info": {
   "codemirror_mode": {
    "name": "ipython",
    "version": 2
   },
   "file_extension": ".py",
   "mimetype": "text/x-python",
   "name": "python",
   "nbconvert_exporter": "python",
   "pygments_lexer": "ipython2",
   "version": "2.7.6"
  }
 },
 "nbformat": 4,
 "nbformat_minor": 0
}
