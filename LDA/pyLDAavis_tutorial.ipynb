{
  "cells": [
    {
      "cell_type": "code",
      "execution_count": 4,
      "metadata": {
        "collapsed": true,
        "pycharm": {
          "is_executing": false
        }
      },
      "outputs": [
        {
          "data": {
            "text/html": "\u003cdiv\u003e\n\u003cstyle scoped\u003e\n    .dataframe tbody tr th:only-of-type {\n        vertical-align: middle;\n    }\n\n    .dataframe tbody tr th {\n        vertical-align: top;\n    }\n\n    .dataframe thead th {\n        text-align: right;\n    }\n\u003c/style\u003e\n\u003ctable border\u003d\"1\" class\u003d\"dataframe\"\u003e\n  \u003cthead\u003e\n    \u003ctr style\u003d\"text-align: right;\"\u003e\n      \u003cth\u003e\u003c/th\u003e\n      \u003cth\u003esr_no\u003c/th\u003e\n      \u003cth\u003ecustomer_text\u003c/th\u003e\n      \u003cth\u003egs_text\u003c/th\u003e\n      \u003cth\u003ecustomer_terms\u003c/th\u003e\n      \u003cth\u003egs_terms\u003c/th\u003e\n    \u003c/tr\u003e\n  \u003c/thead\u003e\n  \u003ctbody\u003e\n    \u003ctr\u003e\n      \u003cth\u003e0\u003c/th\u003e\n      \u003ctd\u003eS121383683\u003c/td\u003e\n      \u003ctd\u003e특상을 주문했는데 중상이 오배송된 건과 관련하여 차액을 지급하는 걸로 알고있었는데 ...\u003c/td\u003e\n      \u003ctd\u003e안녕하세요 고객님 GS SHOP 선정민 입니다.기대하시고 주문하셨을텐데 … 만족을 ...\u003c/td\u003e\n      \u003ctd\u003e특상 주문 중상 오배송 건과일 차액 지급 알 있 적립 금액 이해 안 돼서 되 같 여...\u003c/td\u003e\n      \u003ctd\u003e안녕 gs shop 선 정민 주문 못해 특상 19 975 원 중상 17 765 원 ...\u003c/td\u003e\n    \u003c/tr\u003e\n    \u003ctr\u003e\n      \u003cth\u003e1\u003c/th\u003e\n      \u003ctd\u003eS121389801\u003c/td\u003e\n      \u003ctd\u003e한개 상했어요\u003c/td\u003e\n      \u003ctd\u003e안녕하세요 고객님 GS SHOP 이윤복 입니다.불편드려 죄송합니다.내일 공휴일로 인...\u003c/td\u003e\n      \u003ctd\u003e한 개 상했 상하\u003c/td\u003e\n      \u003ctd\u003e안녕 gs shop 이윤 옷 불편 드려 공휴일 인해 인하 불가 월요일 오후 6 시 ...\u003c/td\u003e\n    \u003c/tr\u003e\n    \u003ctr\u003e\n      \u003cth\u003e2\u003c/th\u003e\n      \u003ctd\u003eS092377332\u003c/td\u003e\n      \u003ctd\u003e주문취소하고싶어요\u003c/td\u003e\n      \u003ctd\u003e네 고객님!주문하신 상품은 취소해드리겠습니다.다만 상품이 이미 상품이 발송되어 배송...\u003c/td\u003e\n      \u003ctd\u003e주문취소 주문 취소 싶\u003c/td\u003e\n      \u003ctd\u003e네 주문 취소 다만 배송기사 배송 기사 시 택배기사 기사 취소 후 꼭 거부 쥬시 바...\u003c/td\u003e\n    \u003c/tr\u003e\n    \u003ctr\u003e\n      \u003cth\u003e3\u003c/th\u003e\n      \u003ctd\u003eS092377428\u003c/td\u003e\n      \u003ctd\u003e주문작업중 직택배 직반 주문번호 가주문 단가조정 원\u003c/td\u003e\n      \u003ctd\u003eNone\u003c/td\u003e\n      \u003ctd\u003e주문 작업 직택배 직 반 주문번호 주문 가주문 단가 다 조정 원\u003c/td\u003e\n      \u003ctd\u003eNone\u003c/td\u003e\n    \u003c/tr\u003e\n    \u003ctr\u003e\n      \u003cth\u003e4\u003c/th\u003e\n      \u003ctd\u003eS092385617\u003c/td\u003e\n      \u003ctd\u003e협력사 위드넷 접수 협력사 접수자명 주식회사 다드림 농업회사법인 위드넷 접수시간 ...\u003c/td\u003e\n      \u003ctd\u003eNone\u003c/td\u003e\n      \u003ctd\u003e협력사 위드넷 협력사 자명 주식회사 주식 회사 다 농업 회사 법인 위드넷 제목 미출...\u003c/td\u003e\n      \u003ctd\u003eNone\u003c/td\u003e\n    \u003c/tr\u003e\n  \u003c/tbody\u003e\n\u003c/table\u003e\n\u003c/div\u003e",
            "text/plain": "        sr_no                                      customer_text  \\\n0  S121383683  특상을 주문했는데 중상이 오배송된 건과 관련하여 차액을 지급하는 걸로 알고있었는데 ...   \n1  S121389801                                           한개 상했어요    \n2  S092377332                                          주문취소하고싶어요   \n3  S092377428                       주문작업중 직택배 직반 주문번호 가주문 단가조정 원   \n4  S092385617   협력사 위드넷 접수 협력사 접수자명 주식회사 다드림 농업회사법인 위드넷 접수시간 ...   \n\n                                             gs_text  \\\n0  안녕하세요 고객님 GS SHOP 선정민 입니다.기대하시고 주문하셨을텐데 … 만족을 ...   \n1  안녕하세요 고객님 GS SHOP 이윤복 입니다.불편드려 죄송합니다.내일 공휴일로 인...   \n2  네 고객님!주문하신 상품은 취소해드리겠습니다.다만 상품이 이미 상품이 발송되어 배송...   \n3                                               None   \n4                                               None   \n\n                                      customer_terms  \\\n0  특상 주문 중상 오배송 건과일 차액 지급 알 있 적립 금액 이해 안 돼서 되 같 여...   \n1                                          한 개 상했 상하   \n2                                       주문취소 주문 취소 싶   \n3                주문 작업 직택배 직 반 주문번호 주문 가주문 단가 다 조정 원   \n4  협력사 위드넷 협력사 자명 주식회사 주식 회사 다 농업 회사 법인 위드넷 제목 미출...   \n\n                                            gs_terms  \n0  안녕 gs shop 선 정민 주문 못해 특상 19 975 원 중상 17 765 원 ...  \n1  안녕 gs shop 이윤 옷 불편 드려 공휴일 인해 인하 불가 월요일 오후 6 시 ...  \n2  네 주문 취소 다만 배송기사 배송 기사 시 택배기사 기사 취소 후 꼭 거부 쥬시 바...  \n3                                               None  \n4                                               None  "
          },
          "metadata": {},
          "output_type": "execute_result",
          "execution_count": 4
        }
      ],
      "source": "import pandas as pd\ncorpus_path \u003d \u0027./df_terms_190327.pkl\u0027\ndf \u003d pd.read_pickle(corpus_path)\ndf.head()"
    },
    {
      "cell_type": "code",
      "execution_count": 20,
      "outputs": [
        {
          "data": {
            "text/plain": "[[\u0027특상\u0027,\n  \u0027주문\u0027,\n  \u0027중상\u0027,\n  \u0027오배송\u0027,\n  \u0027건과일\u0027,\n  \u0027차액\u0027,\n  \u0027지급\u0027,\n  \u0027알\u0027,\n  \u0027있\u0027,\n  \u0027적립\u0027,\n  \u0027금액\u0027,\n  \u0027이해\u0027,\n  \u0027안\u0027,\n  \u0027돼서\u0027,\n  \u0027되\u0027,\n  \u0027같\u0027,\n  \u0027여러\u0027,\n  \u0027번\u0027,\n  \u0027질문\u0027,\n  \u0027기다려야\u0027,\n  \u0027기다리\u0027,\n  \u0027하\u0027,\n  \u0027상황\u0027,\n  \u0027매우\u0027,\n  \u0027불편\u0027],\n [\u0027한\u0027, \u0027개\u0027, \u0027상했\u0027, \u0027상하\u0027]]"
          },
          "metadata": {},
          "output_type": "execute_result",
          "execution_count": 20
        }
      ],
      "source": "documents \u003d df.customer_terms.tolist()\ndocuments \u003d [doc.split() if doc else [\"\"] for doc in documents]\ndocuments[:2]",
      "metadata": {
        "pycharm": {
          "metadata": false,
          "name": "#%%\n",
          "is_executing": false
        }
      }
    },
    {
      "cell_type": "code",
      "execution_count": 2,
      "outputs": [],
      "source": "# class Documents:\n#     def __init__(self, path):\n#         self.path \u003d path\n#     def __iter__(self):\n#         with open(self.path, encoding\u003d\u0027utf-8\u0027) as f:\n#             for doc in f:\n#                 yield doc.strip().split()\n# \n# documents \u003d Documents(corpus_path)\n",
      "metadata": {
        "pycharm": {
          "metadata": false,
          "name": "#%%\n",
          "is_executing": false
        }
      }
    },
    {
      "cell_type": "code",
      "execution_count": 21,
      "outputs": [
        {
          "name": "stdout",
          "text": [
            "dictionary size : 25736\n"
          ],
          "output_type": "stream"
        }
      ],
      "source": "import gensim\n\ndictionary \u003d gensim.corpora.Dictionary(documents)\nprint(\u0027dictionary size : %d\u0027 % len(dictionary)) # dictionary size\n",
      "metadata": {
        "pycharm": {
          "metadata": false,
          "name": "#%%\n",
          "is_executing": false
        }
      }
    },
    {
      "cell_type": "code",
      "execution_count": 22,
      "outputs": [
        {
          "name": "stdout",
          "text": [
            "dictionary size : 4524\n"
          ],
          "output_type": "stream"
        }
      ],
      "source": "from collections import Counter\n\nmin_count \u003d 15\nword_counter \u003d Counter((word for words in documents for word in words))\nremoval_word_idxs \u003d {\n    dictionary.token2id[word] for word, count in word_counter.items()\n    if count \u003c min_count\n}\n\ndictionary.filter_tokens(removal_word_idxs)\ndictionary.compactify()\nprint(\u0027dictionary size : %d\u0027 % len(dictionary)) # dictionary size : 10354\n",
      "metadata": {
        "pycharm": {
          "metadata": false,
          "name": "#%%\n",
          "is_executing": false
        }
      }
    },
    {
      "cell_type": "code",
      "execution_count": 40,
      "outputs": [],
      "source": "# class Corpus:\n#     def __init__(self, path, dictionary):\n#         self.path \u003d path\n#         self.dictionary \u003d dictionary\n#         self.length \u003d 0\n#     def __iter__(self):\n#         with open(self.path, encoding\u003d\u0027utf-8\u0027) as f:\n#             for doc in f:\n#                 yield self.dictionary.doc2bow(doc.split())\n#     def __len__(self):\n#         if self.length \u003d\u003d 0:\n#             with open(self.path, encoding\u003d\u0027utf-8\u0027) as f:\n#                 for i, doc in enumerate(f):\n#                     continue\n#             self.length \u003d i + 1\n#         return self.length\n# \n# corpus \u003d Corpus(corpus_path, dictionary)\n# for i, doc in enumerate(corpus):\n#     if i \u003e\u003d 5: break\n#     print(doc)",
      "metadata": {
        "pycharm": {
          "metadata": false,
          "name": "#%%\n",
          "is_executing": false
        }
      }
    },
    {
      "cell_type": "code",
      "execution_count": 24,
      "outputs": [
        {
          "name": "stdout",
          "text": [
            "[\u0027특상\u0027, \u0027주문\u0027, \u0027중상\u0027, \u0027오배송\u0027, \u0027건과일\u0027, \u0027차액\u0027, \u0027지급\u0027, \u0027알\u0027, \u0027있\u0027, \u0027적립\u0027, \u0027금액\u0027, \u0027이해\u0027, \u0027안\u0027, \u0027돼서\u0027, \u0027되\u0027, \u0027같\u0027, \u0027여러\u0027, \u0027번\u0027, \u0027질문\u0027, \u0027기다려야\u0027, \u0027기다리\u0027, \u0027하\u0027, \u0027상황\u0027, \u0027매우\u0027, \u0027불편\u0027] [(0, 1), (1, 1), (2, 1), (3, 1), (4, 1), (5, 1), (6, 1), (7, 1), (8, 1), (9, 1), (10, 1), (11, 1), (12, 1), (13, 1), (14, 1), (15, 1), (16, 1), (17, 1), (18, 1), (19, 1), (20, 1), (21, 1), (22, 1), (23, 1), (24, 1)]\n[\u0027한\u0027, \u0027개\u0027, \u0027상했\u0027, \u0027상하\u0027] [(25, 1), (26, 1), (27, 1), (28, 1)]\n[\u0027주문취소\u0027, \u0027주문\u0027, \u0027취소\u0027, \u0027싶\u0027] [(18, 1), (29, 1), (30, 1), (31, 1)]\n"
          ],
          "output_type": "stream"
        }
      ],
      "source": "corpus \u003d [dictionary.doc2bow(doc) for doc in documents]\nfor d, c in zip(documents[:3], corpus[:3]):\n    print(d, c)\n",
      "metadata": {
        "pycharm": {
          "metadata": false,
          "name": "#%%\n",
          "is_executing": false
        }
      }
    },
    {
      "cell_type": "code",
      "execution_count": null,
      "outputs": [],
      "source": "# import gensim\n# from gensim.corpora.dictionary import Dictionary\n# \n# corpus \u003d gensim.matutils.Sparse2Corpus(x, documents_columns\u003dFalse)\n# dictionary \u003d Dictionary.from_corpus(\n#     corpus,\n#     id2word \u003d dict(enumerate(index2word))\n# )",
      "metadata": {
        "pycharm": {
          "metadata": false,
          "name": "#%%\n"
        }
      }
    },
    {
      "cell_type": "code",
      "execution_count": 41,
      "outputs": [],
      "source": "from scipy.sparse import csr_matrix\nimport numpy as np\nx \u003d np.array(corpus)\nindex2word \u003d dictionary.id2token\nword2index \u003d dictionary.token2id\n",
      "metadata": {
        "pycharm": {
          "metadata": false,
          "name": "#%%\n",
          "is_executing": false
        }
      }
    },
    {
      "cell_type": "code",
      "execution_count": 43,
      "outputs": [],
      "source": "# import gensim\n# from gensim.corpora.dictionary import Dictionary\n# \n# corpus \u003d gensim.matutils.Sparse2Corpus(x, documents_columns\u003dFalse)\n# dictionary \u003d Dictionary.from_corpus(\n#     corpus,\n#     id2word \u003d dict(enumerate(index2word))\n# )",
      "metadata": {
        "pycharm": {
          "metadata": false,
          "name": "#%%\n",
          "is_executing": false
        }
      }
    },
    {
      "cell_type": "code",
      "execution_count": 57,
      "outputs": [],
      "source": "from gensim.models import LdaModel\nimport pickle\nlda_model_path \u003d \u0027LDA_model_190415.pkl\u0027\nlda_model \u003d LdaModel(corpus, id2word\u003dindex2word, num_topics\u003d20)\nwith open(lda_model_path, \u0027wb\u0027) as f:\n    pickle.dump(lda_model, f)",
      "metadata": {
        "pycharm": {
          "metadata": false,
          "name": "#%%\n",
          "is_executing": false
        }
      }
    },
    {
      "cell_type": "code",
      "execution_count": 58,
      "outputs": [],
      "source": "def get_topic_term_prob(lda_model):\n    topic_term_freqs \u003d lda_model.state.get_lambda()\n    topic_term_prob \u003d topic_term_freqs / topic_term_freqs.sum(axis\u003d1)[:, None]\n    return topic_term_prob",
      "metadata": {
        "pycharm": {
          "metadata": false,
          "name": "#%%\n",
          "is_executing": false
        }
      }
    },
    {
      "cell_type": "code",
      "execution_count": 59,
      "outputs": [
        {
          "name": "stdout",
          "text": [
            "(20,)\n1.0\n(20, 4524)\n1.0\n"
          ],
          "output_type": "stream"
        }
      ],
      "source": "print(lda_model.alpha.shape) # (n_topics,)\nprint(lda_model.alpha.sum()) # 1.0\n\ntopic_term_prob \u003d get_topic_term_prob(lda_model)\nprint(topic_term_prob.shape)     # (n_topics, n_terms)\nprint(topic_term_prob[0].sum())  # 1.0\n",
      "metadata": {
        "pycharm": {
          "metadata": false,
          "name": "#%%\n",
          "is_executing": false
        }
      }
    },
    {
      "cell_type": "code",
      "execution_count": 60,
      "outputs": [
        {
          "name": "stderr",
          "text": [
            "/home/admin-/anaconda3/lib/python3.5/site-packages/pyLDAvis/_prepare.py:257: FutureWarning: Sorting because non-concatenation axis is not aligned. A future version\nof pandas will change to not sort by default.\n\nTo accept the future behavior, pass \u0027sort\u003dFalse\u0027.\n\nTo retain the current behavior and silence the warning, pass \u0027sort\u003dTrue\u0027.\n\n  return pd.concat([default_term_info] + list(topic_dfs))\n"
          ],
          "output_type": "stream"
        }
      ],
      "source": "import pyLDAvis.gensim as gensimvis\nprepared_data \u003d gensimvis.prepare(lda_model, corpus, dictionary)\n",
      "metadata": {
        "pycharm": {
          "metadata": false,
          "name": "#%%\n",
          "is_executing": false
        }
      }
    },
    {
      "cell_type": "code",
      "execution_count": 62,
      "outputs": [],
      "source": "import pyLDAvis\npyLDAvis.display(prepared_data)\n",
      "metadata": {
        "pycharm": {
          "metadata": false,
          "name": "#%%\n",
          "is_executing": false
        }
      }
    },
    {
      "cell_type": "code",
      "execution_count": null,
      "outputs": [],
      "source": "",
      "metadata": {
        "pycharm": {
          "metadata": false,
          "name": "#%%\n"
        }
      }
    },
    {
      "cell_type": "code",
      "execution_count": null,
      "outputs": [],
      "source": "\n\n",
      "metadata": {
        "pycharm": {
          "metadata": false,
          "name": "#%%\n"
        }
      }
    }
  ],
  "metadata": {
    "language_info": {
      "codemirror_mode": {
        "name": "ipython",
        "version": 2
      },
      "file_extension": ".py",
      "mimetype": "text/x-python",
      "name": "python",
      "nbconvert_exporter": "python",
      "pygments_lexer": "ipython2",
      "version": "2.7.6"
    },
    "kernelspec": {
      "name": "python3",
      "language": "python",
      "display_name": "Python 3"
    }
  },
  "nbformat": 4,
  "nbformat_minor": 0
}