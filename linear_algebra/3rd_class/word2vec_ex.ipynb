{
 "cells": [
  {
   "cell_type": "code",
   "execution_count": 1,
   "metadata": {},
   "outputs": [
    {
     "name": "stderr",
     "output_type": "stream",
     "text": [
      "C:\\Users\\Sang\\Anaconda3\\lib\\site-packages\\gensim\\utils.py:1212: UserWarning: detected Windows; aliasing chunkize to chunkize_serial\n",
      "  warnings.warn(\"detected Windows; aliasing chunkize to chunkize_serial\")\n"
     ]
    }
   ],
   "source": [
    "from gensim.models import Word2Vec"
   ]
  },
  {
   "cell_type": "code",
   "execution_count": 2,
   "metadata": {
    "collapsed": true
   },
   "outputs": [],
   "source": [
    "with open('2016_filtered_review.txt', encoding='utf-8') as f:\n",
    "    docs = [line.strip().split('\\t\\t') for line in f]"
   ]
  },
  {
   "cell_type": "code",
   "execution_count": 4,
   "metadata": {},
   "outputs": [
    {
     "data": {
      "text/plain": [
       "[['140693', ' 아니 딴 그렇 비 비탄 총 대체 왜 들 온겨', '7'],\n",
       " ['140693', ' 진심 쓰레기 영화 만들 무서 알 쫄아 틀었 이건 뭐 웃 거리 없는 쓰레기 영화 임', '1'],\n",
       " ['140693',\n",
       "  ' 역대 좀비 영화 가장 최고다 원작 만화 읽어 보려 영화 보고 결정 하려 감독 간츠 실사 했 사람 거르려 그냥 봤 정말 흠잡 없는 최고 좀비 영화 잔인 거 싫어하지 참고 볼 만하 로미 인물 왜 그런 모르',\n",
       "  '10'],\n",
       " ['140693', ' 온종일 불편한 피 범벅 일', '6'],\n",
       " ['140693', ' 답답함 극치 움직일 잇으 좀 움직여 어지간히 좀비 봣으 얼 타고 때려 잡 때 되 않냐', '1']]"
      ]
     },
     "execution_count": 4,
     "metadata": {},
     "output_type": "execute_result"
    }
   ],
   "source": [
    "docs[:5]"
   ]
  },
  {
   "cell_type": "code",
   "execution_count": 5,
   "metadata": {
    "collapsed": true
   },
   "outputs": [],
   "source": [
    "docs1 = [doc[1].strip().split() for doc in docs]"
   ]
  },
  {
   "cell_type": "code",
   "execution_count": null,
   "metadata": {
    "collapsed": true
   },
   "outputs": [],
   "source": [
    "docs1 = []\n",
    "for doc in docs:\n",
    "    docs1.append(doc[1].strip().split())\n",
    "    "
   ]
  },
  {
   "cell_type": "code",
   "execution_count": 5,
   "metadata": {},
   "outputs": [
    {
     "name": "stdout",
     "output_type": "stream",
     "text": [
      "[['아니', '딴', '그렇', '비', '비탄', '총', '대체', '왜', '들', '온겨'], ['진심', '쓰레기', '영화', '만들', '무서', '알', '쫄아', '틀었', '이건', '뭐', '웃', '거리', '없는', '쓰레기', '영화', '임'], ['역대', '좀비', '영화', '가장', '최고다', '원작', '만화', '읽어', '보려', '영화', '보고', '결정', '하려', '감독', '간츠', '실사', '했', '사람', '거르려', '그냥', '봤', '정말', '흠잡', '없는', '최고', '좀비', '영화', '잔인', '거', '싫어하지', '참고', '볼', '만하', '로미', '인물', '왜', '그런', '모르'], ['온종일', '불편한', '피', '범벅', '일'], ['답답함', '극치', '움직일', '잇으', '좀', '움직여', '어지간히', '좀비', '봣으', '얼', '타고', '때려', '잡', '때', '되', '않냐']]\n"
     ]
    }
   ],
   "source": [
    "print(docs1[:5])"
   ]
  },
  {
   "cell_type": "code",
   "execution_count": 6,
   "metadata": {
    "collapsed": true
   },
   "outputs": [],
   "source": [
    "model = Word2Vec(docs1, window=3, min_count=3, size=100)\n",
    "#window => 보고자 하는 양쪽 단\n",
    "#min_count => 전체 corpus에서 사용 빈도수가 min_count보다 낮은 단어 제외\n",
    "#size => word vector의 크기\n",
    "# https://radimrehurek.com/gensim/models/word2vec.html"
   ]
  },
  {
   "cell_type": "code",
   "execution_count": 7,
   "metadata": {},
   "outputs": [
    {
     "data": {
      "text/plain": [
       "100"
      ]
     },
     "execution_count": 7,
     "metadata": {},
     "output_type": "execute_result"
    }
   ],
   "source": [
    "len(model.wv['이정재'])"
   ]
  },
  {
   "cell_type": "code",
   "execution_count": 8,
   "metadata": {},
   "outputs": [
    {
     "data": {
      "text/plain": [
       "array([ 1.7867955e+00, -9.7153062e-01,  8.8587290e-01,  4.1605155e-03,\n",
       "        3.7779513e-01,  6.0930872e-01,  5.7720435e-01,  4.3727574e-01,\n",
       "        1.2037480e+00,  7.4886924e-01, -5.4093379e-01,  8.2453924e-01,\n",
       "        1.0373797e+00, -9.5066518e-01, -1.0917360e+00,  2.4120860e+00,\n",
       "       -2.4567614e-01,  3.1642631e-01,  4.8361483e-01,  2.6221904e-01,\n",
       "        7.3713112e-01, -9.7153884e-01, -4.0369666e-01, -3.4090501e-01,\n",
       "       -2.4636182e-01, -6.4979625e-01, -1.8231179e-01, -2.7304032e-01,\n",
       "        2.6857179e-01,  1.1004851e-01,  7.5628358e-01,  2.2879612e-01,\n",
       "        1.1091033e+00, -6.8064429e-02, -2.3352791e-01, -8.8159919e-01,\n",
       "        9.0567574e-02,  7.2583753e-01,  2.9037333e-01, -1.5833907e+00,\n",
       "       -5.7108229e-01,  1.1504585e+00, -5.4874903e-01,  6.7841017e-01,\n",
       "        1.2718679e-01,  1.8154491e+00,  3.4905848e-01,  1.0891027e+00,\n",
       "       -1.2650950e+00, -1.1817013e+00,  8.9659870e-01,  3.9971089e-01,\n",
       "       -9.3500540e-02, -1.0305552e+00, -9.1140270e-01, -5.6918901e-01,\n",
       "        7.0739001e-01, -2.5357205e-01,  3.5025010e-01, -2.2738327e-03,\n",
       "       -6.0417295e-01, -8.5749738e-02, -2.2779955e-01,  3.9457536e-01,\n",
       "        6.0494244e-02, -4.4936347e-01, -5.2991891e-01,  7.4357055e-02,\n",
       "        7.6947814e-01, -7.4607623e-01, -7.8850001e-01,  1.1923958e+00,\n",
       "        7.8665090e-01,  9.1113657e-01, -8.7943166e-01,  7.7273947e-01,\n",
       "       -1.2362834e+00, -8.6203516e-01, -2.3058777e-01,  1.0885717e+00,\n",
       "       -1.2777519e+00,  4.3099836e-01,  5.4842407e-01,  1.4527728e-02,\n",
       "        1.1169658e+00,  8.8857234e-01, -8.0847275e-01, -7.4625587e-01,\n",
       "        8.2483548e-01, -1.0033834e+00, -1.8828931e+00,  1.8884032e+00,\n",
       "       -5.0623024e-01,  4.0013742e-02,  9.4628459e-01, -3.9297688e-01,\n",
       "        1.1177979e+00, -9.4674695e-01,  4.9680662e-01,  2.8922260e-01],\n",
       "      dtype=float32)"
      ]
     },
     "execution_count": 8,
     "metadata": {},
     "output_type": "execute_result"
    }
   ],
   "source": [
    "model.wv['이정재']"
   ]
  },
  {
   "cell_type": "code",
   "execution_count": 8,
   "metadata": {
    "collapsed": true
   },
   "outputs": [],
   "source": [
    "from sklearn.metrics.pairwise import cosine_similarity"
   ]
  },
  {
   "cell_type": "code",
   "execution_count": 9,
   "metadata": {},
   "outputs": [
    {
     "data": {
      "text/plain": [
       "array([[0.7800241]], dtype=float32)"
      ]
     },
     "execution_count": 9,
     "metadata": {},
     "output_type": "execute_result"
    }
   ],
   "source": [
    "cosine_similarity(model.wv['이정재'].reshape(1,-1),model.wv['이범수'].reshape(1,-1))"
   ]
  },
  {
   "cell_type": "code",
   "execution_count": 10,
   "metadata": {},
   "outputs": [
    {
     "name": "stderr",
     "output_type": "stream",
     "text": [
      "C:\\Users\\Sang\\Anaconda3\\lib\\site-packages\\gensim\\matutils.py:737: FutureWarning: Conversion of the second argument of issubdtype from `int` to `np.signedinteger` is deprecated. In future, it will be treated as `np.int32 == np.dtype(int).type`.\n",
      "  if np.issubdtype(vec.dtype, np.int):\n"
     ]
    },
    {
     "data": {
      "text/plain": [
       "[('이범수', 0.7800242304801941),\n",
       " ('송강호', 0.7637102603912354),\n",
       " ('김윤석', 0.7477872967720032),\n",
       " ('이성민', 0.7367472052574158),\n",
       " ('공유', 0.7337689995765686),\n",
       " ('조재현', 0.7108954191207886),\n",
       " ('이진욱', 0.6951301097869873),\n",
       " ('김범수', 0.6861711740493774),\n",
       " ('김남길', 0.6836501955986023),\n",
       " ('황정민', 0.6783167123794556),\n",
       " ('주지훈', 0.6766409873962402),\n",
       " ('정우성', 0.6690822839736938),\n",
       " ('마동석', 0.6683885455131531),\n",
       " ('박해일', 0.6596658229827881),\n",
       " ('이병헌', 0.65938401222229),\n",
       " ('요한', 0.6522340178489685),\n",
       " ('임시완', 0.6521508693695068),\n",
       " ('김명민', 0.6482745409011841),\n",
       " ('강예원', 0.6480714082717896),\n",
       " ('곽도원', 0.6475769877433777)]"
      ]
     },
     "execution_count": 10,
     "metadata": {},
     "output_type": "execute_result"
    }
   ],
   "source": [
    "model.wv.similar_by_word('이정재',topn=20)"
   ]
  },
  {
   "cell_type": "code",
   "execution_count": 12,
   "metadata": {},
   "outputs": [
    {
     "name": "stderr",
     "output_type": "stream",
     "text": [
      "C:\\Users\\Sang\\Anaconda3\\lib\\site-packages\\gensim\\matutils.py:737: FutureWarning: Conversion of the second argument of issubdtype from `int` to `np.signedinteger` is deprecated. In future, it will be treated as `np.int32 == np.dtype(int).type`.\n",
      "  if np.issubdtype(vec.dtype, np.int):\n"
     ]
    },
    {
     "data": {
      "text/plain": [
       "[('재미있', 0.8970472812652588),\n",
       " ('재밌네', 0.8275203704833984),\n",
       " ('재밌어', 0.8213738203048706),\n",
       " ('재밋음', 0.804770827293396),\n",
       " ('재밌었', 0.7964779734611511),\n",
       " ('재밌는', 0.7383912801742554),\n",
       " ('재밋어', 0.7273887395858765),\n",
       " ('재미있었', 0.7153621912002563),\n",
       " ('재미있네', 0.7125424146652222),\n",
       " ('재밋네', 0.7055946588516235),\n",
       " ('잼남', 0.7040202021598816),\n",
       " ('재밌던', 0.6960337162017822),\n",
       " ('재미있어', 0.6890102028846741),\n",
       " ('재밌다', 0.6882636547088623),\n",
       " ('재밌더', 0.6878877282142639),\n",
       " ('재밋엇어', 0.6857227683067322),\n",
       " ('재밋', 0.6852385997772217),\n",
       " ('꿀잼', 0.6734797954559326),\n",
       " ('재밌고', 0.6578759551048279),\n",
       " ('재미있던', 0.6519865393638611),\n",
       " ('재밋었어', 0.651836097240448),\n",
       " ('재밌구', 0.6414423584938049),\n",
       " ('재미있는', 0.6399118900299072),\n",
       " ('재밋엇', 0.6339613199234009),\n",
       " ('잼', 0.609200656414032),\n",
       " ('재밌게', 0.6068774461746216),\n",
       " ('재밋엇음', 0.5971360802650452),\n",
       " ('재미있다', 0.5926587581634521),\n",
       " ('재밋습니', 0.5796632766723633),\n",
       " ('웃김', 0.5773693323135376),\n",
       " ('개꿀잼', 0.574456512928009),\n",
       " ('재밋었', 0.5729736089706421),\n",
       " ('존잼', 0.5679388046264648),\n",
       " ('재밋었음', 0.5675663948059082),\n",
       " ('재미있더', 0.5613280534744263),\n",
       " ('재미없', 0.5497287511825562),\n",
       " ('재미있고', 0.5484272241592407),\n",
       " ('재미나', 0.5415347814559937),\n",
       " ('재미있게', 0.5413352847099304),\n",
       " ('재밌으', 0.5358030200004578),\n",
       " ('재밌겠', 0.5304898619651794),\n",
       " ('웃겼', 0.5195475816726685),\n",
       " ('괜찮', 0.5173899531364441),\n",
       " ('재밋어용', 0.5135769844055176),\n",
       " ('무서웠', 0.500434935092926),\n",
       " ('재밋었습니', 0.49125170707702637),\n",
       " ('멋있', 0.4878159463405609),\n",
       " ('만족했', 0.48459592461586),\n",
       " ('졸잼', 0.4772548973560333),\n",
       " ('쎈듯', 0.47517237067222595)]"
      ]
     },
     "execution_count": 12,
     "metadata": {},
     "output_type": "execute_result"
    }
   ],
   "source": [
    "model.wv.similar_by_word(u'재밌',topn=50)"
   ]
  },
  {
   "cell_type": "code",
   "execution_count": 17,
   "metadata": {},
   "outputs": [
    {
     "name": "stderr",
     "output_type": "stream",
     "text": [
      "C:\\Users\\Sang\\Anaconda3\\lib\\site-packages\\gensim\\matutils.py:737: FutureWarning: Conversion of the second argument of issubdtype from `int` to `np.signedinteger` is deprecated. In future, it will be treated as `np.int32 == np.dtype(int).type`.\n",
      "  if np.issubdtype(vec.dtype, np.int):\n"
     ]
    },
    {
     "data": {
      "text/plain": [
       "0.6683953"
      ]
     },
     "execution_count": 17,
     "metadata": {},
     "output_type": "execute_result"
    }
   ],
   "source": [
    "model.wv.similarity(u'이정재', u'이병헌')"
   ]
  }
 ],
 "metadata": {
  "kernelspec": {
   "display_name": "Python 3",
   "language": "python",
   "name": "python3"
  },
  "language_info": {
   "codemirror_mode": {
    "name": "ipython",
    "version": 3
   },
   "file_extension": ".py",
   "mimetype": "text/x-python",
   "name": "python",
   "nbconvert_exporter": "python",
   "pygments_lexer": "ipython3",
   "version": "3.6.1"
  }
 },
 "nbformat": 4,
 "nbformat_minor": 2
}
