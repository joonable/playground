{
 "cells": [
  {
   "cell_type": "code",
   "execution_count": 9,
   "metadata": {
    "collapsed": true
   },
   "outputs": [],
   "source": [
    "from soynlp.noun import LRNounExtractor_v2\n",
    "import pandas as pd\n",
    "import re\n",
    "from itertools import chain"
   ]
  },
  {
   "cell_type": "code",
   "execution_count": 3,
   "metadata": {},
   "outputs": [],
   "source": [
    "df = pd.read_pickle('df_dataset.pkl')"
   ]
  },
  {
   "cell_type": "code",
   "execution_count": 5,
   "metadata": {},
   "outputs": [],
   "source": [
    "corpus = df.text.tolist()"
   ]
  },
  {
   "cell_type": "code",
   "execution_count": 6,
   "metadata": {},
   "outputs": [],
   "source": [
    "def cleansing_text(text):\n",
    "    text = re.sub(pattern='\\n|ㆍ|\\r|\\.|,|;|:|<|>|-|_|=|\\+|/|\\?|!|@|\\(|\\)|\\*|&|！|\\^|#|%|\\$|~|？|\\[|\\]|\\\"|[0-9]', repl=\" \", string=text)\n",
    "    text = re.sub(pattern='( )+', repl=' ', string=text)\n",
    "    text = re.sub(pattern='(ㅎ)+', repl='ㅎ', string=text)\n",
    "    text = re.sub(pattern='(ㅋ)+', repl='ㅋ', string=text)\n",
    "    text = re.sub(pattern='(ㅠ|ㅜ)+', repl='ㅠ', string=text)\n",
    "    return text"
   ]
  },
  {
   "cell_type": "code",
   "execution_count": 7,
   "metadata": {},
   "outputs": [],
   "source": [
    "corpus = [cleansing_text(text) for text in corpus]"
   ]
  },
  {
   "cell_type": "code",
   "execution_count": 11,
   "metadata": {},
   "outputs": [
    {
     "name": "stdout",
     "output_type": "stream",
     "text": [
      "[Noun Extractor] use default predictors\n[Noun Extractor] num features: pos=1260, neg=1173, common=12\n"
     ]
    }
   ],
   "source": [
    "noun_extractor = LRNounExtractor_v2(\n",
    "    verbose=True, \n",
    "    extract_compound=True\n",
    ")"
   ]
  },
  {
   "cell_type": "code",
   "execution_count": 12,
   "metadata": {},
   "outputs": [
    {
     "name": "stdout",
     "output_type": "stream",
     "text": [
      "[Noun Extractor] counting eojeols\n"
     ]
    },
    {
     "name": "stdout",
     "output_type": "stream",
     "text": [
      "\r[EojeolCounter] n eojeol = 216734 from 100000 sents. mem=0.235 Gb                    "
     ]
    },
    {
     "name": "stdout",
     "output_type": "stream",
     "text": [
      "\r[EojeolCounter] n eojeol = 268021 from 133606 sents. mem=0.244 Gb                    \n"
     ]
    },
    {
     "name": "stdout",
     "output_type": "stream",
     "text": [
      "[Noun Extractor] complete eojeol counter -> lr graph\n"
     ]
    },
    {
     "name": "stdout",
     "output_type": "stream",
     "text": [
      "[Noun Extractor] has been trained. mem=0.883 Gb\n"
     ]
    }
   ],
   "source": [
    "noun_extractor.train(corpus)\n"
   ]
  },
  {
   "cell_type": "code",
   "execution_count": 25,
   "metadata": {},
   "outputs": [
    {
     "name": "stdout",
     "output_type": "stream",
     "text": [
      "\r  -- batch prediction 0.813 % of 122978 words"
     ]
    },
    {
     "name": "stdout",
     "output_type": "stream",
     "text": [
      "\r  -- batch prediction 1.626 % of 122978 words"
     ]
    },
    {
     "name": "stdout",
     "output_type": "stream",
     "text": [
      "\r  -- batch prediction 2.439 % of 122978 words"
     ]
    },
    {
     "name": "stdout",
     "output_type": "stream",
     "text": [
      "\r  -- batch prediction 3.253 % of 122978 words"
     ]
    },
    {
     "name": "stdout",
     "output_type": "stream",
     "text": [
      "\r  -- batch prediction 4.066 % of 122978 words"
     ]
    },
    {
     "name": "stdout",
     "output_type": "stream",
     "text": [
      "\r  -- batch prediction 4.879 % of 122978 words"
     ]
    },
    {
     "name": "stdout",
     "output_type": "stream",
     "text": [
      "\r  -- batch prediction 5.692 % of 122978 words"
     ]
    },
    {
     "name": "stdout",
     "output_type": "stream",
     "text": [
      "\r  -- batch prediction 6.505 % of 122978 words"
     ]
    },
    {
     "name": "stdout",
     "output_type": "stream",
     "text": [
      "\r  -- batch prediction 7.318 % of 122978 words"
     ]
    },
    {
     "name": "stdout",
     "output_type": "stream",
     "text": [
      "\r  -- batch prediction 8.132 % of 122978 words"
     ]
    },
    {
     "name": "stdout",
     "output_type": "stream",
     "text": [
      "\r  -- batch prediction 8.945 % of 122978 words"
     ]
    },
    {
     "name": "stdout",
     "output_type": "stream",
     "text": [
      "\r  -- batch prediction 9.758 % of 122978 words"
     ]
    },
    {
     "name": "stdout",
     "output_type": "stream",
     "text": [
      "\r  -- batch prediction 10.571 % of 122978 words"
     ]
    },
    {
     "name": "stdout",
     "output_type": "stream",
     "text": [
      "\r  -- batch prediction 11.384 % of 122978 words"
     ]
    },
    {
     "name": "stdout",
     "output_type": "stream",
     "text": [
      "\r  -- batch prediction 12.197 % of 122978 words"
     ]
    },
    {
     "name": "stdout",
     "output_type": "stream",
     "text": [
      "\r  -- batch prediction 13.010 % of 122978 words"
     ]
    },
    {
     "name": "stdout",
     "output_type": "stream",
     "text": [
      "\r  -- batch prediction 13.824 % of 122978 words"
     ]
    },
    {
     "name": "stdout",
     "output_type": "stream",
     "text": [
      "\r  -- batch prediction 14.637 % of 122978 words"
     ]
    },
    {
     "name": "stdout",
     "output_type": "stream",
     "text": [
      "\r  -- batch prediction 15.450 % of 122978 words"
     ]
    },
    {
     "name": "stdout",
     "output_type": "stream",
     "text": [
      "\r  -- batch prediction 16.263 % of 122978 words"
     ]
    },
    {
     "name": "stdout",
     "output_type": "stream",
     "text": [
      "\r  -- batch prediction 17.076 % of 122978 words"
     ]
    },
    {
     "name": "stdout",
     "output_type": "stream",
     "text": [
      "\r  -- batch prediction 17.889 % of 122978 words"
     ]
    },
    {
     "name": "stdout",
     "output_type": "stream",
     "text": [
      "\r  -- batch prediction 18.703 % of 122978 words"
     ]
    },
    {
     "name": "stdout",
     "output_type": "stream",
     "text": [
      "\r  -- batch prediction 19.516 % of 122978 words"
     ]
    },
    {
     "name": "stdout",
     "output_type": "stream",
     "text": [
      "\r  -- batch prediction 20.329 % of 122978 words"
     ]
    },
    {
     "name": "stdout",
     "output_type": "stream",
     "text": [
      "\r  -- batch prediction 21.142 % of 122978 words"
     ]
    },
    {
     "name": "stdout",
     "output_type": "stream",
     "text": [
      "\r  -- batch prediction 21.955 % of 122978 words"
     ]
    },
    {
     "name": "stdout",
     "output_type": "stream",
     "text": [
      "\r  -- batch prediction 22.768 % of 122978 words"
     ]
    },
    {
     "name": "stdout",
     "output_type": "stream",
     "text": [
      "\r  -- batch prediction 23.581 % of 122978 words"
     ]
    },
    {
     "name": "stdout",
     "output_type": "stream",
     "text": [
      "\r  -- batch prediction 24.395 % of 122978 words"
     ]
    },
    {
     "name": "stdout",
     "output_type": "stream",
     "text": [
      "\r  -- batch prediction 25.208 % of 122978 words"
     ]
    },
    {
     "name": "stdout",
     "output_type": "stream",
     "text": [
      "\r  -- batch prediction 26.021 % of 122978 words"
     ]
    },
    {
     "name": "stdout",
     "output_type": "stream",
     "text": [
      "\r  -- batch prediction 26.834 % of 122978 words"
     ]
    },
    {
     "name": "stdout",
     "output_type": "stream",
     "text": [
      "\r  -- batch prediction 27.647 % of 122978 words"
     ]
    },
    {
     "name": "stdout",
     "output_type": "stream",
     "text": [
      "\r  -- batch prediction 28.460 % of 122978 words"
     ]
    },
    {
     "name": "stdout",
     "output_type": "stream",
     "text": [
      "\r  -- batch prediction 29.274 % of 122978 words"
     ]
    },
    {
     "name": "stdout",
     "output_type": "stream",
     "text": [
      "\r  -- batch prediction 30.087 % of 122978 words"
     ]
    },
    {
     "name": "stdout",
     "output_type": "stream",
     "text": [
      "\r  -- batch prediction 30.900 % of 122978 words"
     ]
    },
    {
     "name": "stdout",
     "output_type": "stream",
     "text": [
      "\r  -- batch prediction 31.713 % of 122978 words"
     ]
    },
    {
     "name": "stdout",
     "output_type": "stream",
     "text": [
      "\r  -- batch prediction 32.526 % of 122978 words"
     ]
    },
    {
     "name": "stdout",
     "output_type": "stream",
     "text": [
      "\r  -- batch prediction 33.339 % of 122978 words"
     ]
    },
    {
     "name": "stdout",
     "output_type": "stream",
     "text": [
      "\r  -- batch prediction 34.152 % of 122978 words"
     ]
    },
    {
     "name": "stdout",
     "output_type": "stream",
     "text": [
      "\r  -- batch prediction 34.966 % of 122978 words"
     ]
    },
    {
     "name": "stdout",
     "output_type": "stream",
     "text": [
      "\r  -- batch prediction 35.779 % of 122978 words"
     ]
    },
    {
     "name": "stdout",
     "output_type": "stream",
     "text": [
      "\r  -- batch prediction 36.592 % of 122978 words"
     ]
    },
    {
     "name": "stdout",
     "output_type": "stream",
     "text": [
      "\r  -- batch prediction 37.405 % of 122978 words"
     ]
    },
    {
     "name": "stdout",
     "output_type": "stream",
     "text": [
      "\r  -- batch prediction 38.218 % of 122978 words"
     ]
    },
    {
     "name": "stdout",
     "output_type": "stream",
     "text": [
      "\r  -- batch prediction 39.031 % of 122978 words"
     ]
    },
    {
     "name": "stdout",
     "output_type": "stream",
     "text": [
      "\r  -- batch prediction 39.845 % of 122978 words"
     ]
    },
    {
     "name": "stdout",
     "output_type": "stream",
     "text": [
      "\r  -- batch prediction 40.658 % of 122978 words"
     ]
    },
    {
     "name": "stdout",
     "output_type": "stream",
     "text": [
      "\r  -- batch prediction 41.471 % of 122978 words"
     ]
    },
    {
     "name": "stdout",
     "output_type": "stream",
     "text": [
      "\r  -- batch prediction 42.284 % of 122978 words"
     ]
    },
    {
     "name": "stdout",
     "output_type": "stream",
     "text": [
      "\r  -- batch prediction 43.097 % of 122978 words"
     ]
    },
    {
     "name": "stdout",
     "output_type": "stream",
     "text": [
      "\r  -- batch prediction 43.910 % of 122978 words"
     ]
    },
    {
     "name": "stdout",
     "output_type": "stream",
     "text": [
      "\r  -- batch prediction 44.723 % of 122978 words"
     ]
    },
    {
     "name": "stdout",
     "output_type": "stream",
     "text": [
      "\r  -- batch prediction 45.537 % of 122978 words"
     ]
    },
    {
     "name": "stdout",
     "output_type": "stream",
     "text": [
      "\r  -- batch prediction 46.350 % of 122978 words"
     ]
    },
    {
     "name": "stdout",
     "output_type": "stream",
     "text": [
      "\r  -- batch prediction 47.163 % of 122978 words"
     ]
    },
    {
     "name": "stdout",
     "output_type": "stream",
     "text": [
      "\r  -- batch prediction 47.976 % of 122978 words"
     ]
    },
    {
     "name": "stdout",
     "output_type": "stream",
     "text": [
      "\r  -- batch prediction 48.789 % of 122978 words"
     ]
    },
    {
     "name": "stdout",
     "output_type": "stream",
     "text": [
      "\r  -- batch prediction 49.602 % of 122978 words"
     ]
    },
    {
     "name": "stdout",
     "output_type": "stream",
     "text": [
      "\r  -- batch prediction 50.416 % of 122978 words"
     ]
    },
    {
     "name": "stdout",
     "output_type": "stream",
     "text": [
      "\r  -- batch prediction 51.229 % of 122978 words"
     ]
    },
    {
     "name": "stdout",
     "output_type": "stream",
     "text": [
      "\r  -- batch prediction 52.042 % of 122978 words"
     ]
    },
    {
     "name": "stdout",
     "output_type": "stream",
     "text": [
      "\r  -- batch prediction 52.855 % of 122978 words"
     ]
    },
    {
     "name": "stdout",
     "output_type": "stream",
     "text": [
      "\r  -- batch prediction 53.668 % of 122978 words"
     ]
    },
    {
     "name": "stdout",
     "output_type": "stream",
     "text": [
      "\r  -- batch prediction 54.481 % of 122978 words"
     ]
    },
    {
     "name": "stdout",
     "output_type": "stream",
     "text": [
      "\r  -- batch prediction 55.294 % of 122978 words"
     ]
    },
    {
     "name": "stdout",
     "output_type": "stream",
     "text": [
      "\r  -- batch prediction 56.108 % of 122978 words"
     ]
    },
    {
     "name": "stdout",
     "output_type": "stream",
     "text": [
      "\r  -- batch prediction 56.921 % of 122978 words"
     ]
    },
    {
     "name": "stdout",
     "output_type": "stream",
     "text": [
      "\r  -- batch prediction 57.734 % of 122978 words"
     ]
    },
    {
     "name": "stdout",
     "output_type": "stream",
     "text": [
      "\r  -- batch prediction 58.547 % of 122978 words"
     ]
    },
    {
     "name": "stdout",
     "output_type": "stream",
     "text": [
      "\r  -- batch prediction 59.360 % of 122978 words"
     ]
    },
    {
     "name": "stdout",
     "output_type": "stream",
     "text": [
      "\r  -- batch prediction 60.173 % of 122978 words"
     ]
    },
    {
     "name": "stdout",
     "output_type": "stream",
     "text": [
      "\r  -- batch prediction 60.987 % of 122978 words"
     ]
    },
    {
     "name": "stdout",
     "output_type": "stream",
     "text": [
      "\r  -- batch prediction 61.800 % of 122978 words"
     ]
    },
    {
     "name": "stdout",
     "output_type": "stream",
     "text": [
      "\r  -- batch prediction 62.613 % of 122978 words"
     ]
    },
    {
     "name": "stdout",
     "output_type": "stream",
     "text": [
      "\r  -- batch prediction 63.426 % of 122978 words"
     ]
    },
    {
     "name": "stdout",
     "output_type": "stream",
     "text": [
      "\r  -- batch prediction 64.239 % of 122978 words"
     ]
    },
    {
     "name": "stdout",
     "output_type": "stream",
     "text": [
      "\r  -- batch prediction 65.052 % of 122978 words"
     ]
    },
    {
     "name": "stdout",
     "output_type": "stream",
     "text": [
      "\r  -- batch prediction 65.865 % of 122978 words"
     ]
    },
    {
     "name": "stdout",
     "output_type": "stream",
     "text": [
      "\r  -- batch prediction 66.679 % of 122978 words"
     ]
    },
    {
     "name": "stdout",
     "output_type": "stream",
     "text": [
      "\r  -- batch prediction 67.492 % of 122978 words"
     ]
    },
    {
     "name": "stdout",
     "output_type": "stream",
     "text": [
      "\r  -- batch prediction 68.305 % of 122978 words"
     ]
    },
    {
     "name": "stdout",
     "output_type": "stream",
     "text": [
      "\r  -- batch prediction 69.118 % of 122978 words"
     ]
    },
    {
     "name": "stdout",
     "output_type": "stream",
     "text": [
      "\r  -- batch prediction 69.931 % of 122978 words"
     ]
    },
    {
     "name": "stdout",
     "output_type": "stream",
     "text": [
      "\r  -- batch prediction 70.744 % of 122978 words"
     ]
    },
    {
     "name": "stdout",
     "output_type": "stream",
     "text": [
      "\r  -- batch prediction 71.558 % of 122978 words"
     ]
    },
    {
     "name": "stdout",
     "output_type": "stream",
     "text": [
      "\r  -- batch prediction 72.371 % of 122978 words"
     ]
    },
    {
     "name": "stdout",
     "output_type": "stream",
     "text": [
      "\r  -- batch prediction 73.184 % of 122978 words"
     ]
    },
    {
     "name": "stdout",
     "output_type": "stream",
     "text": [
      "\r  -- batch prediction 73.997 % of 122978 words"
     ]
    },
    {
     "name": "stdout",
     "output_type": "stream",
     "text": [
      "\r  -- batch prediction 74.810 % of 122978 words"
     ]
    },
    {
     "name": "stdout",
     "output_type": "stream",
     "text": [
      "\r  -- batch prediction 75.623 % of 122978 words"
     ]
    },
    {
     "name": "stdout",
     "output_type": "stream",
     "text": [
      "\r  -- batch prediction 76.436 % of 122978 words"
     ]
    },
    {
     "name": "stdout",
     "output_type": "stream",
     "text": [
      "\r  -- batch prediction 77.250 % of 122978 words"
     ]
    },
    {
     "name": "stdout",
     "output_type": "stream",
     "text": [
      "\r  -- batch prediction 78.063 % of 122978 words"
     ]
    },
    {
     "name": "stdout",
     "output_type": "stream",
     "text": [
      "\r  -- batch prediction 78.876 % of 122978 words"
     ]
    },
    {
     "name": "stdout",
     "output_type": "stream",
     "text": [
      "\r  -- batch prediction 79.689 % of 122978 words"
     ]
    },
    {
     "name": "stdout",
     "output_type": "stream",
     "text": [
      "\r  -- batch prediction 80.502 % of 122978 words"
     ]
    },
    {
     "name": "stdout",
     "output_type": "stream",
     "text": [
      "\r  -- batch prediction 81.315 % of 122978 words"
     ]
    },
    {
     "name": "stdout",
     "output_type": "stream",
     "text": [
      "\r  -- batch prediction 82.129 % of 122978 words"
     ]
    },
    {
     "name": "stdout",
     "output_type": "stream",
     "text": [
      "\r  -- batch prediction 82.942 % of 122978 words"
     ]
    },
    {
     "name": "stdout",
     "output_type": "stream",
     "text": [
      "\r  -- batch prediction 83.755 % of 122978 words"
     ]
    },
    {
     "name": "stdout",
     "output_type": "stream",
     "text": [
      "\r  -- batch prediction 84.568 % of 122978 words"
     ]
    },
    {
     "name": "stdout",
     "output_type": "stream",
     "text": [
      "\r  -- batch prediction 85.381 % of 122978 words"
     ]
    },
    {
     "name": "stdout",
     "output_type": "stream",
     "text": [
      "\r  -- batch prediction 86.194 % of 122978 words"
     ]
    },
    {
     "name": "stdout",
     "output_type": "stream",
     "text": [
      "\r  -- batch prediction 87.007 % of 122978 words"
     ]
    },
    {
     "name": "stdout",
     "output_type": "stream",
     "text": [
      "\r  -- batch prediction 87.821 % of 122978 words"
     ]
    },
    {
     "name": "stdout",
     "output_type": "stream",
     "text": [
      "\r  -- batch prediction 88.634 % of 122978 words"
     ]
    },
    {
     "name": "stdout",
     "output_type": "stream",
     "text": [
      "\r  -- batch prediction 89.447 % of 122978 words"
     ]
    },
    {
     "name": "stdout",
     "output_type": "stream",
     "text": [
      "\r  -- batch prediction 90.260 % of 122978 words"
     ]
    },
    {
     "name": "stdout",
     "output_type": "stream",
     "text": [
      "\r  -- batch prediction 91.073 % of 122978 words"
     ]
    },
    {
     "name": "stdout",
     "output_type": "stream",
     "text": [
      "\r  -- batch prediction 91.886 % of 122978 words"
     ]
    },
    {
     "name": "stdout",
     "output_type": "stream",
     "text": [
      "\r  -- batch prediction 92.700 % of 122978 words"
     ]
    },
    {
     "name": "stdout",
     "output_type": "stream",
     "text": [
      "\r  -- batch prediction 93.513 % of 122978 words"
     ]
    },
    {
     "name": "stdout",
     "output_type": "stream",
     "text": [
      "\r  -- batch prediction 94.326 % of 122978 words"
     ]
    },
    {
     "name": "stdout",
     "output_type": "stream",
     "text": [
      "\r  -- batch prediction 95.139 % of 122978 words"
     ]
    },
    {
     "name": "stdout",
     "output_type": "stream",
     "text": [
      "\r  -- batch prediction 95.952 % of 122978 words"
     ]
    },
    {
     "name": "stdout",
     "output_type": "stream",
     "text": [
      "\r  -- batch prediction 96.765 % of 122978 words"
     ]
    },
    {
     "name": "stdout",
     "output_type": "stream",
     "text": [
      "\r  -- batch prediction 97.578 % of 122978 words"
     ]
    },
    {
     "name": "stdout",
     "output_type": "stream",
     "text": [
      "\r  -- batch prediction 98.392 % of 122978 words"
     ]
    },
    {
     "name": "stdout",
     "output_type": "stream",
     "text": [
      "\r  -- batch prediction 99.205 % of 122978 words"
     ]
    },
    {
     "name": "stdout",
     "output_type": "stream",
     "text": [
      "\r[Noun Extractor] batch prediction was completed for 122978 words\n"
     ]
    },
    {
     "name": "stdout",
     "output_type": "stream",
     "text": [
      "\r  -- check compound 0.90 %"
     ]
    },
    {
     "name": "stdout",
     "output_type": "stream",
     "text": [
      "\r  -- check compound 1.80 %"
     ]
    },
    {
     "name": "stdout",
     "output_type": "stream",
     "text": [
      "\r  -- check compound 2.70 %"
     ]
    },
    {
     "name": "stdout",
     "output_type": "stream",
     "text": [
      "\r  -- check compound 3.59 %"
     ]
    },
    {
     "name": "stdout",
     "output_type": "stream",
     "text": [
      "\r  -- check compound 4.49 %"
     ]
    },
    {
     "name": "stdout",
     "output_type": "stream",
     "text": [
      "\r  -- check compound 5.39 %"
     ]
    },
    {
     "name": "stdout",
     "output_type": "stream",
     "text": [
      "\r  -- check compound 6.29 %"
     ]
    },
    {
     "name": "stdout",
     "output_type": "stream",
     "text": [
      "\r  -- check compound 7.19 %"
     ]
    },
    {
     "name": "stdout",
     "output_type": "stream",
     "text": [
      "\r  -- check compound 8.09 %"
     ]
    },
    {
     "name": "stdout",
     "output_type": "stream",
     "text": [
      "\r  -- check compound 8.99 %"
     ]
    },
    {
     "name": "stdout",
     "output_type": "stream",
     "text": [
      "\r  -- check compound 9.88 %"
     ]
    },
    {
     "name": "stdout",
     "output_type": "stream",
     "text": [
      "\r  -- check compound 10.78 %"
     ]
    },
    {
     "name": "stdout",
     "output_type": "stream",
     "text": [
      "\r  -- check compound 11.68 %"
     ]
    },
    {
     "name": "stdout",
     "output_type": "stream",
     "text": [
      "\r  -- check compound 12.58 %"
     ]
    },
    {
     "name": "stdout",
     "output_type": "stream",
     "text": [
      "\r  -- check compound 13.48 %"
     ]
    },
    {
     "name": "stdout",
     "output_type": "stream",
     "text": [
      "\r  -- check compound 14.38 %"
     ]
    },
    {
     "name": "stdout",
     "output_type": "stream",
     "text": [
      "\r  -- check compound 15.28 %"
     ]
    },
    {
     "name": "stdout",
     "output_type": "stream",
     "text": [
      "\r  -- check compound 16.17 %"
     ]
    },
    {
     "name": "stdout",
     "output_type": "stream",
     "text": [
      "\r  -- check compound 17.07 %"
     ]
    },
    {
     "name": "stdout",
     "output_type": "stream",
     "text": [
      "\r  -- check compound 17.97 %"
     ]
    },
    {
     "name": "stdout",
     "output_type": "stream",
     "text": [
      "\r  -- check compound 18.87 %"
     ]
    },
    {
     "name": "stdout",
     "output_type": "stream",
     "text": [
      "\r  -- check compound 19.77 %"
     ]
    },
    {
     "name": "stdout",
     "output_type": "stream",
     "text": [
      "\r  -- check compound 20.67 %"
     ]
    },
    {
     "name": "stdout",
     "output_type": "stream",
     "text": [
      "\r  -- check compound 21.57 %"
     ]
    },
    {
     "name": "stdout",
     "output_type": "stream",
     "text": [
      "\r  -- check compound 22.47 %"
     ]
    },
    {
     "name": "stdout",
     "output_type": "stream",
     "text": [
      "\r  -- check compound 23.36 %"
     ]
    },
    {
     "name": "stdout",
     "output_type": "stream",
     "text": [
      "\r  -- check compound 24.26 %"
     ]
    },
    {
     "name": "stdout",
     "output_type": "stream",
     "text": [
      "\r  -- check compound 25.16 %"
     ]
    },
    {
     "name": "stdout",
     "output_type": "stream",
     "text": [
      "\r  -- check compound 26.06 %"
     ]
    },
    {
     "name": "stdout",
     "output_type": "stream",
     "text": [
      "\r  -- check compound 26.96 %"
     ]
    },
    {
     "name": "stdout",
     "output_type": "stream",
     "text": [
      "\r  -- check compound 27.86 %"
     ]
    },
    {
     "name": "stdout",
     "output_type": "stream",
     "text": [
      "\r  -- check compound 28.76 %"
     ]
    },
    {
     "name": "stdout",
     "output_type": "stream",
     "text": [
      "\r  -- check compound 29.65 %"
     ]
    },
    {
     "name": "stdout",
     "output_type": "stream",
     "text": [
      "\r  -- check compound 30.55 %"
     ]
    },
    {
     "name": "stdout",
     "output_type": "stream",
     "text": [
      "\r  -- check compound 31.45 %"
     ]
    },
    {
     "name": "stdout",
     "output_type": "stream",
     "text": [
      "\r  -- check compound 32.35 %"
     ]
    },
    {
     "name": "stdout",
     "output_type": "stream",
     "text": [
      "\r  -- check compound 33.25 %"
     ]
    },
    {
     "name": "stdout",
     "output_type": "stream",
     "text": [
      "\r  -- check compound 34.15 %"
     ]
    },
    {
     "name": "stdout",
     "output_type": "stream",
     "text": [
      "\r  -- check compound 35.05 %"
     ]
    },
    {
     "name": "stdout",
     "output_type": "stream",
     "text": [
      "\r  -- check compound 35.94 %"
     ]
    },
    {
     "name": "stdout",
     "output_type": "stream",
     "text": [
      "\r  -- check compound 36.84 %"
     ]
    },
    {
     "name": "stdout",
     "output_type": "stream",
     "text": [
      "\r  -- check compound 37.74 %"
     ]
    },
    {
     "name": "stdout",
     "output_type": "stream",
     "text": [
      "\r  -- check compound 38.64 %"
     ]
    },
    {
     "name": "stdout",
     "output_type": "stream",
     "text": [
      "\r  -- check compound 39.54 %"
     ]
    },
    {
     "name": "stdout",
     "output_type": "stream",
     "text": [
      "\r  -- check compound 40.44 %"
     ]
    },
    {
     "name": "stdout",
     "output_type": "stream",
     "text": [
      "\r  -- check compound 41.34 %"
     ]
    },
    {
     "name": "stdout",
     "output_type": "stream",
     "text": [
      "\r  -- check compound 42.24 %"
     ]
    },
    {
     "name": "stdout",
     "output_type": "stream",
     "text": [
      "\r  -- check compound 43.13 %"
     ]
    },
    {
     "name": "stdout",
     "output_type": "stream",
     "text": [
      "\r  -- check compound 44.03 %"
     ]
    },
    {
     "name": "stdout",
     "output_type": "stream",
     "text": [
      "\r  -- check compound 44.93 %"
     ]
    },
    {
     "name": "stdout",
     "output_type": "stream",
     "text": [
      "\r  -- check compound 45.83 %"
     ]
    },
    {
     "name": "stdout",
     "output_type": "stream",
     "text": [
      "\r  -- check compound 46.73 %"
     ]
    },
    {
     "name": "stdout",
     "output_type": "stream",
     "text": [
      "\r  -- check compound 47.63 %"
     ]
    },
    {
     "name": "stdout",
     "output_type": "stream",
     "text": [
      "\r  -- check compound 48.53 %"
     ]
    },
    {
     "name": "stdout",
     "output_type": "stream",
     "text": [
      "\r  -- check compound 49.42 %"
     ]
    },
    {
     "name": "stdout",
     "output_type": "stream",
     "text": [
      "\r  -- check compound 50.32 %"
     ]
    },
    {
     "name": "stdout",
     "output_type": "stream",
     "text": [
      "\r  -- check compound 51.22 %"
     ]
    },
    {
     "name": "stdout",
     "output_type": "stream",
     "text": [
      "\r  -- check compound 52.12 %"
     ]
    },
    {
     "name": "stdout",
     "output_type": "stream",
     "text": [
      "\r  -- check compound 53.02 %"
     ]
    },
    {
     "name": "stdout",
     "output_type": "stream",
     "text": [
      "\r  -- check compound 53.92 %"
     ]
    },
    {
     "name": "stdout",
     "output_type": "stream",
     "text": [
      "\r  -- check compound 54.82 %"
     ]
    },
    {
     "name": "stdout",
     "output_type": "stream",
     "text": [
      "\r  -- check compound 55.71 %"
     ]
    },
    {
     "name": "stdout",
     "output_type": "stream",
     "text": [
      "\r  -- check compound 56.61 %"
     ]
    },
    {
     "name": "stdout",
     "output_type": "stream",
     "text": [
      "\r  -- check compound 57.51 %"
     ]
    },
    {
     "name": "stdout",
     "output_type": "stream",
     "text": [
      "\r  -- check compound 58.41 %"
     ]
    },
    {
     "name": "stdout",
     "output_type": "stream",
     "text": [
      "\r  -- check compound 59.31 %"
     ]
    },
    {
     "name": "stdout",
     "output_type": "stream",
     "text": [
      "\r  -- check compound 60.21 %"
     ]
    },
    {
     "name": "stdout",
     "output_type": "stream",
     "text": [
      "\r  -- check compound 61.11 %"
     ]
    },
    {
     "name": "stdout",
     "output_type": "stream",
     "text": [
      "\r  -- check compound 62.01 %"
     ]
    },
    {
     "name": "stdout",
     "output_type": "stream",
     "text": [
      "\r  -- check compound 62.90 %"
     ]
    },
    {
     "name": "stdout",
     "output_type": "stream",
     "text": [
      "\r  -- check compound 63.80 %"
     ]
    },
    {
     "name": "stdout",
     "output_type": "stream",
     "text": [
      "\r  -- check compound 64.70 %"
     ]
    },
    {
     "name": "stdout",
     "output_type": "stream",
     "text": [
      "\r  -- check compound 65.60 %"
     ]
    },
    {
     "name": "stdout",
     "output_type": "stream",
     "text": [
      "\r  -- check compound 66.50 %"
     ]
    },
    {
     "name": "stdout",
     "output_type": "stream",
     "text": [
      "\r  -- check compound 67.40 %"
     ]
    },
    {
     "name": "stdout",
     "output_type": "stream",
     "text": [
      "\r  -- check compound 68.30 %"
     ]
    },
    {
     "name": "stdout",
     "output_type": "stream",
     "text": [
      "\r  -- check compound 69.19 %"
     ]
    },
    {
     "name": "stdout",
     "output_type": "stream",
     "text": [
      "\r  -- check compound 70.09 %"
     ]
    },
    {
     "name": "stdout",
     "output_type": "stream",
     "text": [
      "\r  -- check compound 70.99 %"
     ]
    },
    {
     "name": "stdout",
     "output_type": "stream",
     "text": [
      "\r  -- check compound 71.89 %"
     ]
    },
    {
     "name": "stdout",
     "output_type": "stream",
     "text": [
      "\r  -- check compound 72.79 %"
     ]
    },
    {
     "name": "stdout",
     "output_type": "stream",
     "text": [
      "\r  -- check compound 73.69 %"
     ]
    },
    {
     "name": "stdout",
     "output_type": "stream",
     "text": [
      "\r  -- check compound 74.59 %"
     ]
    },
    {
     "name": "stdout",
     "output_type": "stream",
     "text": [
      "\r  -- check compound 75.49 %"
     ]
    },
    {
     "name": "stdout",
     "output_type": "stream",
     "text": [
      "\r  -- check compound 76.38 %"
     ]
    },
    {
     "name": "stdout",
     "output_type": "stream",
     "text": [
      "\r  -- check compound 77.28 %"
     ]
    },
    {
     "name": "stdout",
     "output_type": "stream",
     "text": [
      "\r  -- check compound 78.18 %"
     ]
    },
    {
     "name": "stdout",
     "output_type": "stream",
     "text": [
      "\r  -- check compound 79.08 %"
     ]
    },
    {
     "name": "stdout",
     "output_type": "stream",
     "text": [
      "\r  -- check compound 79.98 %"
     ]
    },
    {
     "name": "stdout",
     "output_type": "stream",
     "text": [
      "\r  -- check compound 80.88 %"
     ]
    },
    {
     "name": "stdout",
     "output_type": "stream",
     "text": [
      "\r  -- check compound 81.78 %"
     ]
    },
    {
     "name": "stdout",
     "output_type": "stream",
     "text": [
      "\r  -- check compound 82.67 %"
     ]
    },
    {
     "name": "stdout",
     "output_type": "stream",
     "text": [
      "\r  -- check compound 83.57 %"
     ]
    },
    {
     "name": "stdout",
     "output_type": "stream",
     "text": [
      "\r  -- check compound 84.47 %"
     ]
    },
    {
     "name": "stdout",
     "output_type": "stream",
     "text": [
      "\r  -- check compound 85.37 %"
     ]
    },
    {
     "name": "stdout",
     "output_type": "stream",
     "text": [
      "\r  -- check compound 86.27 %"
     ]
    },
    {
     "name": "stdout",
     "output_type": "stream",
     "text": [
      "\r  -- check compound 87.17 %"
     ]
    },
    {
     "name": "stdout",
     "output_type": "stream",
     "text": [
      "\r  -- check compound 88.07 %"
     ]
    },
    {
     "name": "stdout",
     "output_type": "stream",
     "text": [
      "\r  -- check compound 88.96 %"
     ]
    },
    {
     "name": "stdout",
     "output_type": "stream",
     "text": [
      "\r  -- check compound 89.86 %"
     ]
    },
    {
     "name": "stdout",
     "output_type": "stream",
     "text": [
      "\r  -- check compound 90.76 %"
     ]
    },
    {
     "name": "stdout",
     "output_type": "stream",
     "text": [
      "\r  -- check compound 91.66 %"
     ]
    },
    {
     "name": "stdout",
     "output_type": "stream",
     "text": [
      "\r  -- check compound 92.56 %"
     ]
    },
    {
     "name": "stdout",
     "output_type": "stream",
     "text": [
      "\r  -- check compound 93.46 %"
     ]
    },
    {
     "name": "stdout",
     "output_type": "stream",
     "text": [
      "\r  -- check compound 94.36 %"
     ]
    },
    {
     "name": "stdout",
     "output_type": "stream",
     "text": [
      "\r  -- check compound 95.26 %"
     ]
    },
    {
     "name": "stdout",
     "output_type": "stream",
     "text": [
      "\r  -- check compound 96.15 %"
     ]
    },
    {
     "name": "stdout",
     "output_type": "stream",
     "text": [
      "\r  -- check compound 97.05 %"
     ]
    },
    {
     "name": "stdout",
     "output_type": "stream",
     "text": [
      "\r  -- check compound 97.95 %"
     ]
    },
    {
     "name": "stdout",
     "output_type": "stream",
     "text": [
      "\r  -- check compound 98.85 %"
     ]
    },
    {
     "name": "stdout",
     "output_type": "stream",
     "text": [
      "\r  -- check compound 99.75 %"
     ]
    },
    {
     "name": "stdout",
     "output_type": "stream",
     "text": [
      "\r[Noun Extractor] checked compounds. discovered 1014 compounds\n"
     ]
    },
    {
     "name": "stdout",
     "output_type": "stream",
     "text": [
      "[Noun Extractor] postprocessing detaching_features : 1258 -> 1202\n[Noun Extractor] postprocessing ignore_features : 1202 -> 1170\n[Noun Extractor] postprocessing ignore_NJ : 1170 -> 1112\n[Noun Extractor] 1112 nouns (1014 compounds) with min frequency=100\n"
     ]
    },
    {
     "name": "stdout",
     "output_type": "stream",
     "text": [
      "[Noun Extractor] flushing ... "
     ]
    },
    {
     "name": "stdout",
     "output_type": "stream",
     "text": [
      "\r[Noun Extractor] flushing ...  0.813 %"
     ]
    },
    {
     "name": "stdout",
     "output_type": "stream",
     "text": [
      "\r[Noun Extractor] flushing ...  1.626 %"
     ]
    },
    {
     "name": "stdout",
     "output_type": "stream",
     "text": [
      "\r[Noun Extractor] flushing ...  2.439 %"
     ]
    },
    {
     "name": "stdout",
     "output_type": "stream",
     "text": [
      "\r[Noun Extractor] flushing ...  3.253 %"
     ]
    },
    {
     "name": "stdout",
     "output_type": "stream",
     "text": [
      "\r[Noun Extractor] flushing ...  4.066 %"
     ]
    },
    {
     "name": "stdout",
     "output_type": "stream",
     "text": [
      "\r[Noun Extractor] flushing ...  4.879 %"
     ]
    },
    {
     "name": "stdout",
     "output_type": "stream",
     "text": [
      "\r[Noun Extractor] flushing ...  5.692 %"
     ]
    },
    {
     "name": "stdout",
     "output_type": "stream",
     "text": [
      "\r[Noun Extractor] flushing ...  6.505 %"
     ]
    },
    {
     "name": "stdout",
     "output_type": "stream",
     "text": [
      "\r[Noun Extractor] flushing ...  7.318 %"
     ]
    },
    {
     "name": "stdout",
     "output_type": "stream",
     "text": [
      "\r[Noun Extractor] flushing ...  8.132 %"
     ]
    },
    {
     "name": "stdout",
     "output_type": "stream",
     "text": [
      "\r[Noun Extractor] flushing ...  8.945 %"
     ]
    },
    {
     "name": "stdout",
     "output_type": "stream",
     "text": [
      "\r[Noun Extractor] flushing ...  9.758 %"
     ]
    },
    {
     "name": "stdout",
     "output_type": "stream",
     "text": [
      "\r[Noun Extractor] flushing ...  10.571 %"
     ]
    },
    {
     "name": "stdout",
     "output_type": "stream",
     "text": [
      "\r[Noun Extractor] flushing ...  11.384 %"
     ]
    },
    {
     "name": "stdout",
     "output_type": "stream",
     "text": [
      "\r[Noun Extractor] flushing ...  12.197 %"
     ]
    },
    {
     "name": "stdout",
     "output_type": "stream",
     "text": [
      "\r[Noun Extractor] flushing ...  13.010 %"
     ]
    },
    {
     "name": "stdout",
     "output_type": "stream",
     "text": [
      "\r[Noun Extractor] flushing ...  13.824 %"
     ]
    },
    {
     "name": "stdout",
     "output_type": "stream",
     "text": [
      "\r[Noun Extractor] flushing ...  14.637 %"
     ]
    },
    {
     "name": "stdout",
     "output_type": "stream",
     "text": [
      "\r[Noun Extractor] flushing ...  15.450 %"
     ]
    },
    {
     "name": "stdout",
     "output_type": "stream",
     "text": [
      "\r[Noun Extractor] flushing ...  16.263 %"
     ]
    },
    {
     "name": "stdout",
     "output_type": "stream",
     "text": [
      "\r[Noun Extractor] flushing ...  17.076 %"
     ]
    },
    {
     "name": "stdout",
     "output_type": "stream",
     "text": [
      "\r[Noun Extractor] flushing ...  17.889 %"
     ]
    },
    {
     "name": "stdout",
     "output_type": "stream",
     "text": [
      "\r[Noun Extractor] flushing ...  18.703 %"
     ]
    },
    {
     "name": "stdout",
     "output_type": "stream",
     "text": [
      "\r[Noun Extractor] flushing ...  19.516 %"
     ]
    },
    {
     "name": "stdout",
     "output_type": "stream",
     "text": [
      "\r[Noun Extractor] flushing ...  20.329 %"
     ]
    },
    {
     "name": "stdout",
     "output_type": "stream",
     "text": [
      "\r[Noun Extractor] flushing ...  21.142 %"
     ]
    },
    {
     "name": "stdout",
     "output_type": "stream",
     "text": [
      "\r[Noun Extractor] flushing ...  21.955 %"
     ]
    },
    {
     "name": "stdout",
     "output_type": "stream",
     "text": [
      "\r[Noun Extractor] flushing ...  22.768 %"
     ]
    },
    {
     "name": "stdout",
     "output_type": "stream",
     "text": [
      "\r[Noun Extractor] flushing ...  23.581 %"
     ]
    },
    {
     "name": "stdout",
     "output_type": "stream",
     "text": [
      "\r[Noun Extractor] flushing ...  24.395 %"
     ]
    },
    {
     "name": "stdout",
     "output_type": "stream",
     "text": [
      "\r[Noun Extractor] flushing ...  25.208 %"
     ]
    },
    {
     "name": "stdout",
     "output_type": "stream",
     "text": [
      "\r[Noun Extractor] flushing ...  26.021 %"
     ]
    },
    {
     "name": "stdout",
     "output_type": "stream",
     "text": [
      "\r[Noun Extractor] flushing ...  26.834 %"
     ]
    },
    {
     "name": "stdout",
     "output_type": "stream",
     "text": [
      "\r[Noun Extractor] flushing ...  27.647 %"
     ]
    },
    {
     "name": "stdout",
     "output_type": "stream",
     "text": [
      "\r[Noun Extractor] flushing ...  28.460 %"
     ]
    },
    {
     "name": "stdout",
     "output_type": "stream",
     "text": [
      "\r[Noun Extractor] flushing ...  29.274 %"
     ]
    },
    {
     "name": "stdout",
     "output_type": "stream",
     "text": [
      "\r[Noun Extractor] flushing ...  30.087 %"
     ]
    },
    {
     "name": "stdout",
     "output_type": "stream",
     "text": [
      "\r[Noun Extractor] flushing ...  30.900 %"
     ]
    },
    {
     "name": "stdout",
     "output_type": "stream",
     "text": [
      "\r[Noun Extractor] flushing ...  31.713 %"
     ]
    },
    {
     "name": "stdout",
     "output_type": "stream",
     "text": [
      "\r[Noun Extractor] flushing ...  32.526 %"
     ]
    },
    {
     "name": "stdout",
     "output_type": "stream",
     "text": [
      "\r[Noun Extractor] flushing ...  33.339 %"
     ]
    },
    {
     "name": "stdout",
     "output_type": "stream",
     "text": [
      "\r[Noun Extractor] flushing ...  34.152 %"
     ]
    },
    {
     "name": "stdout",
     "output_type": "stream",
     "text": [
      "\r[Noun Extractor] flushing ...  34.966 %"
     ]
    },
    {
     "name": "stdout",
     "output_type": "stream",
     "text": [
      "\r[Noun Extractor] flushing ...  35.779 %"
     ]
    },
    {
     "name": "stdout",
     "output_type": "stream",
     "text": [
      "\r[Noun Extractor] flushing ...  36.592 %"
     ]
    },
    {
     "name": "stdout",
     "output_type": "stream",
     "text": [
      "\r[Noun Extractor] flushing ...  37.405 %"
     ]
    },
    {
     "name": "stdout",
     "output_type": "stream",
     "text": [
      "\r[Noun Extractor] flushing ...  38.218 %"
     ]
    },
    {
     "name": "stdout",
     "output_type": "stream",
     "text": [
      "\r[Noun Extractor] flushing ...  39.031 %"
     ]
    },
    {
     "name": "stdout",
     "output_type": "stream",
     "text": [
      "\r[Noun Extractor] flushing ...  39.845 %"
     ]
    },
    {
     "name": "stdout",
     "output_type": "stream",
     "text": [
      "\r[Noun Extractor] flushing ...  40.658 %"
     ]
    },
    {
     "name": "stdout",
     "output_type": "stream",
     "text": [
      "\r[Noun Extractor] flushing ...  41.471 %"
     ]
    },
    {
     "name": "stdout",
     "output_type": "stream",
     "text": [
      "\r[Noun Extractor] flushing ...  42.284 %"
     ]
    },
    {
     "name": "stdout",
     "output_type": "stream",
     "text": [
      "\r[Noun Extractor] flushing ...  43.097 %"
     ]
    },
    {
     "name": "stdout",
     "output_type": "stream",
     "text": [
      "\r[Noun Extractor] flushing ...  43.910 %"
     ]
    },
    {
     "name": "stdout",
     "output_type": "stream",
     "text": [
      "\r[Noun Extractor] flushing ...  44.723 %"
     ]
    },
    {
     "name": "stdout",
     "output_type": "stream",
     "text": [
      "\r[Noun Extractor] flushing ...  45.537 %"
     ]
    },
    {
     "name": "stdout",
     "output_type": "stream",
     "text": [
      "\r[Noun Extractor] flushing ...  46.350 %"
     ]
    },
    {
     "name": "stdout",
     "output_type": "stream",
     "text": [
      "\r[Noun Extractor] flushing ...  47.163 %"
     ]
    },
    {
     "name": "stdout",
     "output_type": "stream",
     "text": [
      "\r[Noun Extractor] flushing ...  47.976 %"
     ]
    },
    {
     "name": "stdout",
     "output_type": "stream",
     "text": [
      "\r[Noun Extractor] flushing ...  48.789 %"
     ]
    },
    {
     "name": "stdout",
     "output_type": "stream",
     "text": [
      "\r[Noun Extractor] flushing ...  49.602 %"
     ]
    },
    {
     "name": "stdout",
     "output_type": "stream",
     "text": [
      "\r[Noun Extractor] flushing ...  50.416 %"
     ]
    },
    {
     "name": "stdout",
     "output_type": "stream",
     "text": [
      "\r[Noun Extractor] flushing ...  51.229 %"
     ]
    },
    {
     "name": "stdout",
     "output_type": "stream",
     "text": [
      "\r[Noun Extractor] flushing ...  52.042 %"
     ]
    },
    {
     "name": "stdout",
     "output_type": "stream",
     "text": [
      "\r[Noun Extractor] flushing ...  52.855 %"
     ]
    },
    {
     "name": "stdout",
     "output_type": "stream",
     "text": [
      "\r[Noun Extractor] flushing ...  53.668 %"
     ]
    },
    {
     "name": "stdout",
     "output_type": "stream",
     "text": [
      "\r[Noun Extractor] flushing ...  54.481 %"
     ]
    },
    {
     "name": "stdout",
     "output_type": "stream",
     "text": [
      "\r[Noun Extractor] flushing ...  55.294 %"
     ]
    },
    {
     "name": "stdout",
     "output_type": "stream",
     "text": [
      "\r[Noun Extractor] flushing ...  56.108 %"
     ]
    },
    {
     "name": "stdout",
     "output_type": "stream",
     "text": [
      "\r[Noun Extractor] flushing ...  56.921 %"
     ]
    },
    {
     "name": "stdout",
     "output_type": "stream",
     "text": [
      "\r[Noun Extractor] flushing ...  57.734 %"
     ]
    },
    {
     "name": "stdout",
     "output_type": "stream",
     "text": [
      "\r[Noun Extractor] flushing ...  58.547 %"
     ]
    },
    {
     "name": "stdout",
     "output_type": "stream",
     "text": [
      "\r[Noun Extractor] flushing ...  59.360 %"
     ]
    },
    {
     "name": "stdout",
     "output_type": "stream",
     "text": [
      "\r[Noun Extractor] flushing ...  60.173 %"
     ]
    },
    {
     "name": "stdout",
     "output_type": "stream",
     "text": [
      "\r[Noun Extractor] flushing ...  60.987 %"
     ]
    },
    {
     "name": "stdout",
     "output_type": "stream",
     "text": [
      "\r[Noun Extractor] flushing ...  61.800 %"
     ]
    },
    {
     "name": "stdout",
     "output_type": "stream",
     "text": [
      "\r[Noun Extractor] flushing ...  62.613 %"
     ]
    },
    {
     "name": "stdout",
     "output_type": "stream",
     "text": [
      "\r[Noun Extractor] flushing ...  63.426 %"
     ]
    },
    {
     "name": "stdout",
     "output_type": "stream",
     "text": [
      "\r[Noun Extractor] flushing ...  64.239 %"
     ]
    },
    {
     "name": "stdout",
     "output_type": "stream",
     "text": [
      "\r[Noun Extractor] flushing ...  65.052 %"
     ]
    },
    {
     "name": "stdout",
     "output_type": "stream",
     "text": [
      "\r[Noun Extractor] flushing ...  65.865 %"
     ]
    },
    {
     "name": "stdout",
     "output_type": "stream",
     "text": [
      "\r[Noun Extractor] flushing ...  66.679 %"
     ]
    },
    {
     "name": "stdout",
     "output_type": "stream",
     "text": [
      "\r[Noun Extractor] flushing ...  67.492 %"
     ]
    },
    {
     "name": "stdout",
     "output_type": "stream",
     "text": [
      "\r[Noun Extractor] flushing ...  68.305 %"
     ]
    },
    {
     "name": "stdout",
     "output_type": "stream",
     "text": [
      "\r[Noun Extractor] flushing ...  69.118 %"
     ]
    },
    {
     "name": "stdout",
     "output_type": "stream",
     "text": [
      "\r[Noun Extractor] flushing ...  69.931 %"
     ]
    },
    {
     "name": "stdout",
     "output_type": "stream",
     "text": [
      "\r[Noun Extractor] flushing ...  70.744 %"
     ]
    },
    {
     "name": "stdout",
     "output_type": "stream",
     "text": [
      "\r[Noun Extractor] flushing ...  71.558 %"
     ]
    },
    {
     "name": "stdout",
     "output_type": "stream",
     "text": [
      "\r[Noun Extractor] flushing ...  72.371 %"
     ]
    },
    {
     "name": "stdout",
     "output_type": "stream",
     "text": [
      "\r[Noun Extractor] flushing ...  73.184 %"
     ]
    },
    {
     "name": "stdout",
     "output_type": "stream",
     "text": [
      "\r[Noun Extractor] flushing ...  73.997 %"
     ]
    },
    {
     "name": "stdout",
     "output_type": "stream",
     "text": [
      "\r[Noun Extractor] flushing ...  74.810 %"
     ]
    },
    {
     "name": "stdout",
     "output_type": "stream",
     "text": [
      "\r[Noun Extractor] flushing ...  75.623 %"
     ]
    },
    {
     "name": "stdout",
     "output_type": "stream",
     "text": [
      "\r[Noun Extractor] flushing ...  76.436 %"
     ]
    },
    {
     "name": "stdout",
     "output_type": "stream",
     "text": [
      "\r[Noun Extractor] flushing ...  77.250 %"
     ]
    },
    {
     "name": "stdout",
     "output_type": "stream",
     "text": [
      "\r[Noun Extractor] flushing ...  78.063 %"
     ]
    },
    {
     "name": "stdout",
     "output_type": "stream",
     "text": [
      "\r[Noun Extractor] flushing ...  78.876 %"
     ]
    },
    {
     "name": "stdout",
     "output_type": "stream",
     "text": [
      "\r[Noun Extractor] flushing ...  79.689 %"
     ]
    },
    {
     "name": "stdout",
     "output_type": "stream",
     "text": [
      "\r[Noun Extractor] flushing ...  80.502 %"
     ]
    },
    {
     "name": "stdout",
     "output_type": "stream",
     "text": [
      "\r[Noun Extractor] flushing ...  81.315 %"
     ]
    },
    {
     "name": "stdout",
     "output_type": "stream",
     "text": [
      "\r[Noun Extractor] flushing ...  82.129 %"
     ]
    },
    {
     "name": "stdout",
     "output_type": "stream",
     "text": [
      "\r[Noun Extractor] flushing ...  82.942 %"
     ]
    },
    {
     "name": "stdout",
     "output_type": "stream",
     "text": [
      "\r[Noun Extractor] flushing ...  83.755 %"
     ]
    },
    {
     "name": "stdout",
     "output_type": "stream",
     "text": [
      "\r[Noun Extractor] flushing ...  84.568 %"
     ]
    },
    {
     "name": "stdout",
     "output_type": "stream",
     "text": [
      "\r[Noun Extractor] flushing ...  85.381 %"
     ]
    },
    {
     "name": "stdout",
     "output_type": "stream",
     "text": [
      "\r[Noun Extractor] flushing ...  86.194 %"
     ]
    },
    {
     "name": "stdout",
     "output_type": "stream",
     "text": [
      "\r[Noun Extractor] flushing ...  87.007 %"
     ]
    },
    {
     "name": "stdout",
     "output_type": "stream",
     "text": [
      "\r[Noun Extractor] flushing ...  87.821 %"
     ]
    },
    {
     "name": "stdout",
     "output_type": "stream",
     "text": [
      "\r[Noun Extractor] flushing ...  88.634 %"
     ]
    },
    {
     "name": "stdout",
     "output_type": "stream",
     "text": [
      "\r[Noun Extractor] flushing ...  89.447 %"
     ]
    },
    {
     "name": "stdout",
     "output_type": "stream",
     "text": [
      "\r[Noun Extractor] flushing ...  90.260 %"
     ]
    },
    {
     "name": "stdout",
     "output_type": "stream",
     "text": [
      "\r[Noun Extractor] flushing ...  91.073 %"
     ]
    },
    {
     "name": "stdout",
     "output_type": "stream",
     "text": [
      "\r[Noun Extractor] flushing ...  91.886 %"
     ]
    },
    {
     "name": "stdout",
     "output_type": "stream",
     "text": [
      "\r[Noun Extractor] flushing ...  92.700 %"
     ]
    },
    {
     "name": "stdout",
     "output_type": "stream",
     "text": [
      "\r[Noun Extractor] flushing ...  93.513 %"
     ]
    },
    {
     "name": "stdout",
     "output_type": "stream",
     "text": [
      "\r[Noun Extractor] flushing ...  94.326 %"
     ]
    },
    {
     "name": "stdout",
     "output_type": "stream",
     "text": [
      "\r[Noun Extractor] flushing ...  95.139 %"
     ]
    },
    {
     "name": "stdout",
     "output_type": "stream",
     "text": [
      "\r[Noun Extractor] flushing ...  95.952 %"
     ]
    },
    {
     "name": "stdout",
     "output_type": "stream",
     "text": [
      "\r[Noun Extractor] flushing ...  96.765 %"
     ]
    },
    {
     "name": "stdout",
     "output_type": "stream",
     "text": [
      "\r[Noun Extractor] flushing ...  97.578 %"
     ]
    },
    {
     "name": "stdout",
     "output_type": "stream",
     "text": [
      "\r[Noun Extractor] flushing ...  98.392 %"
     ]
    },
    {
     "name": "stdout",
     "output_type": "stream",
     "text": [
      "\r[Noun Extractor] flushing ...  99.205 %"
     ]
    },
    {
     "name": "stdout",
     "output_type": "stream",
     "text": [
      "\r[Noun Extractor] flushing was done. mem=1.084 Gb                    \n"
     ]
    },
    {
     "name": "stdout",
     "output_type": "stream",
     "text": [
      "[Noun Extractor] 49.28 % eojeols are covered\n"
     ]
    }
   ],
   "source": [
    "nouns = noun_extractor.extract(min_noun_frequency=100, min_noun_score=0.3)"
   ]
  },
  {
   "cell_type": "code",
   "execution_count": 26,
   "metadata": {},
   "outputs": [],
   "source": [
    "noun_list = list()\n",
    "for k, v in nouns.items():\n",
    "    word = k\n",
    "    score = v.score\n",
    "    freq = v.frequency\n",
    "    \n",
    "    temp = dict()    \n",
    "    temp['word'] = word\n",
    "    temp['score'] = score\n",
    "    temp['freq'] = freq\n",
    "    \n",
    "    noun_list.append(temp)"
   ]
  },
  {
   "cell_type": "code",
   "execution_count": 39,
   "metadata": {},
   "outputs": [],
   "source": [
    "df_nouns = pd.DataFrame(noun_list)\n",
    "df_nouns = df.sort_values(by=['score'], ascending=False)"
   ]
  },
  {
   "cell_type": "code",
   "execution_count": 35,
   "metadata": {
    "collapsed": true
   },
   "outputs": [
    {
     "data": {
      "text/plain": [
       "1112"
      ]
     },
     "execution_count": 35,
     "metadata": {},
     "output_type": "execute_result"
    }
   ],
   "source": [
    "len(df)"
   ]
  },
  {
   "cell_type": "code",
   "execution_count": 36,
   "metadata": {},
   "outputs": [],
   "source": [
    "noun_candi_list = df_nouns.loc[df.score > 0.9].word.tolist()"
   ]
  },
  {
   "cell_type": "code",
   "execution_count": 41,
   "metadata": {},
   "outputs": [],
   "source": [
    "term_list = df.x.tolist()\n",
    "term_list = [term for term in chain(*term_list)]\n",
    "term_list = list(set(term_list))"
   ]
  },
  {
   "cell_type": "code",
   "execution_count": 42,
   "metadata": {},
   "outputs": [],
   "source": [
    "candi_set = set(noun_candi_list) - set(term_list)"
   ]
  },
  {
   "cell_type": "code",
   "execution_count": 46,
   "metadata": {},
   "outputs": [],
   "source": [
    "df_candi = pd.DataFrame(list(candi_set))\n",
    "df_candi.columns = ['word']\n",
    "df_candi = df_candi.sort_values(by=['word'])"
   ]
  },
  {
   "cell_type": "code",
   "execution_count": 47,
   "metadata": {},
   "outputs": [],
   "source": [
    "df_candi.to_csv('./noun_candidate.csv', index=False, header=False)"
   ]
  }
 ],
 "metadata": {
  "kernelspec": {
   "display_name": "Python 2",
   "language": "python",
   "name": "python2"
  },
  "language_info": {
   "codemirror_mode": {
    "name": "ipython",
    "version": 2
   },
   "file_extension": ".py",
   "mimetype": "text/x-python",
   "name": "python",
   "nbconvert_exporter": "python",
   "pygments_lexer": "ipython2",
   "version": "2.7.6"
  }
 },
 "nbformat": 4,
 "nbformat_minor": 0
}
