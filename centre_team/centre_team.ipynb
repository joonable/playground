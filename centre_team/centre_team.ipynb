{
 "cells": [
  {
   "cell_type": "code",
   "execution_count": 32,
   "metadata": {
    "collapsed": true
   },
   "outputs": [],
   "source": [
    "import pandas as pd\n",
    "import numpy as np\n",
    "import random\n",
    "import time"
   ]
  },
  {
   "cell_type": "code",
   "execution_count": 65,
   "metadata": {
    "collapsed": true
   },
   "outputs": [],
   "source": [
    "df = pd.read_excel('/home/admin-/Download/centre_list.xlsx')"
   ]
  },
  {
   "cell_type": "code",
   "execution_count": 66,
   "metadata": {
    "collapsed": true
   },
   "outputs": [],
   "source": [
    "'''\n",
    "박민수\tinvestment\t사업부장\t상무보\t9/1 발령\tms.park@gsshop.com\t02-2007-9789\t010-6789-2923\tm\n",
    "배재성\tinvestment\t팀장\t\t9/1 발령\tjsbae@gsshop.com\t02-2007-2419\t010-0400-9238\tm\n",
    "최형민\tinvestment\t\t\t\thm.choi@gsshop.com\t02-2007-4451\t010-3219-8925\tm\n",
    "'''\n",
    "\n",
    "new_members = [{\"name\": \"박민수\", \"department\": \"investment\", \"job\": \"사업부장\", \"position\": \"상무보\", \"etc\": \"9/1 발령\", \"email\": \"ms.park@gsshop.com\", \"tel\": \"02-2007-9789\", \"mobile\": \"010-6789-2923\", \"sex\": \"m\"}\n",
    ",{\"name\": \"배재성\", \"department\": \"investment\", \"job\": \"팀장\", \"position\": None, \"etc\": \"9/1 발령\", \"email\": \"jsbae@gsshop.com\", \"tel\": \"02-2007-2419\", \"mobile\": \"010-0400-9238\", \"sex\": \"m\"}\n",
    ",{\"name\": \"최형민\", \"department\": \"investment\", \"job\": None, \"position\": None, \"etc\": \"9/1 발령\", \"email\": \"hm.choi@gsshop.com\", \"tel\": \"02-2007-4451\", \"mobile\": \"010-3219-8925\", \"sex\": \"m\"}]\n",
    "\n",
    "df = df.append(new_members, ignore_index=True)\n"
   ]
  },
  {
   "cell_type": "code",
   "execution_count": 67,
   "metadata": {},
   "outputs": [],
   "source": [
    "df = df.drop(df[df.name == \"김준연\"].index)"
   ]
  },
  {
   "cell_type": "code",
   "execution_count": 68,
   "metadata": {},
   "outputs": [],
   "source": [
    "df.index = df.name.tolist()\n",
    "df = df.drop(['name'], axis=1)"
   ]
  },
  {
   "cell_type": "code",
   "execution_count": 69,
   "metadata": {},
   "outputs": [],
   "source": [
    "def make_tel_num(x):\n",
    "    return '02-2007-' + str(random.randint(0, 9999)).zfill(4)\n",
    "\n",
    "def make_mobile_num(x):\n",
    "    return '010-' + str(random.randint(0, 9999)).zfill(4) + '-' + str(random.randint(0, 9999)).zfill(4)\n",
    "\n",
    "\n",
    "df['tel'] = df.tel.apply(make_tel_num)\n",
    "df['mobile']= df.mobile.apply(make_mobile_num)"
   ]
  },
  {
   "cell_type": "code",
   "execution_count": 70,
   "metadata": {},
   "outputs": [],
   "source": [
    "df['executive_member'] = ~df.position.isna()"
   ]
  },
  {
   "cell_type": "code",
   "execution_count": 73,
   "metadata": {},
   "outputs": [
    {
     "data": {
      "text/plain": [
       "Index(['department', 'job', 'position', 'etc', 'email', 'tel', 'mobile', 'sex',\n       'executive_member'],\n      dtype='object')"
      ]
     },
     "execution_count": 73,
     "metadata": {},
     "output_type": "execute_result"
    }
   ],
   "source": [
    "df.columns"
   ]
  },
  {
   "cell_type": "code",
   "execution_count": 74,
   "metadata": {},
   "outputs": [],
   "source": [
    "df = df[['department', 'sex', 'executive_member']]"
   ]
  },
  {
   "cell_type": "code",
   "execution_count": 96,
   "metadata": {
    "collapsed": false
   },
   "outputs": [],
   "source": [
    "df.groupby([df.sex, df.department]).size().to_frame()"
   ]
  },
  {
   "cell_type": "code",
   "execution_count": 76,
   "metadata": {
    "collapsed": true
   },
   "outputs": [],
   "source": [
    "member_list = df.index.tolist()\n",
    "np.random.shuffle(member_list)\n"
   ]
  },
  {
   "cell_type": "code",
   "execution_count": 77,
   "metadata": {},
   "outputs": [],
   "source": [
    "executives_list = df[df.executive_member].index.tolist()\n",
    "np.random.shuffle(executives_list)\n",
    "# pr_queue = df.dropna(subset=['position']).index"
   ]
  },
  {
   "cell_type": "code",
   "execution_count": 78,
   "metadata": {
    "collapsed": true
   },
   "outputs": [],
   "source": [
    "for x in executives_list:\n",
    "    member_list.remove(x)"
   ]
  },
  {
   "cell_type": "code",
   "execution_count": 79,
   "metadata": {},
   "outputs": [],
   "source": [
    "women_list = df.loc[df.sex == 'f'].index.tolist()\n",
    "np.random.shuffle(women_list)\n",
    "\n",
    "for x in women_list:\n",
    "    member_list.remove(x)"
   ]
  },
  {
   "cell_type": "code",
   "execution_count": 81,
   "metadata": {},
   "outputs": [],
   "source": [
    "team_list = []"
   ]
  },
  {
   "cell_type": "code",
   "execution_count": 82,
   "metadata": {},
   "outputs": [],
   "source": [
    "def condition(df, cand1, cand2):\n",
    "    if df.loc[cand1, 'department'] != df.loc[cand2, 'department']: \n",
    "        return True"
   ]
  },
  {
   "cell_type": "code",
   "execution_count": 82,
   "metadata": {},
   "outputs": [],
   "source": [
    "for executive in executives_list:\n",
    "    while True:\n",
    "        woman = np.random.choice(women_list)\n",
    "\n",
    "        if condition(df, executive, woman):\n",
    "            team_list.append((executive, woman))\n",
    "            women_list.remove(woman)\n",
    "            break\n",
    "        else:\n",
    "            continue            "
   ]
  },
  {
   "cell_type": "code",
   "execution_count": 85,
   "metadata": {
    "collapsed": true
   },
   "outputs": [],
   "source": [
    "while True:\n",
    "    # left_women = len(df.loc[df.sex == 'f'])\n",
    "    if not women_list:\n",
    "        break\n",
    "        \n",
    "    woman = np.random.choice(women_list)        \n",
    "    women_list.remove(woman)\n",
    "\n",
    "    while True:\n",
    "        cand = np.random.choice(member_list)\n",
    "        \n",
    "        if condition(df, woman, cand):\n",
    "            team_list.append((woman, cand))\n",
    "            member_list.remove(cand)\n",
    "            break\n",
    "        else:\n",
    "            continue "
   ]
  },
  {
   "cell_type": "code",
   "execution_count": 88,
   "metadata": {},
   "outputs": [],
   "source": [
    "left_depts = df.loc[member_list, 'department'].unique()\n",
    "\n",
    "for dept in left_depts:\n",
    "    left_dept = df.loc[(df.department == dept) & (df.index.isin(member_list))]    \n",
    "    \n",
    "    if len(left_dept) > len(member_list)/2:\n",
    "        print(\"no answer! restart the programme\")"
   ]
  },
  {
   "cell_type": "code",
   "execution_count": 90,
   "metadata": {},
   "outputs": [
    {
     "name": "stdout",
     "output_type": "stream",
     "text": [
      "no answer. team matching has started again.\nno answer. team matching has started again.\nno answer. team matching has started again.\nno answer. team matching has started again.\nmember_list is empty.\nteam matching is done.\n"
     ]
    }
   ],
   "source": [
    "origin_list = member_list[:]\n",
    "temp_list = []\n",
    "\n",
    "while True:\n",
    "    left_depts = df.loc[member_list, 'department'].unique()\n",
    "\n",
    "    if not member_list:\n",
    "        print(\"member_list is empty.\")\n",
    "        print(\"team matching is done.\")\n",
    "        team_list.extend(temp_list)\n",
    "        break\n",
    "    elif len(left_depts)== 1:\n",
    "        print(\"no answer. team matching has started again.\")\n",
    "        temp_list = []\n",
    "        member_list = origin_list[:]\n",
    "                \n",
    "    cand1 = np.random.choice(member_list)        \n",
    "    member_list.remove(cand1)\n",
    "\n",
    "    while True:\n",
    "        cand2 = np.random.choice(member_list)\n",
    "        \n",
    "        if condition(df, cand1, cand2):\n",
    "            temp_list.append((cand1, cand2))\n",
    "            member_list.remove(cand2)\n",
    "            break\n",
    "        else:\n",
    "            continue "
   ]
  },
  {
   "cell_type": "code",
   "execution_count": 93,
   "metadata": {},
   "outputs": [],
   "source": [
    "df_team = pd.DataFrame(data)"
   ]
  },
  {
   "cell_type": "code",
   "execution_count": 94,
   "metadata": {},
   "outputs": [],
   "source": [
    "df_team['mem1_name'] = [tup[0] for tup in team_list]\n",
    "df_team['mem1_depart'] = [df.loc[tup[0]].department for tup in team_list]\n",
    "# df_team['mem1_sex'] = [df.loc[tup[0]].sex.values[0] for tup in team_list]\n",
    "\n",
    "df_team['mem2_name'] = [tup[1] for tup in team_list]\n",
    "df_team['mem2_depart'] = [df.loc[tup[1]].department for tup in team_list]\n",
    "# df_team['mem2_sex'] = [df.loc[tup[1]].sex.values[0] for tup in team_list]\n"
   ]
  },
  {
   "cell_type": "code",
   "execution_count": 123,
   "metadata": {},
   "outputs": [],
   "source": [
    "df_team.to_excel('/home/admin-/Download/team_list_2.xlsx', index=False)"
   ]
  }
 ],
 "metadata": {
  "kernelspec": {
   "display_name": "Python 2",
   "language": "python",
   "name": "python2"
  },
  "language_info": {
   "codemirror_mode": {
    "name": "ipython",
    "version": 2
   },
   "file_extension": ".py",
   "mimetype": "text/x-python",
   "name": "python",
   "nbconvert_exporter": "python",
   "pygments_lexer": "ipython2",
   "version": "2.7.6"
  }
 },
 "nbformat": 4,
 "nbformat_minor": 0
}
