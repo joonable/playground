{
 "cells": [
  {
   "cell_type": "code",
   "execution_count": 1,
   "metadata": {
    "collapsed": true
   },
   "outputs": [],
   "source": [
    "import pandas as pd\n",
    "import seaborn as sns\n",
    "import numpy as np\n",
    "from itertools import chain\n",
    "%matplotlib inline\n"
   ]
  },
  {
   "cell_type": "code",
   "execution_count": 17,
   "metadata": {},
   "outputs": [],
   "source": [
    "df_train = pd.read_pickle('df_train.pkl')"
   ]
  },
  {
   "cell_type": "code",
   "execution_count": 18,
   "metadata": {},
   "outputs": [],
   "source": [
    "text = df_train.sorted_terms.tolist()"
   ]
  },
  {
   "cell_type": "code",
   "execution_count": 19,
   "metadata": {},
   "outputs": [],
   "source": [
    "word_count = dict()\n",
    "\n",
    "for word in chain(*text):\n",
    "    if not word in word_count.keys():\n",
    "        word_count[word] = 1\n",
    "    else:\n",
    "        word_count[word] += 1"
   ]
  },
  {
   "cell_type": "code",
   "execution_count": 20,
   "metadata": {},
   "outputs": [],
   "source": [
    "df_word_count = pd.DataFrame(data={'word':list(word_count.keys()), 'cnt':list(word_count.values())})\n",
    "df_word_count = df_word_count.sort_values(by=['cnt'], ascending=False).reset_index(drop=True)"
   ]
  },
  {
   "cell_type": "code",
   "execution_count": 21,
   "metadata": {},
   "outputs": [],
   "source": [
    "df_vocabulary = df_word_count.loc[df_word_count.cnt > 10].reset_index()"
   ]
  },
  {
   "cell_type": "code",
   "execution_count": 22,
   "metadata": {},
   "outputs": [],
   "source": [
    "df_vocabulary = df_vocabulary.rename({'index':'idx'}, axis=1)[['idx', 'word']]\n",
    "df_vocabulary['idx'] = df_vocabulary['idx'] + 1"
   ]
  },
  {
   "cell_type": "code",
   "execution_count": 23,
   "metadata": {},
   "outputs": [],
   "source": [
    "vocabulary = dict()\n",
    "vocabulary_inv = dict()"
   ]
  },
  {
   "cell_type": "code",
   "execution_count": 24,
   "metadata": {},
   "outputs": [
    {
     "data": {
      "text/plain": [
       "0       None\n1       None\n2       None\n3       None\n4       None\n5       None\n6       None\n7       None\n8       None\n9       None\n10      None\n11      None\n12      None\n13      None\n14      None\n15      None\n16      None\n17      None\n18      None\n19      None\n20      None\n21      None\n22      None\n23      None\n24      None\n25      None\n26      None\n27      None\n28      None\n29      None\n        ... \n2592    None\n2593    None\n2594    None\n2595    None\n2596    None\n2597    None\n2598    None\n2599    None\n2600    None\n2601    None\n2602    None\n2603    None\n2604    None\n2605    None\n2606    None\n2607    None\n2608    None\n2609    None\n2610    None\n2611    None\n2612    None\n2613    None\n2614    None\n2615    None\n2616    None\n2617    None\n2618    None\n2619    None\n2620    None\n2621    None\nLength: 2622, dtype: object"
      ]
     },
     "execution_count": 24,
     "metadata": {},
     "output_type": "execute_result"
    }
   ],
   "source": [
    "def set_vocab(row):\n",
    "    vocabulary[row.word] = row.idx\n",
    "    vocabulary_inv[row.idx] = row.word\n",
    "\n",
    "vocabulary['UNK'] = 0\n",
    "vocabulary[0] = 'UNK'\n",
    "\n",
    "df_vocabulary.apply(lambda row: set_vocab(row), axis=1)"
   ]
  },
  {
   "cell_type": "code",
   "execution_count": 25,
   "metadata": {},
   "outputs": [],
   "source": [
    "def terms_to_seq(terms_list):\n",
    "    seq_list = []\n",
    "    for term in terms_list:\n",
    "        seq_list.append(vocabulary.get(term, 0))\n",
    "    return np.array(seq_list)\n",
    "\n",
    "df_train['seq'] = df_train.sorted_terms.apply(lambda terms_list: terms_to_seq(terms_list))"
   ]
  },
  {
   "cell_type": "code",
   "execution_count": 28,
   "metadata": {
    "collapsed": true
   },
   "outputs": [],
   "source": [
    "df_train.reset_index(drop=True).to_pickle('df_train_with_seq.pkl')"
   ]
  },
  {
   "cell_type": "code",
   "execution_count": null,
   "metadata": {},
   "outputs": [],
   "source": []
  }
 ],
 "metadata": {
  "kernelspec": {
   "display_name": "Python 2",
   "language": "python",
   "name": "python2"
  },
  "language_info": {
   "codemirror_mode": {
    "name": "ipython",
    "version": 2
   },
   "file_extension": ".py",
   "mimetype": "text/x-python",
   "name": "python",
   "nbconvert_exporter": "python",
   "pygments_lexer": "ipython2",
   "version": "2.7.6"
  }
 },
 "nbformat": 4,
 "nbformat_minor": 0
}
