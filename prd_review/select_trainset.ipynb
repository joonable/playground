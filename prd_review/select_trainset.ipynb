{
 "cells": [
  {
   "cell_type": "code",
   "execution_count": 127,
   "metadata": {
    "collapsed": true
   },
   "outputs": [],
   "source": [
    "import pandas as pd\n",
    "import seaborn as sns\n",
    "import numpy as np\n",
    "from itertools import chain\n",
    "%matplotlib inline"
   ]
  },
  {
   "cell_type": "code",
   "execution_count": 30,
   "metadata": {},
   "outputs": [
    {
     "data": {
      "text/html": [
       "<div>\n",
       "<style scoped>\n",
       "    .dataframe tbody tr th:only-of-type {\n",
       "        vertical-align: middle;\n",
       "    }\n",
       "\n",
       "    .dataframe tbody tr th {\n",
       "        vertical-align: top;\n",
       "    }\n",
       "\n",
       "    .dataframe thead th {\n",
       "        text-align: right;\n",
       "    }\n",
       "</style>\n",
       "<table border=\"1\" class=\"dataframe\">\n",
       "  <thead>\n",
       "    <tr style=\"text-align: right;\">\n",
       "      <th></th>\n",
       "      <th>best_flag</th>\n",
       "      <th>cus_grade</th>\n",
       "      <th>score</th>\n",
       "      <th>text</th>\n",
       "      <th>sorted_terms</th>\n",
       "    </tr>\n",
       "  </thead>\n",
       "  <tbody>\n",
       "    <tr>\n",
       "      <th>0</th>\n",
       "      <td>None</td>\n",
       "      <td>SS</td>\n",
       "      <td>100</td>\n",
       "      <td>디자인ㆍ품질 다좋은데 여유감이 없네요\\n55싸이즈인데 팔부분이 좀 끼이네요</td>\n",
       "      <td>[디자인, ㆍ품질, 좋, 여유, 없, 55, 싸이, 즈이, 데, 팔, 부분, 끼이]</td>\n",
       "    </tr>\n",
       "    <tr>\n",
       "      <th>1</th>\n",
       "      <td>None</td>\n",
       "      <td>SS</td>\n",
       "      <td>95</td>\n",
       "      <td>디자인은 괜찮은데 충전재가 좀 빈약하네요 ㅠㅠ</td>\n",
       "      <td>[디자인, 괜찮, 충전, 재, 빈약, ㅠㅠ]</td>\n",
       "    </tr>\n",
       "    <tr>\n",
       "      <th>2</th>\n",
       "      <td>None</td>\n",
       "      <td>DD</td>\n",
       "      <td>100</td>\n",
       "      <td>반사이즈  작게 하니 딱  맞네요. 적당히 가볍고 처음  신어도 전혀 불편함이 없네요</td>\n",
       "      <td>[반, 사이즈, 작, 하, 맞, 가볍, 처음, 신어, 불편, 없]</td>\n",
       "    </tr>\n",
       "    <tr>\n",
       "      <th>3</th>\n",
       "      <td>None</td>\n",
       "      <td>SS</td>\n",
       "      <td>100</td>\n",
       "      <td>사이즈가 커서 내년에 입혀야겠어요</td>\n",
       "      <td>[사이즈, 크, 내년, 입히, 하]</td>\n",
       "    </tr>\n",
       "    <tr>\n",
       "      <th>4</th>\n",
       "      <td>None</td>\n",
       "      <td>SS</td>\n",
       "      <td>100</td>\n",
       "      <td>아이가 좋아합니다.</td>\n",
       "      <td>[아이, 좋, 하]</td>\n",
       "    </tr>\n",
       "  </tbody>\n",
       "</table>\n",
       "</div>"
      ],
      "text/plain": [
       "<div>\n",
       "<style scoped>\n",
       "    .dataframe tbody tr th:only-of-type {\n",
       "        vertical-align: middle;\n",
       "    }\n",
       "\n",
       "    .dataframe tbody tr th {\n",
       "        vertical-align: top;\n",
       "    }\n",
       "\n",
       "    .dataframe thead th {\n",
       "        text-align: right;\n",
       "    }\n",
       "</style>\n",
       "<table border=\"1\" class=\"dataframe\">\n",
       "  <thead>\n",
       "    <tr style=\"text-align: right;\">\n",
       "      <th></th>\n",
       "      <th>best_flag</th>\n",
       "      <th>cus_grade</th>\n",
       "      <th>score</th>\n",
       "      <th>text</th>\n",
       "      <th>sorted_terms</th>\n",
       "    </tr>\n",
       "  </thead>\n",
       "  <tbody>\n",
       "    <tr>\n",
       "      <th>0</th>\n",
       "      <td>None</td>\n",
       "      <td>SS</td>\n",
       "      <td>100</td>\n",
       "      <td>디자인ㆍ품질 다좋은데 여유감이 없네요\\n55싸이즈인데 팔부분이 좀 끼이네요</td>\n",
       "      <td>[디자인, ㆍ품질, 좋, 여유, 없, 55, 싸이, 즈이, 데, 팔, 부분, 끼이]</td>\n",
       "    </tr>\n",
       "    <tr>\n",
       "      <th>1</th>\n",
       "      <td>None</td>\n",
       "      <td>SS</td>\n",
       "      <td>95</td>\n",
       "      <td>디자인은 괜찮은데 충전재가 좀 빈약하네요 ㅠㅠ</td>\n",
       "      <td>[디자인, 괜찮, 충전, 재, 빈약, ㅠㅠ]</td>\n",
       "    </tr>\n",
       "    <tr>\n",
       "      <th>2</th>\n",
       "      <td>None</td>\n",
       "      <td>DD</td>\n",
       "      <td>100</td>\n",
       "      <td>반사이즈  작게 하니 딱  맞네요. 적당히 가볍고 처음  신어도 전혀 불편함이 없네요</td>\n",
       "      <td>[반, 사이즈, 작, 하, 맞, 가볍, 처음, 신어, 불편, 없]</td>\n",
       "    </tr>\n",
       "    <tr>\n",
       "      <th>3</th>\n",
       "      <td>None</td>\n",
       "      <td>SS</td>\n",
       "      <td>100</td>\n",
       "      <td>사이즈가 커서 내년에 입혀야겠어요</td>\n",
       "      <td>[사이즈, 크, 내년, 입히, 하]</td>\n",
       "    </tr>\n",
       "    <tr>\n",
       "      <th>4</th>\n",
       "      <td>None</td>\n",
       "      <td>SS</td>\n",
       "      <td>100</td>\n",
       "      <td>아이가 좋아합니다.</td>\n",
       "      <td>[아이, 좋, 하]</td>\n",
       "    </tr>\n",
       "  </tbody>\n",
       "</table>\n",
       "</div>"
      ]
     },
     "execution_count": 30,
     "metadata": {},
     "output_type": "execute_result"
    }
   ],
   "source": [
    "df = pd.read_pickle('./prd_sample.pkl')\n",
    "df = df.drop(['term_vectors'], axis=1).reset_index(drop=True)\n",
    "df.head()"
   ]
  },
  {
   "cell_type": "code",
   "execution_count": 31,
   "metadata": {},
   "outputs": [
    {
     "name": "stdout",
     "output_type": "stream",
     "text": [
      "<class 'pandas.core.frame.DataFrame'>\nRangeIndex: 87889 entries, 0 to 87888\nData columns (total 5 columns):\nbest_flag       2453 non-null object\ncus_grade       87889 non-null object\nscore           87889 non-null int64\ntext            87888 non-null object\nsorted_terms    87769 non-null object\ndtypes: int64(1), object(4)\nmemory usage: 3.4+ MB\n"
     ]
    }
   ],
   "source": [
    "df.info()"
   ]
  },
  {
   "cell_type": "code",
   "execution_count": 32,
   "metadata": {},
   "outputs": [],
   "source": [
    "df = df.dropna(subset=['sorted_terms']).reset_index(drop=True)"
   ]
  },
  {
   "cell_type": "code",
   "execution_count": 33,
   "metadata": {},
   "outputs": [],
   "source": [
    "df['len_terms'] = df.sorted_terms.apply(lambda sorted_term: len(sorted_term))"
   ]
  },
  {
   "cell_type": "code",
   "execution_count": 34,
   "metadata": {
    "collapsed": true
   },
   "outputs": [],
   "source": [
    "# best prd_review\n",
    "df_best = df.dropna(subset=['best_flag'])"
   ]
  },
  {
   "cell_type": "code",
   "execution_count": 35,
   "metadata": {},
   "outputs": [
    {
     "data": {
      "text/plain": [
       "<matplotlib.axes._subplots.AxesSubplot at 0x7f109ce8f128>"
      ]
     },
     "execution_count": 35,
     "metadata": {},
     "output_type": "execute_result"
    },
    {
     "data": {
      "image/png": "[encoded data removed]",
      "text/plain": [
       "<Figure size 432x288 with 1 Axes>"
      ]
     },
     "metadata": {},
     "output_type": "display_data"
    }
   ],
   "source": [
    "sns.barplot(x=df_best.groupby(by=['len_terms']).size().index, y=df_best.groupby(by=['len_terms']).size())"
   ]
  },
  {
   "cell_type": "code",
   "execution_count": 36,
   "metadata": {},
   "outputs": [
    {
     "data": {
      "text/plain": [
       "<matplotlib.axes._subplots.AxesSubplot at 0x7f10d59c4eb8>"
      ]
     },
     "execution_count": 36,
     "metadata": {},
     "output_type": "execute_result"
    },
    {
     "data": {
      "image/png": "[encoded data removed]",
      "text/plain": [
       "<Figure size 432x288 with 1 Axes>"
      ]
     },
     "metadata": {},
     "output_type": "display_data"
    }
   ],
   "source": [
    "sns.barplot(x=df.groupby(by=['len_terms']).size().index, y=df.groupby(by=['len_terms']).size())"
   ]
  },
  {
   "cell_type": "code",
   "execution_count": 36,
   "metadata": {},
   "outputs": [
    {
     "data": {
      "text/plain": [
       "count       80.00000\nmean      1097.11250\nstd       3228.64596\nmin          1.00000\n25%         43.75000\n50%         92.50000\n75%        570.75000\nmax      25549.00000\ndtype: float64"
      ]
     },
     "execution_count": 16,
     "metadata": {},
     "output_type": "execute_result"
    }
   ],
   "source": [
    "df.groupby(by=['len_terms']).size()"
   ]
  },
  {
   "cell_type": "code",
   "execution_count": 139,
   "metadata": {
    "collapsed": true
   },
   "outputs": [],
   "source": [
    "# 1 : len_terms 5 이상 / score 90,95,100\n",
    "df_positive = df.loc[(df.len_terms>5)& (df.score > 89)]"
   ]
  },
  {
   "cell_type": "code",
   "execution_count": 140,
   "metadata": {},
   "outputs": [
    {
     "name": "stderr",
     "output_type": "stream",
     "text": [
      "/home/admin-/anaconda3/lib/python3.6/site-packages/ipykernel_launcher.py:1: SettingWithCopyWarning: \nA value is trying to be set on a copy of a slice from a DataFrame.\nTry using .loc[row_indexer,col_indexer] = value instead\n\nSee the caveats in the documentation: http://pandas.pydata.org/pandas-docs/stable/indexing.html#indexing-view-versus-copy\n  \"\"\"Entry point for launching an IPython kernel.\n"
     ]
    }
   ],
   "source": [
    "df_positive['y'] = 1\n",
    "df_positive = df_positive[['text', 'sorted_terms', 'y']]"
   ]
  },
  {
   "cell_type": "code",
   "execution_count": 141,
   "metadata": {
    "collapsed": true
   },
   "outputs": [],
   "source": [
    "# 0 : len_terms 5 이상 / score <= 75\n",
    "df_negative = df.loc[(df.len_terms>5)  & (df.score <= 75)]"
   ]
  },
  {
   "cell_type": "code",
   "execution_count": 142,
   "metadata": {},
   "outputs": [
    {
     "name": "stderr",
     "output_type": "stream",
     "text": [
      "/home/admin-/anaconda3/lib/python3.6/site-packages/ipykernel_launcher.py:1: SettingWithCopyWarning: \nA value is trying to be set on a copy of a slice from a DataFrame.\nTry using .loc[row_indexer,col_indexer] = value instead\n\nSee the caveats in the documentation: http://pandas.pydata.org/pandas-docs/stable/indexing.html#indexing-view-versus-copy\n  \"\"\"Entry point for launching an IPython kernel.\n"
     ]
    }
   ],
   "source": [
    "df_negative['y'] = 0\n",
    "df_negative = df_negative[['text', 'sorted_terms', 'y']]"
   ]
  },
  {
   "cell_type": "code",
   "execution_count": 143,
   "metadata": {},
   "outputs": [],
   "source": [
    "df_train = df_positive.append(df_negative)"
   ]
  },
  {
   "cell_type": "code",
   "execution_count": 144,
   "metadata": {},
   "outputs": [],
   "source": [
    "df_train.to_pickle('df_train.pkl')"
   ]
  },
  {
   "cell_type": "code",
   "execution_count": 77,
   "metadata": {
    "collapsed": false
   },
   "outputs": [],
   "source": [
    "text = df_train.sorted_terms.tolist()"
   ]
  },
  {
   "cell_type": "code",
   "execution_count": 91,
   "metadata": {},
   "outputs": [],
   "source": [
    "word_count = dict()\n",
    "\n",
    "for word in chain(*text):\n",
    "    if not word in word_count.keys():\n",
    "        word_count[word] = 1\n",
    "    else:\n",
    "        word_count[word] += 1"
   ]
  },
  {
   "cell_type": "code",
   "execution_count": 101,
   "metadata": {
    "collapsed": true
   },
   "outputs": [],
   "source": [
    "df_word_count = pd.DataFrame(data={'word':list(word_count.keys()), 'cnt':list(word_count.values())})\n",
    "df_word_count = df_word_count.sort_values(by=['cnt'], ascending=False).reset_index(drop=True)"
   ]
  },
  {
   "cell_type": "code",
   "execution_count": 114,
   "metadata": {
    "collapsed": true
   },
   "outputs": [],
   "source": [
    "df_vocabulary = df_word_count.loc[df_word_count.cnt > 10].reset_index()"
   ]
  },
  {
   "cell_type": "code",
   "execution_count": 118,
   "metadata": {},
   "outputs": [],
   "source": [
    "df_vocabulary = df_vocabulary.rename({'index':'idx'}, axis=1)[['idx', 'word']]\n",
    "df_vocabulary['idx'] = df_vocabulary['idx'] + 1"
   ]
  },
  {
   "cell_type": "code",
   "execution_count": 120,
   "metadata": {},
   "outputs": [],
   "source": [
    "vocabulary = dict()\n",
    "vocabulary_inv = dict()"
   ]
  },
  {
   "cell_type": "code",
   "execution_count": 122,
   "metadata": {},
   "outputs": [],
   "source": [
    "def set_vocab(row):\n",
    "    vocabulary[row.word] = row.idx\n",
    "    vocabulary_inv[row.idx] = row.word\n",
    "\n",
    "vocabulary['UNK'] = 0\n",
    "vocabulary[0] = 'UNK'\n",
    "\n",
    "df_vocabulary.apply(lambda row: set_vocab(row), axis=1)"
   ]
  },
  {
   "cell_type": "code",
   "execution_count": 133,
   "metadata": {
    "collapsed": true
   },
   "outputs": [],
   "source": [
    "def terms_to_seq(terms_list):\n",
    "    seq_list = []\n",
    "    for term in terms_list:\n",
    "        seq_list.append(vocabulary.get(term, 0))\n",
    "    return np.array(seq_list)\n",
    "\n",
    "df_train['seq'] = df_train.sorted_terms.apply(lambda terms_list: terms_to_seq(terms_list))"
   ]
  },
  {
   "cell_type": "code",
   "execution_count": 136,
   "metadata": {
    "collapsed": true
   },
   "outputs": [],
   "source": [
    ""
   ]
  },
  {
   "cell_type": "code",
   "execution_count": null,
   "metadata": {},
   "outputs": [],
   "source": []
  }
 ],
 "metadata": {
  "kernelspec": {
   "display_name": "Python 2",
   "language": "python",
   "name": "python2"
  },
  "language_info": {
   "codemirror_mode": {
    "name": "ipython",
    "version": 2
   },
   "file_extension": ".py",
   "mimetype": "text/x-python",
   "name": "python",
   "nbconvert_exporter": "python",
   "pygments_lexer": "ipython2",
   "version": "2.7.6"
  }
 },
 "nbformat": 4,
 "nbformat_minor": 0
}
