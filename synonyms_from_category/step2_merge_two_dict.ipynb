{
 "cells": [
  {
   "cell_type": "code",
   "execution_count": 1,
   "metadata": {
    "collapsed": true
   },
   "outputs": [],
   "source": [
    "import pandas as pd\n",
    "from itertools import chain\n",
    "from elasticsearch import Elasticsearch\n",
    "from elasticsearch.client import IndicesClient\n",
    "from collections import Counter"
   ]
  },
  {
   "cell_type": "code",
   "execution_count": 2,
   "metadata": {},
   "outputs": [],
   "source": [
    "data_dir = '../synonyms_from_category/data/'\n",
    "dt = '20190130'"
   ]
  },
  {
   "cell_type": "code",
   "execution_count": 3,
   "metadata": {},
   "outputs": [],
   "source": [
    "df_synonyms = pd.read_csv('/home/admin-/PycharmProjects/playground/synonyms_from_category/data/candidate_synonyms_final_190130.tsv', sep='\\t', names=['word', 'synonyms'])\n"
   ]
  },
  {
   "cell_type": "code",
   "execution_count": 4,
   "metadata": {},
   "outputs": [],
   "source": [
    "df_users = pd.read_csv('/home/admin-/PycharmProjects/playground/synonyms_from_category/data/cate_WE_user_dict_190130.txt', names=['word'])"
   ]
  },
  {
   "cell_type": "code",
   "execution_count": 5,
   "metadata": {},
   "outputs": [
    {
     "name": "stderr",
     "output_type": "stream",
     "text": [
      "/home/admin-/anaconda3/lib/python3.6/site-packages/pandas/core/frame.py:6201: FutureWarning: Sorting because non-concatenation axis is not aligned. A future version\nof pandas will change to not sort by default.\n\nTo accept the future behavior, pass 'sort=True'.\n\nTo retain the current behavior and silence the warning, pass sort=False\n\n  sort=sort)\n"
     ]
    }
   ],
   "source": [
    "df = df_synonyms.append(df_users, ignore_index=True)"
   ]
  },
  {
   "cell_type": "code",
   "execution_count": 6,
   "metadata": {},
   "outputs": [],
   "source": [
    "df = df.sort_values(by=['word']).reset_index(drop=True)\n",
    "df.synonyms = df.synonyms.astype('str')\n",
    "df.synonyms = df.synonyms.fillna(value=0)\n",
    "type(df.synonyms[1])"
   ]
  },
  {
   "cell_type": "code",
   "execution_count": 11,
   "metadata": {},
   "outputs": [],
   "source": [
    "df['output'] = None\n",
    "\n",
    "\n",
    "def word_and_synonyms(row):\n",
    "    temp_str = row['word']\n",
    "    if row['synonyms'] != 'nan':\n",
    "        temp_str = temp_str + \" \" + row['synonyms']\n",
    "        temp_list = temp_str.split(\" \")\n",
    "    else:\n",
    "        temp_list = [temp_str]\n",
    "    row['output'] = temp_list\n",
    "    return row\n",
    "\n",
    "\n",
    "df = df.apply(lambda row: word_and_synonyms(row), axis=1)"
   ]
  },
  {
   "cell_type": "code",
   "execution_count": 12,
   "metadata": {},
   "outputs": [
    {
     "data": {
      "text/plain": [
       "222                                        [동양화]\n191                                       [닭가슴살]\n158                                 [네일컬러 네일 컬러]\n320                                        [매직기]\n1127                                       [지퍼백]\n1281                                       [키지갑]\n332                            [머신, machine, 머쉰]\n543     [브래지어, 브라자, bra, 브라, 브래이지어, 브레이지어, 브레지어]\n977                                       [운동기구]\n291                                   [리얼, real]\n288                                        [리무버]\n78                                        [공압공구]\n268                                       [런닝머신]\n1456                   [헤어, hair, 모발, 머리카락, 머리칼]\n613                                        [생리대]\n32                     [가죽, leather, 래더, 레더, 피혁]\n358                                        [모기장]\n127                             [나이키, nike, 니이키]\n874                                        [양념장]\n848                                        [안경줄]\nName: output, dtype: object"
      ]
     },
     "execution_count": 12,
     "metadata": {},
     "output_type": "execute_result"
    }
   ],
   "source": [
    "df.output.sample(20)"
   ]
  },
  {
   "cell_type": "code",
   "execution_count": 14,
   "metadata": {},
   "outputs": [],
   "source": [
    "list_output = df.output.tolist()\n",
    "list_output = [_.lower() for _ in chain(*list_output)]"
   ]
  },
  {
   "cell_type": "code",
   "execution_count": 16,
   "metadata": {},
   "outputs": [
    {
     "name": "stdout",
     "output_type": "stream",
     "text": [
      "2841 2722\n"
     ]
    }
   ],
   "source": [
    "print(len(pd.Series(list_output)), len(pd.Series(list_output).unique()))"
   ]
  },
  {
   "cell_type": "code",
   "execution_count": 18,
   "metadata": {},
   "outputs": [],
   "source": [
    "pd.Series(list_output).to_csv('/home/admin-/PycharmProjects/playground/synonyms_from_category/data/freq_user_dict_'+dt+'.tsv', index=False)"
   ]
  }
 ],
 "metadata": {
  "kernelspec": {
   "display_name": "Python 2",
   "language": "python",
   "name": "python2"
  },
  "language_info": {
   "codemirror_mode": {
    "name": "ipython",
    "version": 2
   },
   "file_extension": ".py",
   "mimetype": "text/x-python",
   "name": "python",
   "nbconvert_exporter": "python",
   "pygments_lexer": "ipython2",
   "version": "2.7.6"
  }
 },
 "nbformat": 4,
 "nbformat_minor": 0
}
