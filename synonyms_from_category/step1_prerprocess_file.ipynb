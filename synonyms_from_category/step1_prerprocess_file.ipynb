{
 "cells": [
  {
   "cell_type": "code",
   "execution_count": 77,
   "metadata": {
    "collapsed": true
   },
   "outputs": [],
   "source": [
    "import pandas as pd\n",
    "from itertools import chain\n",
    "from elasticsearch import Elasticsearch\n",
    "from elasticsearch.client import IndicesClient"
   ]
  },
  {
   "cell_type": "code",
   "execution_count": 2,
   "metadata": {},
   "outputs": [],
   "source": [
    "data_dir = '../synonyms_from_category/data/'"
   ]
  },
  {
   "cell_type": "code",
   "execution_count": 34,
   "metadata": {},
   "outputs": [],
   "source": [
    "synonyms_dict = {}\n",
    "\n",
    "\n",
    "def parse_synonym_dict(file_name):\n",
    "    read_file = open(data_dir + file_name, 'r+')\n",
    "    \n",
    "    while True:\n",
    "        line = read_file.readline()\n",
    "        if not line:\n",
    "            break\n",
    "\n",
    "        info = line.split(\"\\t\")\n",
    "        k = info[1]\n",
    "        v = info[2].split(\",\")\n",
    "        \n",
    "        synonyms_dict[k] = v\n",
    "\n",
    "    read_file.close()"
   ]
  },
  {
   "cell_type": "code",
   "execution_count": 35,
   "metadata": {},
   "outputs": [],
   "source": [
    "parse_synonym_dict('thesaurusDic_20190123.txt')"
   ]
  },
  {
   "cell_type": "code",
   "execution_count": 39,
   "metadata": {
    "collapsed": true
   },
   "outputs": [],
   "source": [
    "df_cate = pd.read_csv(data_dir+'category_candidate.csv', names=['cate'], sep='\\t')"
   ]
  },
  {
   "cell_type": "code",
   "execution_count": 40,
   "metadata": {},
   "outputs": [],
   "source": [
    "df_cate = df_cate.drop_duplicates(subset=['cate'])\n",
    "df_cate['len_cate'] = df_cate.cate.apply(lambda x: len(x))\n",
    "# df_cate = df_cate.loc[df_cate.len_cate > 1]\n",
    "df_cate = df_cate.reset_index(drop=True)"
   ]
  },
  {
   "cell_type": "code",
   "execution_count": 41,
   "metadata": {
    "collapsed": true
   },
   "outputs": [],
   "source": [
    "df_cate['key_list'] = None"
   ]
  },
  {
   "cell_type": "code",
   "execution_count": 43,
   "metadata": {
    "collapsed": true
   },
   "outputs": [],
   "source": [
    "for i, row in df_cate.iterrows():\n",
    "    key_list = []\n",
    "    for k, v in synonyms_dict.items():\n",
    "        if row.cate == k or row.cate in v:\n",
    "            key_list.append(k)\n",
    "    if key_list:\n",
    "        row['key_list'] = key_list\n"
   ]
  },
  {
   "cell_type": "code",
   "execution_count": 50,
   "metadata": {},
   "outputs": [],
   "source": [
    "def make_key_list(cate):\n",
    "    key_list = []\n",
    "    for k, v in synonyms_dict.items():\n",
    "        if cate == k or cate in v:\n",
    "            key_list.append(k)\n",
    "    if key_list:\n",
    "        return key_list\n",
    "    else:\n",
    "        None"
   ]
  },
  {
   "cell_type": "code",
   "execution_count": 51,
   "metadata": {},
   "outputs": [],
   "source": [
    "df_cate['key_list'] = df_cate['cate'].apply(lambda cate: make_key_list(cate))"
   ]
  },
  {
   "cell_type": "code",
   "execution_count": 55,
   "metadata": {},
   "outputs": [],
   "source": [
    "key_list = df_cate.dropna(subset=['key_list'])['key_list'].tolist()"
   ]
  },
  {
   "cell_type": "code",
   "execution_count": 57,
   "metadata": {},
   "outputs": [],
   "source": [
    "key_list = [key for key in chain(*key_list)]\n",
    "key_list = list(set(key_list))"
   ]
  },
  {
   "cell_type": "code",
   "execution_count": 106,
   "metadata": {
    "collapsed": false
   },
   "outputs": [],
   "source": [
    "cand_synonym_dict = {}\n",
    "for k in key_list:\n",
    "    temp_list = [x for x in synonyms_dict[k] if not x.endswith('용') and not x.endswith('형')]\n",
    "    cand_synonym_dict[k] = \" \".join(temp_list)"
   ]
  },
  {
   "cell_type": "code",
   "execution_count": 107,
   "metadata": {},
   "outputs": [],
   "source": [
    "df_synonyms = pd.DataFrame.from_dict(cand_synonym_dict, orient='index')"
   ]
  },
  {
   "cell_type": "code",
   "execution_count": 108,
   "metadata": {},
   "outputs": [],
   "source": [
    "df_synonyms = df_synonyms.reset_index()\n",
    "df_synonyms.columns = ['k' ,'v']"
   ]
  },
  {
   "cell_type": "code",
   "execution_count": 109,
   "metadata": {},
   "outputs": [
    {
     "data": {
      "text/plain": [
       "Index(['k', 'v'], dtype='object')"
      ]
     },
     "execution_count": 109,
     "metadata": {},
     "output_type": "execute_result"
    }
   ],
   "source": [
    "df_synonyms.columns"
   ]
  },
  {
   "cell_type": "code",
   "execution_count": 110,
   "metadata": {},
   "outputs": [],
   "source": [
    "es = Elasticsearch()\n",
    "ic = IndicesClient(es)"
   ]
  },
  {
   "cell_type": "code",
   "execution_count": 111,
   "metadata": {},
   "outputs": [],
   "source": [
    "def get_body(category):\n",
    "    _body = {\n",
    "        \"tokenizer\" : \"nori_tokenizer\",\n",
    "        \"filter\" : [\"lowercase\"],\n",
    "        \"attributes\" : [\"leftPOS\", \"rightPOS\"], \n",
    "        \"explain\" : True,\n",
    "    }\n",
    "    _body['text'] = category\n",
    "    return _body\n",
    "\n",
    "def get_terms(category):\n",
    "    res = ic.analyze('nori_vanilla', body=get_body(category=category))\n",
    "    return res['detail']['tokenizer']['tokens']"
   ]
  },
  {
   "cell_type": "code",
   "execution_count": 112,
   "metadata": {},
   "outputs": [],
   "source": [
    "df_synonyms['terms'] = df_synonyms.k.apply(lambda category: get_terms(category))\n",
    "df_synonyms['len_terms'] = df_synonyms.terms.apply(lambda x: len(x))"
   ]
  },
  {
   "cell_type": "code",
   "execution_count": 113,
   "metadata": {},
   "outputs": [],
   "source": [
    "df_synonyms = df_synonyms.sort_values(by=['len_terms', 'k']).reset_index(drop=True)"
   ]
  },
  {
   "cell_type": "code",
   "execution_count": 114,
   "metadata": {},
   "outputs": [
    {
     "data": {
      "text/plain": [
       "Index(['k', 'v', 'terms', 'len_terms'], dtype='object')"
      ]
     },
     "execution_count": 114,
     "metadata": {},
     "output_type": "execute_result"
    }
   ],
   "source": [
    "df_synonyms.columns"
   ]
  },
  {
   "cell_type": "code",
   "execution_count": 115,
   "metadata": {},
   "outputs": [],
   "source": [
    "df_synonyms[['k', 'v']].to_csv(data_dir+'gogossing.tsv', sep='\\t', index=False)"
   ]
  },
  {
   "cell_type": "code",
   "execution_count": null,
   "metadata": {},
   "outputs": [],
   "source": []
  }
 ],
 "metadata": {
  "kernelspec": {
   "display_name": "Python 2",
   "language": "python",
   "name": "python2"
  },
  "language_info": {
   "codemirror_mode": {
    "name": "ipython",
    "version": 2
   },
   "file_extension": ".py",
   "mimetype": "text/x-python",
   "name": "python",
   "nbconvert_exporter": "python",
   "pygments_lexer": "ipython2",
   "version": "2.7.6"
  }
 },
 "nbformat": 4,
 "nbformat_minor": 0
}
