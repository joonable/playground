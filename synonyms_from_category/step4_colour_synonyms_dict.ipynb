{
 "cells": [
  {
   "cell_type": "code",
   "execution_count": 3,
   "metadata": {
    "collapsed": true
   },
   "outputs": [],
   "source": [
    "import pandas as pd\n",
    "import re\n",
    "from itertools import chain"
   ]
  },
  {
   "cell_type": "code",
   "execution_count": 60,
   "metadata": {},
   "outputs": [
    {
     "data": {
      "text/plain": [
       "['회색\\tgray 그래이 그레이 grey',\n '빨강\\t레드 red 빨간 빨강 적색',\n '노랑\\tyellow 노란 옐로 옐로우',\n '카키\\tkhaki 캬키',\n '분홍\\tpink 핑크',\n '하늘색\\t소라색 skyblue',\n '흰색\\t백색 하얀 화이트 white',\n '갈색\\t브라운 부라운 brown',\n '남색\\tnavy 곤색 네이비',\n '베이지\\tbeige 배이지',\n '보라\\t퍼플 purple 바이올렛 violet 바이올랫 바이올릿 바이올렉 바이오렛',\n '검정\\t블랙 black 검은 블렉 흑색',\n '파랑\\tblue 파란 블루',\n '버건디\\t와인색',\n '카멜\\tcamel 캐멀 캬멜',\n '녹색\\t그린 green 초록',\n '색\\t색깔 색상 칼라 컬러 color']"
      ]
     },
     "execution_count": 60,
     "metadata": {},
     "output_type": "execute_result"
    }
   ],
   "source": [
    "str_synonyms = \"\"\"회색\tgray 그래이 그레이 grey\n",
    "빨강\t레드 red 빨간 빨강 적색\n",
    "노랑\tyellow 노란 옐로 옐로우\n",
    "카키\tkhaki 캬키\n",
    "분홍\tpink 핑크\n",
    "하늘색\t소라색 skyblue\n",
    "흰색\t백색 하얀 화이트 white\n",
    "갈색\t브라운 부라운 brown\n",
    "남색\tnavy 곤색 네이비\n",
    "베이지\tbeige 배이지\n",
    "보라\t퍼플 purple 바이올렛 violet 바이올랫 바이올릿 바이올렉 바이오렛\n",
    "검정\t블랙 black 검은 블렉 흑색\n",
    "파랑\tblue 파란 블루\n",
    "버건디\t와인색\n",
    "카멜\tcamel 캐멀 캬멜\n",
    "녹색\t그린 green 초록\n",
    "색\t색깔 색상 칼라 컬러 color\"\"\"\n",
    "\n",
    "lines_list = str_synonyms.split(\"\\n\")\n",
    "lines_list"
   ]
  },
  {
   "cell_type": "code",
   "execution_count": 47,
   "metadata": {},
   "outputs": [],
   "source": [
    "file_path = '/home/admin-/Documents/dict_data/synonyms/by_freq/candidate_synonyms_final_190130.tsv'\n",
    "with open(file_path) as f:\n",
    "    lines_list = f.readlines()\n",
    "lines_list = [line.rstrip() for line in lines_list]"
   ]
  },
  {
   "cell_type": "code",
   "execution_count": 61,
   "metadata": {
    "collapsed": true
   },
   "outputs": [
    {
     "data": {
      "text/plain": [
       "['회색\\tgray 그래이 그레이 grey',\n '빨강\\t레드 red 빨간 빨강 적색',\n '노랑\\tyellow 노란 옐로 옐로우',\n '카키\\tkhaki 캬키',\n '분홍\\tpink 핑크',\n '하늘색\\t소라색 skyblue',\n '흰색\\t백색 하얀 화이트 white',\n '갈색\\t브라운 부라운 brown',\n '남색\\tnavy 곤색 네이비',\n '베이지\\tbeige 배이지',\n '보라\\t퍼플 purple 바이올렛 violet 바이올랫 바이올릿 바이올렉 바이오렛',\n '검정\\t블랙 black 검은 블렉 흑색',\n '파랑\\tblue 파란 블루',\n '버건디\\t와인색',\n '카멜\\tcamel 캐멀 캬멜',\n '녹색\\t그린 green 초록',\n '색\\t색깔 색상 칼라 컬러 color']"
      ]
     },
     "execution_count": 61,
     "metadata": {},
     "output_type": "execute_result"
    }
   ],
   "source": [
    "lines_list"
   ]
  },
  {
   "cell_type": "code",
   "execution_count": 44,
   "metadata": {},
   "outputs": [],
   "source": [
    "tab_ptrn = re.compile('\\t')"
   ]
  },
  {
   "cell_type": "code",
   "execution_count": 62,
   "metadata": {
    "collapsed": true
   },
   "outputs": [
    {
     "name": "stdout",
     "output_type": "stream",
     "text": [
      "gray, 그래이, 그레이, grey => 회색\n레드, red, 빨간, 빨강, 적색 => 빨강\nyellow, 노란, 옐로, 옐로우 => 노랑\nkhaki, 캬키 => 카키\npink, 핑크 => 분홍\n소라색, skyblue => 하늘색\n백색, 하얀, 화이트, white => 흰색\n브라운, 부라운, brown => 갈색\nnavy, 곤색, 네이비 => 남색\nbeige, 배이지 => 베이지\n퍼플, purple, 바이올렛, violet, 바이올랫, 바이올릿, 바이올렉, 바이오렛 => 보라\n블랙, black, 검은, 블렉, 흑색 => 검정\nblue, 파란, 블루 => 파랑\n와인색 => 버건디\ncamel, 캐멀, 캬멜 => 카멜\n그린, green, 초록 => 녹색\n색깔, 색상, 칼라, 컬러, color => 색\n"
     ]
    }
   ],
   "source": [
    "new_lines_list = []\n",
    "for line in lines_list:\n",
    "    re_group = re.split(tab_ptrn, line)\n",
    "    representative = re_group[0]\n",
    "    synonyms = \", \".join(re_group[1].split(\" \"))\n",
    "    new_line = str(synonyms + \" => \" + representative)\n",
    "    new_lines_list.append(new_line)\n",
    "    print(new_line)"
   ]
  },
  {
   "cell_type": "code",
   "execution_count": 63,
   "metadata": {},
   "outputs": [],
   "source": [
    "dt = '20190131'\n",
    "f_name = 'colour_synonyms_dict'\n",
    "sr_synonyms = pd.Series(new_lines_list).to_csv('/home/admin-/PycharmProjects/playground/synonyms_from_category/data/'+f_name+'_'+dt+'.txt', index=False)"
   ]
  }
 ],
 "metadata": {
  "kernelspec": {
   "display_name": "Python 2",
   "language": "python",
   "name": "python2"
  },
  "language_info": {
   "codemirror_mode": {
    "name": "ipython",
    "version": 2
   },
   "file_extension": ".py",
   "mimetype": "text/x-python",
   "name": "python",
   "nbconvert_exporter": "python",
   "pygments_lexer": "ipython2",
   "version": "2.7.6"
  }
 },
 "nbformat": 4,
 "nbformat_minor": 0
}
