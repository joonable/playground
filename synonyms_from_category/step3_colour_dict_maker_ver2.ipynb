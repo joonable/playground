{
 "cells": [
  {
   "cell_type": "code",
   "execution_count": 1,
   "metadata": {
    "collapsed": true
   },
   "outputs": [],
   "source": [
    "from itertools import chain\n",
    "import pandas as pd"
   ]
  },
  {
   "cell_type": "code",
   "execution_count": 2,
   "metadata": {},
   "outputs": [],
   "source": [
    "colours = [\n",
    "    (\"회색\", [\"회색\",\"그래이\",\"그레이\"]),\n",
    "    (\"빨강\", [\"빨강\",\"레드\",\"빨간\",\"적색\"]),\n",
    "    (\"노랑\", [\"노랑\",\"노란\",\"옐로\",\"옐로우\"]),\n",
    "    (\"카키\", [\"카키\",\"캬키\"]),\n",
    "    (\"분홍\", [\"분홍\",\"핑크\"]),\n",
    "    (\"하늘\", [\"하늘색\",\"소라색\"]),\n",
    "    (\"흰색\", [\"흰색\",\"백색\",\"하얀\",\"화이트\"]),\n",
    "    (\"갈색\", [\"갈색\",\"브라운\",\"부라운\"]),\n",
    "    (\"남색\", [\"남색\",\"네이비\",\"곤색\"]),\n",
    "    (\"베이지\", [\"베이지\",\"배이지\"]),\n",
    "    (\"보라\", [\"보라\",\"퍼플\",\"바이올렛\",\"바이올랫\",\"바이올릿\",\"바이올렉\",\"바이오렛\"]),\n",
    "    (\"검정\", [\"검정\",\"블랙\",\"검은\",\"블렉\",\"흑색\"]),\n",
    "    (\"파랑\", [\"파랑\",\"블루\",\"파란\"]),\n",
    "    (\"와인\", [\"와인색\",\"버건디\"]),\n",
    "    (\"카멜\", [\"카멜\",\"캐멀\",\"캬멜\"]),\n",
    "    (\"초록\", [\"초록\",\"그린\",\"녹색\"])\n",
    "]\n",
    "\n",
    "suffixs = (\"색\", [\"색\",\"색깔\",\"색상\",\"칼라\",\"컬러\"])"
   ]
  },
  {
   "cell_type": "code",
   "execution_count": 3,
   "metadata": {},
   "outputs": [],
   "source": [
    "k_suffix = suffixs[0]\n",
    "v_suffix_list = suffixs[1]\n",
    "\n",
    "colours_dict = {}\n",
    "colours_dict[k_suffix] = \", \".join(suffixs[1])\n",
    "\n",
    "for k_colour, v_colour_list in colours:\n",
    "    temp = []\n",
    "    temp.extend(v_colour_list)\n",
    "    for v_colour in v_colour_list:\n",
    "        for v_suffix in v_suffix_list:\n",
    "            temp.append(v_colour + v_suffix)\n",
    "    colours_dict[k_colour + \", \" + k_suffix] = \", \".join(temp)\n"
   ]
  },
  {
   "cell_type": "code",
   "execution_count": 6,
   "metadata": {
    "collapsed": true
   },
   "outputs": [],
   "source": [
    "colours_synonym_list = [v + \" => \" + k for k, v in colours_dict.items()]"
   ]
  },
  {
   "cell_type": "code",
   "execution_count": 17,
   "metadata": {
    "collapsed": true
   },
   "outputs": [],
   "source": [
    "# colours_user_list = [k.split(\", \")+v.split(\", \") for k, v in colours_dict.items()]\n",
    "# colours_user_list = [x for x in chain(*colours_user_list)]\n",
    "# df_users = pd.read_csv('./synonyms_from_category/data/user_dict_20190301.txt', names=['token'])\n",
    "# user_list = pd.Series(df_users.token.tolist() + colours_user_list).sort_values().unique().tolist()\n",
    "# temp_user_list = [user_list[0]]\n",
    "# for i in range(1, len(user_list)):\n",
    "#     if temp_user_list[-1] != user_list[i].split()[0]:\n",
    "#         temp_user_list.append(user_list[i])\n",
    "# user_list = temp_user_list"
   ]
  },
  {
   "cell_type": "code",
   "execution_count": 31,
   "metadata": {},
   "outputs": [],
   "source": [
    "dt='20190324'\n",
    "pd.Series(colours_synonym_list).to_csv('./synonyms_from_category/data/colour_synonyms_dict_'+dt+'.txt', index=False)\n",
    "pd.Series(user_list).to_csv('./synonyms_from_category/data/colour_user_dict_'+dt+'.txt', index=False)\n"
   ]
  }
 ],
 "metadata": {
  "kernelspec": {
   "display_name": "Python 2",
   "language": "python",
   "name": "python2"
  },
  "language_info": {
   "codemirror_mode": {
    "name": "ipython",
    "version": 2
   },
   "file_extension": ".py",
   "mimetype": "text/x-python",
   "name": "python",
   "nbconvert_exporter": "python",
   "pygments_lexer": "ipython2",
   "version": "2.7.6"
  }
 },
 "nbformat": 4,
 "nbformat_minor": 0
}
