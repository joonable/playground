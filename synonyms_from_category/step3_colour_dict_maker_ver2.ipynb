{
 "cells": [
  {
   "cell_type": "code",
   "execution_count": 1,
   "metadata": {
    "collapsed": true
   },
   "outputs": [],
   "source": [
    "from itertools import chain\n",
    "import pandas as pd"
   ]
  },
  {
   "cell_type": "code",
   "execution_count": 2,
   "metadata": {},
   "outputs": [],
   "source": [
    "colours = [\n",
    "    (\"회색\", [\"회색\",\"그래이\",\"그레이\"]),\n",
    "    (\"빨강\", [\"빨강\",\"레드\",\"빨간\",\"적색\"]),\n",
    "    (\"노랑\", [\"노랑\",\"노란\",\"옐로\",\"옐로우\"]),\n",
    "    (\"카키\", [\"카키\",\"캬키\"]),\n",
    "    (\"분홍\", [\"분홍\",\"핑크\"]),\n",
    "    (\"하늘\", [\"하늘색\",\"소라색\"]),\n",
    "    (\"흰색\", [\"흰색\",\"백색\",\"하얀\",\"화이트\"]),\n",
    "    (\"갈색\", [\"갈색\",\"브라운\",\"부라운\"]),\n",
    "    (\"남색\", [\"남색\",\"네이비\",\"곤색\"]),\n",
    "    (\"베이지\", [\"베이지\",\"배이지\"]),\n",
    "    (\"보라\", [\"보라\",\"퍼플\",\"바이올렛\",\"바이올랫\",\"바이올릿\",\"바이올렉\",\"바이오렛\"]),\n",
    "    (\"검정\", [\"검정\",\"블랙\",\"검은\",\"블렉\",\"흑색\"]),\n",
    "    (\"파랑\", [\"파랑\",\"블루\",\"파란\"]),\n",
    "    (\"와인\", [\"와인색\",\"버건디\"]),\n",
    "    (\"카멜\", [\"카멜\",\"캐멀\",\"캬멜\"]),\n",
    "    (\"초록\", [\"초록\",\"그린\",\"녹색\"])\n",
    "]\n",
    "\n",
    "suffixs = (\"색\", [\"색\",\"색깔\",\"색상\",\"칼라\",\"컬러\"])"
   ]
  },
  {
   "cell_type": "code",
   "execution_count": 3,
   "metadata": {},
   "outputs": [],
   "source": [
    "k_suffix = suffixs[0]\n",
    "v_suffix_list = suffixs[1]\n",
    "\n",
    "colours_dict = {}\n",
    "colours_dict[k_suffix] = \", \".join(suffixs[1])\n",
    "\n",
    "for k_colour, v_colour_list in colours:\n",
    "    temp = []\n",
    "    temp.extend(v_colour_list)\n",
    "    for v_colour in v_colour_list:\n",
    "        for v_suffix in v_suffix_list:\n",
    "            temp.append(v_colour + v_suffix)\n",
    "    colours_dict[k_colour + \", \" + k_suffix] = \", \".join(temp)\n"
   ]
  },
  {
   "cell_type": "code",
   "execution_count": 4,
   "metadata": {
    "collapsed": true
   },
   "outputs": [],
   "source": [
    "colours_synonym_list = [v + \" => \" + k for k, v in colours_dict.items()]"
   ]
  },
  {
   "cell_type": "code",
   "execution_count": 17,
   "metadata": {},
   "outputs": [],
   "source": [
    "colours_user_list = [x.split(\" => \") for x in colours_synonym_list]\n",
    "colours_user_list = [[x[0].split(\", \"), x[1].split(\", \")] for x in colours_user_list]\n",
    "colours_user_list = [x for x in chain(*colours_user_list)]\n",
    "colours_user_list = [x for x in chain(*colours_user_list)]\n",
    "colours_user_list = pd.Series(colours_user_list).sort_values().unique().tolist()\n",
    "pd.Series(colours_user_list).to_csv('colour_sysnonyms_user_dict_20190324.txt', index=False)\n"
   ]
  },
  {
   "cell_type": "code",
   "execution_count": 16,
   "metadata": {},
   "outputs": [
    {
     "data": {
      "text/plain": [
       "['갈색', '갈색색', '갈색색깔', '갈색색상', '갈색칼라', '갈색컬러', '검은', '검은색', '검은색깔', '검은색상']"
      ]
     },
     "execution_count": 16,
     "metadata": {},
     "output_type": "execute_result"
    }
   ],
   "source": [
    "colours_user_list[:10]"
   ]
  },
  {
   "cell_type": "code",
   "execution_count": 68,
   "metadata": {},
   "outputs": [],
   "source": [
    "user_list = pd.Series(user_list + aaa).sort_values().unique().tolist()\n",
    "for i in range(1, len(user_list)):\n",
    "    if temp_user_list[-1] != user_list[i].split()[0]:\n",
    "        temp_user_list.append(user_list[i])\n",
    "user_list = temp_user_list"
   ]
  },
  {
   "cell_type": "code",
   "execution_count": 17,
   "metadata": {
    "collapsed": true
   },
   "outputs": [],
   "source": [
    "# colours_user_list = [k.split(\", \")+v.split(\", \") for k, v in colours_dict.items()]\n",
    "# colours_user_list = [x for x in chain(*colours_user_list)]\n",
    "# df_users = pd.read_csv('./synonyms_from_category/data/user_dict_20190301.txt', names=['token'])\n",
    "# user_list = pd.Series(df_users.token.tolist() + colours_user_list).sort_values().unique().tolist()\n",
    "# temp_user_list = [user_list[0]]\n",
    "# for i in range(1, len(user_list)):\n",
    "#     if temp_user_list[-1] != user_list[i].split()[0]:\n",
    "#         temp_user_list.append(user_list[i])\n",
    "# user_list = temp_user_list"
   ]
  },
  {
   "cell_type": "code",
   "execution_count": 61,
   "metadata": {},
   "outputs": [],
   "source": [
    "colours_synonym_list += t"
   ]
  },
  {
   "cell_type": "code",
   "execution_count": 70,
   "metadata": {},
   "outputs": [],
   "source": [
    "dt='20190325'\n",
    "pd.Series(colours_synonym_list).to_csv('./synonyms_from_category/data/colour_synonyms_dict_'+dt+'.txt', index=False)\n",
    "pd.Series(user_list).to_csv('./synonyms_from_category/data/colour_user_dict_'+dt+'.txt', index=False)\n"
   ]
  },
  {
   "cell_type": "code",
   "execution_count": null,
   "metadata": {},
   "outputs": [],
   "source": []
  },
  {
   "cell_type": "code",
   "execution_count": 38,
   "metadata": {},
   "outputs": [],
   "source": [
    "t = pd.read_csv('/home/admin-/app/elk/elasticsearch/config/synonyms_dict_20190130.txt', names=['token'])"
   ]
  },
  {
   "cell_type": "code",
   "execution_count": 46,
   "metadata": {},
   "outputs": [],
   "source": [
    "t = [x for x in t if '색깔' not in x ]\n",
    "t = [x for x in t if '차콜' not in x ]"
   ]
  },
  {
   "cell_type": "code",
   "execution_count": 51,
   "metadata": {},
   "outputs": [],
   "source": [
    "lc = [x[0] for x in colours]"
   ]
  },
  {
   "cell_type": "code",
   "execution_count": 54,
   "metadata": {},
   "outputs": [],
   "source": [
    "ttt= []\n",
    "for x in t:\n",
    "    fff = True\n",
    "    for c in lc:\n",
    "        if c in x:\n",
    "            fff = False\n",
    "            break\n",
    "    if fff:\n",
    "        ttt.append(x)"
   ]
  },
  {
   "cell_type": "code",
   "execution_count": 57,
   "metadata": {},
   "outputs": [],
   "source": [
    "t = ttt \n",
    "t = [x for x in t if '차콜' not in x ]"
   ]
  },
  {
   "cell_type": "code",
   "execution_count": 15,
   "metadata": {},
   "outputs": [
    {
     "ename": "NameError",
     "evalue": "name 't' is not defined",
     "traceback": [
      "\u001b[0;31m---------------------------------------------------------------------------\u001b[0m",
      "\u001b[0;31mNameError\u001b[0m                                 Traceback (most recent call last)",
      "\u001b[0;32m<ipython-input-15-6e0f736d068f>\u001b[0m in \u001b[0;36m<module>\u001b[0;34m()\u001b[0m\n\u001b[0;32m----> 1\u001b[0;31m \u001b[0mt\u001b[0m\u001b[0;34m[\u001b[0m\u001b[0;34m:\u001b[0m\u001b[0;36m10\u001b[0m\u001b[0;34m]\u001b[0m\u001b[0;34m\u001b[0m\u001b[0m\n\u001b[0m",
      "\u001b[0;31mNameError\u001b[0m: name 't' is not defined"
     ],
     "output_type": "error"
    }
   ],
   "source": [
    "t[:10]"
   ]
  },
  {
   "cell_type": "code",
   "execution_count": 14,
   "metadata": {
    "collapsed": false
   },
   "outputs": [
    {
     "ename": "NameError",
     "evalue": "name 'user_list' is not defined",
     "traceback": [
      "\u001b[0;31m---------------------------------------------------------------------------\u001b[0m",
      "\u001b[0;31mNameError\u001b[0m                                 Traceback (most recent call last)",
      "\u001b[0;32m<ipython-input-14-66bcbdbaf1a8>\u001b[0m in \u001b[0;36m<module>\u001b[0;34m()\u001b[0m\n\u001b[0;32m----> 1\u001b[0;31m \u001b[0muser_list\u001b[0m\u001b[0;34m[\u001b[0m\u001b[0;34m:\u001b[0m\u001b[0;36m10\u001b[0m\u001b[0;34m]\u001b[0m\u001b[0;34m\u001b[0m\u001b[0m\n\u001b[0m",
      "\u001b[0;31mNameError\u001b[0m: name 'user_list' is not defined"
     ],
     "output_type": "error"
    }
   ],
   "source": [
    "user_list[:10]"
   ]
  },
  {
   "cell_type": "code",
   "execution_count": null,
   "metadata": {},
   "outputs": [],
   "source": []
  }
 ],
 "metadata": {
  "kernelspec": {
   "display_name": "Python 2",
   "language": "python",
   "name": "python2"
  },
  "language_info": {
   "codemirror_mode": {
    "name": "ipython",
    "version": 2
   },
   "file_extension": ".py",
   "mimetype": "text/x-python",
   "name": "python",
   "nbconvert_exporter": "python",
   "pygments_lexer": "ipython2",
   "version": "2.7.6"
  }
 },
 "nbformat": 4,
 "nbformat_minor": 0
}
