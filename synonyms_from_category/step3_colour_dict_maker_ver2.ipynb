{
 "cells": [
  {
   "cell_type": "code",
   "execution_count": 1,
   "metadata": {
    "collapsed": true
   },
   "outputs": [],
   "source": [
    "from itertools import chain\n",
    "import pandas as pd"
   ]
  },
  {
   "cell_type": "code",
   "execution_count": 2,
   "metadata": {},
   "outputs": [],
   "source": [
    "colours = [\n",
    "    (\"회색\", [\"회색\",\"그래이\",\"그레이\"]),\n",
    "    (\"빨강\", [\"빨강\",\"레드\",\"빨간\",\"적색\"]),\n",
    "    (\"노랑\", [\"노랑\",\"노란\",\"옐로\",\"옐로우\"]),\n",
    "    (\"카키\", [\"카키\",\"캬키\"]),\n",
    "    (\"분홍\", [\"분홍\",\"핑크\"]),\n",
    "    (\"하늘\", [\"하늘색\",\"소라색\"]),\n",
    "    (\"흰색\", [\"흰색\",\"백색\",\"하얀\",\"화이트\"]),\n",
    "    (\"갈색\", [\"갈색\",\"브라운\",\"부라운\"]),\n",
    "    (\"남색\", [\"남색\",\"네이비\",\"곤색\"]),\n",
    "    (\"베이지\", [\"베이지\",\"배이지\"]),\n",
    "    (\"보라\", [\"보라\",\"퍼플\",\"바이올렛\",\"바이올랫\",\"바이올릿\",\"바이올렉\",\"바이오렛\"]),\n",
    "    (\"검정\", [\"검정\",\"블랙\",\"검은\",\"블렉\",\"흑색\"]),\n",
    "    (\"파랑\", [\"파랑\",\"블루\",\"파란\"]),\n",
    "    (\"와인\", [\"와인색\",\"버건디\"]),\n",
    "    (\"카멜\", [\"카멜\",\"캐멀\",\"캬멜\"]),\n",
    "    (\"초록\", [\"초록\",\"그린\",\"녹색\"])\n",
    "]\n",
    "\n",
    "suffixs = (\"색\", [\"색\",\"색깔\",\"색상\",\"칼라\",\"컬러\"])"
   ]
  },
  {
   "cell_type": "code",
   "execution_count": 3,
   "metadata": {},
   "outputs": [],
   "source": [
    "k_suffix = suffixs[0]\n",
    "v_suffix_list = suffixs[1]\n",
    "\n",
    "colours_dict = {}\n",
    "colours_dict[k_suffix] = \", \".join(suffixs[1])\n",
    "\n",
    "for k_colour, v_colour_list in colours:\n",
    "    temp = []\n",
    "    temp.extend(v_colour_list)\n",
    "    for v_colour in v_colour_list:\n",
    "        for v_suffix in v_suffix_list:\n",
    "            temp.append(v_colour + v_suffix)\n",
    "    colours_dict[k_colour + \", \" + k_suffix] = \", \".join(temp)\n"
   ]
  },
  {
   "cell_type": "code",
   "execution_count": 4,
   "metadata": {
    "collapsed": true
   },
   "outputs": [],
   "source": [
    "colours_synonym_list = [v + \" => \" + k for k, v in colours_dict.items()]"
   ]
  },
  {
   "cell_type": "code",
   "execution_count": 13,
   "metadata": {},
   "outputs": [],
   "source": [
    "colours_user_list = [x.split(\" => \") for x in colours_synonym_list]\n",
    "colours_user_list = [[x[0].split(\", \"), x[1].split(\", \")] for x in colours_user_list]\n",
    "colours_user_list = [x for x in chain(*colours_user_list)]\n",
    "colours_user_list = [x for x in chain(*colours_user_list)]\n",
    "colours_user_list = pd.Series(colours_user_list).sort_values().unique().tolist()\n",
    "pd.Series(colours_user_list).to_csv('colour_user_dict_20190324.txt', index=False)\n"
   ]
  },
  {
   "cell_type": "code",
   "execution_count": 11,
   "metadata": {},
   "outputs": [
    {
     "data": {
      "text/plain": [
       "['갈색',\n '갈색색',\n '갈색색깔',\n '갈색색상',\n '갈색칼라',\n '갈색컬러',\n '검은',\n '검은색',\n '검은색깔',\n '검은색상',\n '검은칼라',\n '검은컬러',\n '검정',\n '검정색',\n '검정색깔',\n '검정색상',\n '검정칼라',\n '검정컬러',\n '곤색',\n '곤색색',\n '곤색색깔',\n '곤색색상',\n '곤색칼라',\n '곤색컬러',\n '그래이',\n '그래이색',\n '그래이색깔',\n '그래이색상',\n '그래이칼라',\n '그래이컬러',\n '그레이',\n '그레이색',\n '그레이색깔',\n '그레이색상',\n '그레이칼라',\n '그레이컬러',\n '그린',\n '그린색',\n '그린색깔',\n '그린색상',\n '그린칼라',\n '그린컬러',\n '남색',\n '남색색',\n '남색색깔',\n '남색색상',\n '남색칼라',\n '남색컬러',\n '네이비',\n '네이비색',\n '네이비색깔',\n '네이비색상',\n '네이비칼라',\n '네이비컬러',\n '노란',\n '노란색',\n '노란색깔',\n '노란색상',\n '노란칼라',\n '노란컬러',\n '노랑',\n '노랑색',\n '노랑색깔',\n '노랑색상',\n '노랑칼라',\n '노랑컬러',\n '녹색',\n '녹색색',\n '녹색색깔',\n '녹색색상',\n '녹색칼라',\n '녹색컬러',\n '레드',\n '레드색',\n '레드색깔',\n '레드색상',\n '레드칼라',\n '레드컬러',\n '바이오렛',\n '바이오렛색',\n '바이오렛색깔',\n '바이오렛색상',\n '바이오렛칼라',\n '바이오렛컬러',\n '바이올랫',\n '바이올랫색',\n '바이올랫색깔',\n '바이올랫색상',\n '바이올랫칼라',\n '바이올랫컬러',\n '바이올렉',\n '바이올렉색',\n '바이올렉색깔',\n '바이올렉색상',\n '바이올렉칼라',\n '바이올렉컬러',\n '바이올렛',\n '바이올렛색',\n '바이올렛색깔',\n '바이올렛색상',\n '바이올렛칼라',\n '바이올렛컬러',\n '바이올릿',\n '바이올릿색',\n '바이올릿색깔',\n '바이올릿색상',\n '바이올릿칼라',\n '바이올릿컬러',\n '배이지',\n '배이지색',\n '배이지색깔',\n '배이지색상',\n '배이지칼라',\n '배이지컬러',\n '백색',\n '백색색',\n '백색색깔',\n '백색색상',\n '백색칼라',\n '백색컬러',\n '버건디',\n '버건디색',\n '버건디색깔',\n '버건디색상',\n '버건디칼라',\n '버건디컬러',\n '베이지',\n '베이지색',\n '베이지색깔',\n '베이지색상',\n '베이지칼라',\n '베이지컬러',\n '보라',\n '보라색',\n '보라색깔',\n '보라색상',\n '보라칼라',\n '보라컬러',\n '부라운',\n '부라운색',\n '부라운색깔',\n '부라운색상',\n '부라운칼라',\n '부라운컬러',\n '분홍',\n '분홍색',\n '분홍색깔',\n '분홍색상',\n '분홍칼라',\n '분홍컬러',\n '브라운',\n '브라운색',\n '브라운색깔',\n '브라운색상',\n '브라운칼라',\n '브라운컬러',\n '블랙',\n '블랙색',\n '블랙색깔',\n '블랙색상',\n '블랙칼라',\n '블랙컬러',\n '블렉',\n '블렉색',\n '블렉색깔',\n '블렉색상',\n '블렉칼라',\n '블렉컬러',\n '블루',\n '블루색',\n '블루색깔',\n '블루색상',\n '블루칼라',\n '블루컬러',\n '빨간',\n '빨간색',\n '빨간색깔',\n '빨간색상',\n '빨간칼라',\n '빨간컬러',\n '빨강',\n '빨강색',\n '빨강색깔',\n '빨강색상',\n '빨강칼라',\n '빨강컬러',\n '색',\n '색깔',\n '색상',\n '소라색',\n '소라색색',\n '소라색색깔',\n '소라색색상',\n '소라색칼라',\n '소라색컬러',\n '옐로',\n '옐로색',\n '옐로색깔',\n '옐로색상',\n '옐로우',\n '옐로우색',\n '옐로우색깔',\n '옐로우색상',\n '옐로우칼라',\n '옐로우컬러',\n '옐로칼라',\n '옐로컬러',\n '와인',\n '와인색',\n '와인색색',\n '와인색색깔',\n '와인색색상',\n '와인색칼라',\n '와인색컬러',\n '적색',\n '적색색',\n '적색색깔',\n '적색색상',\n '적색칼라',\n '적색컬러',\n '초록',\n '초록색',\n '초록색깔',\n '초록색상',\n '초록칼라',\n '초록컬러',\n '카멜',\n '카멜색',\n '카멜색깔',\n '카멜색상',\n '카멜칼라',\n '카멜컬러',\n '카키',\n '카키색',\n '카키색깔',\n '카키색상',\n '카키칼라',\n '카키컬러',\n '칼라',\n '캐멀',\n '캐멀색',\n '캐멀색깔',\n '캐멀색상',\n '캐멀칼라',\n '캐멀컬러',\n '캬멜',\n '캬멜색',\n '캬멜색깔',\n '캬멜색상',\n '캬멜칼라',\n '캬멜컬러',\n '캬키',\n '캬키색',\n '캬키색깔',\n '캬키색상',\n '캬키칼라',\n '캬키컬러',\n '컬러',\n '파란',\n '파란색',\n '파란색깔',\n '파란색상',\n '파란칼라',\n '파란컬러',\n '파랑',\n '파랑색',\n '파랑색깔',\n '파랑색상',\n '파랑칼라',\n '파랑컬러',\n '퍼플',\n '퍼플색',\n '퍼플색깔',\n '퍼플색상',\n '퍼플칼라',\n '퍼플컬러',\n '핑크',\n '핑크색',\n '핑크색깔',\n '핑크색상',\n '핑크칼라',\n '핑크컬러',\n '하늘',\n '하늘색',\n '하늘색색',\n '하늘색색깔',\n '하늘색색상',\n '하늘색칼라',\n '하늘색컬러',\n '하얀',\n '하얀색',\n '하얀색깔',\n '하얀색상',\n '하얀칼라',\n '하얀컬러',\n '화이트',\n '화이트색',\n '화이트색깔',\n '화이트색상',\n '화이트칼라',\n '화이트컬러',\n '회색',\n '회색색',\n '회색색깔',\n '회색색상',\n '회색칼라',\n '회색컬러',\n '흑색',\n '흑색색',\n '흑색색깔',\n '흑색색상',\n '흑색칼라',\n '흑색컬러',\n '흰색',\n '흰색색',\n '흰색색깔',\n '흰색색상',\n '흰색칼라',\n '흰색컬러']"
      ]
     },
     "execution_count": 11,
     "metadata": {},
     "output_type": "execute_result"
    }
   ],
   "source": [
    "colours_user_list"
   ]
  },
  {
   "cell_type": "code",
   "execution_count": 68,
   "metadata": {},
   "outputs": [],
   "source": [
    "user_list = pd.Series(user_list + aaa).sort_values().unique().tolist()\n",
    "for i in range(1, len(user_list)):\n",
    "    if temp_user_list[-1] != user_list[i].split()[0]:\n",
    "        temp_user_list.append(user_list[i])\n",
    "user_list = temp_user_list"
   ]
  },
  {
   "cell_type": "code",
   "execution_count": 17,
   "metadata": {
    "collapsed": true
   },
   "outputs": [],
   "source": [
    "# colours_user_list = [k.split(\", \")+v.split(\", \") for k, v in colours_dict.items()]\n",
    "# colours_user_list = [x for x in chain(*colours_user_list)]\n",
    "# df_users = pd.read_csv('./synonyms_from_category/data/user_dict_20190301.txt', names=['token'])\n",
    "# user_list = pd.Series(df_users.token.tolist() + colours_user_list).sort_values().unique().tolist()\n",
    "# temp_user_list = [user_list[0]]\n",
    "# for i in range(1, len(user_list)):\n",
    "#     if temp_user_list[-1] != user_list[i].split()[0]:\n",
    "#         temp_user_list.append(user_list[i])\n",
    "# user_list = temp_user_list"
   ]
  },
  {
   "cell_type": "code",
   "execution_count": 61,
   "metadata": {},
   "outputs": [],
   "source": [
    "colours_synonym_list += t"
   ]
  },
  {
   "cell_type": "code",
   "execution_count": 70,
   "metadata": {},
   "outputs": [],
   "source": [
    "dt='20190325'\n",
    "pd.Series(colours_synonym_list).to_csv('./synonyms_from_category/data/colour_synonyms_dict_'+dt+'.txt', index=False)\n",
    "pd.Series(user_list).to_csv('./synonyms_from_category/data/colour_user_dict_'+dt+'.txt', index=False)\n"
   ]
  },
  {
   "cell_type": "code",
   "execution_count": null,
   "metadata": {},
   "outputs": [],
   "source": []
  },
  {
   "cell_type": "code",
   "execution_count": 38,
   "metadata": {},
   "outputs": [],
   "source": [
    "t = pd.read_csv('/home/admin-/app/elk/elasticsearch/config/synonyms_dict_20190130.txt', names=['token'])"
   ]
  },
  {
   "cell_type": "code",
   "execution_count": 46,
   "metadata": {},
   "outputs": [],
   "source": [
    "t = [x for x in t if '색깔' not in x ]\n",
    "t = [x for x in t if '차콜' not in x ]"
   ]
  },
  {
   "cell_type": "code",
   "execution_count": 51,
   "metadata": {},
   "outputs": [],
   "source": [
    "lc = [x[0] for x in colours]"
   ]
  },
  {
   "cell_type": "code",
   "execution_count": 54,
   "metadata": {},
   "outputs": [],
   "source": [
    "ttt= []\n",
    "for x in t:\n",
    "    fff = True\n",
    "    for c in lc:\n",
    "        if c in x:\n",
    "            fff = False\n",
    "            break\n",
    "    if fff:\n",
    "        ttt.append(x)"
   ]
  },
  {
   "cell_type": "code",
   "execution_count": 57,
   "metadata": {},
   "outputs": [],
   "source": [
    "t = ttt \n",
    "t = [x for x in t if '차콜' not in x ]"
   ]
  },
  {
   "cell_type": "code",
   "execution_count": 58,
   "metadata": {},
   "outputs": [
    {
     "data": {
      "text/plain": [
       "['2중 => 이중',\n '4계절 => 사계절',\n 'cherry, 채리 => 체리',\n 'frilled, frill, 후릴 => 프릴',\n 'joy, 죠이 => 조이',\n 'japan, 재팬, 재펜, 저팬, 제팬, 제펜 => 일본',\n 'age => 에이지',\n 'age20s, 에이지투웨니즈, 에이지트웨니스, 에이지투웨이스, 애이지투웨니스, 애이지트웨니스, age20 => 에이지투웨니스',\n 'air => 에어',\n 'ali => 알리',\n 'aline, 에이라인 => a라인',\n 'allnew => 올뉴',\n 'aloe, 알로애 => 알로에',\n 'alpaca, 알카파 => 알파카',\n 'ankle, 앙클, 앤클, 엥클 => 앵클',\n 'atopy, 아토피성 => 아토피',\n 'baby, 배이비 => 베이비',\n 'backpack, 배낭, 백빽, 백펙, 베낭, 벡팩, 빽팩, 팩백, 벡펙, 배냥, backpacks => 백팩',\n 'bag, 빽 => 가방',\n 'baggy, 베기 => 배기',\n 'balcony, veranda, 발코니, 배란다, 배랜다, 베랜다, 베렌다 => 베란다',\n 'bally => 발리',\n 'band, bands, 벤드 => 밴드',\n 'basic, 배이직 => 베이직',\n 'bb, bb크림, 비비 => 비비크림',\n 'belt, 밸트 => 벨트',\n 'bench, 밴취, 밴치 => 벤치',\n 'bidet, 비대, 비대기, 비데기 => 비데',\n 'big, 크 => 빅',\n 'blanket, 블랑캣, 블랑켓, 블랭킷, 블란켓, 불랭킷 => 담요',\n 'blouse, 부라우스, 브라우스, 불라우스 => 블라우스',\n 'body, 보디 => 바디',\n 'boots => 부츠',\n 'box => 박스',\n 'boxy => 박시',\n 'brand, 브렌드, 상표 => 브랜드',\n 'brick => 브릭',\n 'brush, 브러쉬, 브로쉬, 부러쉬, 부러시 => 브러시',\n 'button, buttoned, 버턴 => 버튼',\n 'cable, 캐이블, 케이불 => 케이블',\n 'calender, 달력, 카렌다, 칼렌다, 캐린더, 켈린더, 카렌더, 카랜다, 카랜더, 케린더, 갤린더 => 캘린더',\n 'card => 카드',\n 'care, 캐어 => 케어',\n 'carrier, 케리어 => 캐리어',\n 'carseat, 카씨트 => 카시트',\n 'case, 캐이스 => 케이스',\n 'cashmere, 캐쉬미어, 케쉬미어, 케시미어, 케시머어, 카시미어, 캐시미러 => 캐시미어',\n 'casual, 캐쥬얼, 케주얼, 케쥬얼, 캐줄얼, 캐쥬럴 => 캐주얼',\n 'cc, cc크림, 씨씨 => 씨씨크림',\n 'center, 센타, 쎈터, 쎈타 => 센터',\n 'channel, 체널 => 채널',\n 'character, 케릭터 => 캐릭터',\n 'charmzone, 참죤, 침존 => 참존',\n 'check, 채크, 책크, 첵크 => 체크',\n 'choice, 쵸이스 => 초이스',\n 'christmas, xmas, x마스, 성탄, 성탄절 => 크리스마스',\n 'classic => 클래식',\n 'clean, 크린 => 클린',\n 'cleaner, 크리너, 클린너 => 클리너',\n 'cleanser, 크랜저, 크랜져, 크렌저, 크렌져, 크린저, 클랜저, 클렌져, 클린저 => 클렌저',\n 'cleansing, 크랜징, 크렌징, 크린싱, 크린징, 클랜징, 클린싱, 클린징, 클렌증, 클렘징, 클롄징 => 클렌징',\n 'clinic, 크리닉 => 클리닉',\n 'coffee => 커피',\n 'collagen, 콜라갠, 콜라젠 => 콜라겐',\n 'concealer, 콘실러, 컨실라 => 컨실러',\n 'conditioner, 컨더셔너, 콘디셔너 => 컨디셔너',\n 'coral, 코랄 => 코럴',\n 'corelle, 코랠, 콜렐 => 코렐',\n 'cotton, 순면 => 코튼',\n 'couple, 커풀 => 커플',\n 'coupon => 쿠폰',\n 'cover, 카바 => 커버',\n 'creme, cream => 크림',\n 'cubic, 규빅 => 큐빅',\n 'cushion, 쿠숀, 큐션 => 쿠션',\n 'daily => 데일리',\n 'daks => 닥스',\n 'dali => 달리',\n 'dark => 다크',\n 'daum => 다음',\n 'davines => 다비네스',\n 'denim, 대님 => 데님',\n 'design => 디자인',\n 'detail, 디태일 => 디테일',\n 'diet, 체중감량 => 다이어트',\n 'doma => 도마',\n 'double => 더블',\n 'down => 다운',\n 'downy => 다우니',\n 'dream => 드림',\n 'drill => 드릴',\n 'dry, 드라이드 => 드라이',\n 'dryer, 드라이어 => 드라이기',\n 'duckdown, 덕다운, 오리털다운 => 오리털',\n 'dyson, 다이손 => 다이슨',\n 'earing, 귀고리, 이어링, earring, 귀거리 => 귀걸이',\n 'egg, 달걀, 애그, 에그 => 계란',\n 'essence, 에쎈스, 엣센스 => 에센스',\n 'europe => 유럽',\n 'event, 이밴트 => 이벤트',\n 'face, 훼이스 => 페이스',\n 'fashion, 페션 => 패션',\n 'feeling, peeling => 필링',\n 'felt, 팰트, 펠트, 휄트 => 부직포',\n 'fila, 필라, 흴라, 훨라, 횔라 => 휠라',\n 'film, 필림 => 필름',\n 'filter, 필타, 휠타, 휠터 => 필터',\n 'first, 펄스트 => 퍼스트',\n 'fit => 핏',\n 'foundation, 파데, 파운데이숀, 화운데이션, 화운데이숀, 파운대이션, 화운대이션, 파운데션, 파운에이션 => 파운데이션',\n 'fox, 여우 => 폭스',\n 'free => 프리',\n 'frypan, 프라이펜, 후라이팬, 후라이펜, 후라이판, 후리이펜 => 프라이팬',\n 'furniture, 퍼니처, 퍼니쳐 => 가구',\n 'gas, 까스 => 가스',\n 'gold => 골드',\n 'golf => 골프',\n 'grip => 그립',\n 'hair, 모발, 머리카락, 머리칼 => 헤어',\n 'handmade, 수제, 핸드매이드, 헨드메이드 => 핸드메이드',\n 'hanssem, 한셈 => 한샘',\n 'happycall, 헤피콜, 햐피콜, 해피클 => 해피콜',\n 'hazzys, 해지스, 해지즈, 헤지즈 => 헤지스',\n 'head, 해드 => 헤드',\n 'health, 핼스, 헬쓰 => 헬스',\n 'heater, 히타, 히터기 => 히터',\n 'hera, 해라 => 헤라',\n 'high, hi => 하이',\n 'idea => 아이디어',\n 'illy => 일리',\n 'image => 이미지',\n 'inch, 인찌 => 인치',\n 'induction => 인덕션',\n 'inner => 이너',\n 'item, 아이탬 => 아이템',\n 'ivory => 아이보리',\n 'jacket, jackets, 자캣, 자켓, 쟈켓, 자킷, 쟈킷, 제킷, 재컷, 쟈겟 => 재킷',\n 'jumper, 잠바, 잠퍼, 점버 => 점퍼',\n 'kimchi => 김치',\n 'kit, 킷, 킷트 => 키트',\n 'kleenex, 크리낵스 => 크리넥스',\n 'knit, knitted, 닛트, 니티 => 니트',\n 'label, 라벨 => 레이블',\n 'lambskin, 램가죽, 양피, 양피가죽, 램스킨, 렘스킨 => 양가죽',\n 'large => 라지',\n 'latex, 라택스, 라덱스, 락텍스 => 라텍스',\n 'latte => 라떼',\n 'layered, 래이어드, 레어어드 => 레이어드',\n 'leather, 래더, 레더, 피혁 => 가죽',\n 'leggings, 래깅스, 레깅즈, 레킹스, 레긴스, 네깅스, 레길스, 레깅느 => 레깅스',\n 'lemon용 => 레몬',\n 'lens, 랜즈 => 렌즈',\n 'lifting => 리프팅',\n 'line => 라인',\n 'liner => 라이너',\n 'lipstick, rouge, 루즈, 루주, 루쥬 => 립스틱',\n 'liquid, 액상, 액체 => 리퀴드',\n 'lirikos => 리리코스',\n 'logo => 로고',\n 'lotion, 로숀, 로시옹, 로씨옹, 료션 => 로션',\n 'lotte, 롯대 => 롯데',\n 'luxury, 럭셜, 력셔리 => 럭셔리',\n 'machine, 머쉰 => 머신',\n 'magic, 메직 => 매직',\n 'maker => 메이커',\n 'marketing, 마켓팅 => 마케팅',\n 'mart => 마트',\n 'mascara, 마스카락 => 마스카라',\n 'massage, 마싸지, 맛사지 => 마사지',\n 'mat, 메트 => 매트',\n 'match, 메치 => 매치',\n 'mattress, 메트리스 => 매트리스',\n 'milk, 밀크 => 우유',\n 'mini => 미니',\n 'mink => 밍크',\n 'mint => 민트',\n 'miss, 미쓰 => 미스',\n 'mist => 미스트',\n 'model => 모델',\n 'mogg => 모그',\n 'monitor => 모니터',\n 'morgan, 모르건 => 모르간',\n 'mucota, 뮤코타, 무고타 => 무코타',\n 'muffler, 마후라, 머풀러, 머플라, 목도리, 목플러, 목돌이 => 머플러',\n 'multi => 멀티',\n 'nail, 손톱 => 네일',\n 'name, 성명, 이름 => 네임',\n 'naver => 네이버 ',\n 'necklace, 네크레스, 네크레이스, 네크리스, 네클라스, 네클레스, 네클레이스, 네클리스, 넥크리스, 넥클레스, 넥클레이스, 목거리, 목걸리 => 목걸이',\n 'neo => 네오',\n 'nike, 니이키 => 나이키',\n 'notebook, 노트붇, 느트북, 노츠북, 노트복, 랩톱, laptop, 랩탑 => 노트북',\n 'oil, 기름 => 오일',\n 'old => 올드',\n 'option => 옵션',\n 'orange, 오랜지 => 오렌지',\n 'original, 오리지날 => 오리지널',\n 'outer, 아웃터 => 아우터',\n 'outlet, 아울랫 => 아울렛',\n 'outwear, 겉옷 => 아웃웨어',\n 'oven, 오븐기, 오븐조리기 => 오븐',\n 'package, 팩키지, 페키지, 펙키지, 패캐지 => 패키지',\n 'pact, 펙트 => 팩트',\n 'pad, pads, 페드 => 패드',\n 'padding, 페딩, 패팅 => 패딩',\n 'pants, 팬츠, 펜츠, 판츠 => 바지',\n 'panty, 펜티 => 팬티',\n 'pattern, 페턴 => 패턴',\n 'photo, 포토 => 사진',\n 'pie => 파이',\n 'plastic, 프라스틱, 플리스틱 => 플라스틱',\n 'play, 플래이 => 플레이',\n 'plus, 프러스 => 플러스',\n 'pocket, 주머니, 포캣 => 포켓',\n 'point => 포인트',\n 'pouch, 피우치 => 파우치',\n 'powder, 파우다 => 파우더',\n 'power => 파워',\n 'premium, 프레미엄, 프리미엄급, 프리미럼, 프리미움 => 프리미엄',\n 'print, 프린드 => 프린트',\n 'pro => 프로',\n 'psy => 싸이',\n 'puff, 분첩 => 퍼프',\n 'puma, 퓨마 => 푸마',\n 'pump, 펌푸 => 펌프',\n 'pumping => 펌핑',\n 'pure => 퓨어',\n 'quality, 컬리티, 퀄러티 => 퀄리티',\n 'racoon, 너구리털, 라쿤털, 락쿤, 락쿤털, 란쿤털, 라툰털 => 라쿤',\n 'real => 리얼',\n 'refill => 리필',\n 'renew => 리뉴',\n 'reversible, 리버서블, 리버시블, 리버써블, 리버스블 => 양면',\n 'review => 리뷰',\n 'ribbon => 리본',\n 'rinse => 린스',\n 'rolling, 롤릴 => 롤링',\n 'rose, 로즈, 장미꽃 => 장미',\n 'round, 라은드, 라운트, 라운드넥 => 라운드',\n 'sale, 쎄일 => 세일',\n 'sample, 견본, 견본품, 샘플품, 셈플, 쌤플, 표본, 샘풀 => 샘플',\n 'sash, 샤시, 샷시 => 새시',\n 'scarf => 스카프',\n 'scratch, 스크라치, 스크레치, 스크렛치, 스크래츠 => 스크래치',\n 'scrub, 스크러브, 스그럽, 각질제거 => 스크럽',\n 'season, 씨즌 => 시즌',\n 'seat, 씨트 => 시트',\n 'series, 씨리즈 => 시리즈',\n 'serum, 시럼, 쎄럼 => 세럼',\n 'service, 써비스 => 서비스',\n 'set, 셋트, 쎄트 => 세트',\n 'sexy => 섹시',\n 'shampoo, 샴프, 삼푸, 샴퓨, 삼퓨, 샴푸액, 샹푸 => 샴푸',\n 'shinsegae => 신세계',\n 'shirt, shirts, 샤쓰, 샤츠, 샤스 => 셔츠',\n 'side, 싸이드 => 사이드',\n 'sight, 싸이트, site => 사이트',\n 'silicon, silicone => 실리콘',\n 'silk, 씰크 => 실크',\n 'silver => 실버',\n 'size, 싸이즈, 치수, 칫수, 빅사이츠 => 사이즈',\n 'skin => 스킨',\n 'skinny => 스키니',\n 'skirt, skirts, 스컷트, 치마, 스컷 => 스커트',\n 'slacks, 슬렉스 => 슬랙스',\n 'slim => 슬림',\n 'slipper, 스리퍼, 슬립퍼, 쓰레빠 => 슬리퍼',\n 'small => 스몰',\n 'smart => 스마트',\n 'smartphone, 스나트폰, 핸드폰, 한드폰, 핸폰, 핸펀, 모바일, 폰 => 스마트폰',\n 'sneaker, sneakers, 스니커, 스닉커즈, 시니커즈, 스미커즈, 스니거즈, 스니꺼즈 => 스니커즈',\n 'sofa, 쇼파, 쏘파 => 소파',\n 'soft, 쏘프트 => 소프트',\n 'sowool => 쏘울',\n 'sponge, 스폰지 => 스펀지',\n 'spray, 스프래이 => 스프레이',\n 'star => 스타',\n 'steam => 스팀',\n 'stick => 스틱',\n 'sticker, 스티카 => 스티커',\n 'stress => 스트레스',\n 'style, 스탈 => 스타일',\n 'styling => 스타일링',\n 'suede, 새무, 세무, 스웨드, 쌔무, 쎄무, 수웨이드 => 스웨이드',\n 'super, 수퍼 => 슈퍼',\n 'susemi, 쑤세미 => 수세미',\n 'sweater, 쉐타, 스웨타 => 스웨터',\n 'sweetpotato, 스위트포테이토, 스위트포테토, 스윗포테이토, 스윗포테토, 고구아 => 고구마',\n 'table, 테이블, 테미블 => 탁자',\n 'tape, 태이프, 테입, 테잎, 태입, 태잎 => 테이프',\n 'teapot, 차주전자, 차포트, 티주전자, 티팟, 티폿, 주전자, 티캐틀 => 티포트',\n 'teeshirt, t셔스, tshirt, tshirts, t셔츠, 티샤스, 티샤츠, 티셔스, 티셔트, 티서츠 => 티셔츠',\n 'tefal, 데팔, 태팔 => 테팔',\n 'tent, 탠트 => 텐트',\n 'terra => 테라',\n 'test, 태스트 => 테스트',\n 'tex, 택스 => 텍스',\n 'tight => 타이트',\n 'time => 타임',\n 'timer, 타임머 => 타이머',\n 'tour, 투어, 여행상품 => 여행',\n 'treatment, 트릿트먼트, 트린트먼트 => 트리트먼트',\n 'tree, 츄리 => 트리',\n 'trouble, 트러불 => 트러블',\n 'tube, 튜부, 튜뷰, 투브 => 튜브',\n 'tumbler, 텀불러, 텀브러, 템블러, 텀플러 => 텀블러',\n 'type, 타잎 => 타입',\n 'ultra => 울트라',\n 'upgrade, 업그래이드, 업그레드, 업글 => 업그레이드',\n 'vaseline, 바셀린 => 바세린',\n 'velvet, velour, 밸로아, 밸로어, 밸루아, 밸뱃, 밸벳, 벨로아, 벨로어, 벨루아, 벨루어, 벨뱃, 비로드, 빌로드, 우단 => 벨벳',\n 'version, 버젼 => 버전',\n 'vintage => 빈티지',\n 'vinyl => 비닐',\n 'visual, 비쥬얼 => 비주얼',\n 'vitamin, 바이타민, 비따민, 비티민 => 비타민',\n 'volume, 볼룸, 불륨 => 볼륨',\n 'vt => 브이티',\n 'water => 워터',\n 'waterproof, 방수, 워터푸루프, 워터푸르프, 워터프르푸 => 워터프루프',\n 'winter, 윈터, 겨울철 => 겨울',\n 'wireless, 와이어레스, 와이어리스 => 무선',\n 'wonder => 원더',\n 'wool => 모직',\n 'wow => 와우',\n 'zero => 제로',\n 'ziin => 지인',\n '가락지, 가락찌 => 반지',\n '간식거리, 간식꺼리 => 간식',\n '걸래 => 걸레',\n '겉면 => 걷면',\n '겨울동복, 겨울옷, 겨울의류, 동계복 => 동복',\n '경대 => 화장대',\n '경랑, 초경량 => 경량',\n '과실 => 과일',\n '구스다운, goosedown, 구스, goose, 거위, 거위털 => 구스다운',\n '국산, 한국산 => 국내산',\n '귀저기, 기저기 => 기저귀',\n '껍질, 껍대기 => 껍데기',\n '남비, 냅비 => 냄비',\n '남성용, man, male, 남성 => 남자',\n '남여 => 남녀',\n '남자아동, 남아아동, 남자아이, 남아동, 남자애 => 남아',\n '남친 => 남자친구',\n '내복 => 내의',\n '내부품, 부속, 부품 => 부속품',\n '냄세 => 냄새',\n '냉자고, 냉징고, 낭장고 => 냉장고',\n '누비 => 누빔',\n '눈섭 => 눈썹',\n '닦기 => 닦이',\n '대용양 => 대용량',\n '대한민국 => 한국',\n '덥개, 덮게, 씌우개 => 덮개',\n '도시락통 => 도시락',\n '도툼, 두툼 => 도톰',\n '뒷꿈치 => 뒤꿈치',\n '뒷쪽 => 뒤쪽',\n '드레스장, 옷수납장 => 옷장',\n '등반, 산악 => 등산',\n '딸네미, 딸래미 => 딸내미',\n '똑닥이 => 똑딱이',\n '라밴다, 라밴더, 라벤다, 라벤더 => lavender',\n '렌덤 => 랜덤',\n '루스, loose => 루즈',\n '립틴트, tint => 틴트',\n '마개, 두껑 => 뚜껑',\n '마니아, mania, 메니아 => 매니아',\n '마스끄, mask => 마스크',\n '마스크펙 => 마스크팩',\n '맨투멘, 멘투멘, 맨토맨 => 맨투맨',\n '머릿결 => 머리결',\n '모이스쳐라이저, 모이스춰, 모이스춰라이저 => 모이스처라이저',\n '모자티, 모자티셔츠, 후두티, 후드t, 후드t셔츠, 후드넥티, 후드티, 후디티, 후드디 => 후드티셔츠',\n '목폴라, 목폴러 => 목폴라',\n '몸무게 => 체중',\n '무광 => 무광택',\n '무릅 => 무릎',\n '문양 => 무늬',\n '물풀장, 풀장 => 수영장',\n '물휴지, 웨트티슈 => 물티슈',\n '미백제 => 미백',\n '미용솜, 미용화장솜 => 화장솜',\n '바닥창 => 밑창',\n 'refurbished, 리퍼비시, 리퍼비시드, 리퍼비쉬, 리퍼브 => 리퍼',\n '밥숱, 밭솥 => 밥솥',\n '배개, 배게, 베게, 벼개, 벼게 => 베개',\n '배변기, 변기통, 용변기 => 변기',\n '보냉병, 보온물병, 보온보냉병, 진공보냉병, 진공보온병, 보온통, 보온물통, 진공보온물통, 보운병, 보은병 => 보온병',\n '보푸라기, 보프라기, 보플 => 보풀',\n '복부살, 배살 => 뱃살',\n '복합성 => 복합',\n '부엌, 키친, kitchen => 주방',\n '분말 => 가루',\n '붓츠컷, 부추컷 => 부츠컷',\n '브라자, bra, 브라, 브래이지어, 브레이지어, 브레지어 => 브래지어',\n '빤짝이 => 반짝이',\n '빨래 => 세탁',\n '빨래방 => 세탁소',\n '새탁기 => 세탁기',\n '샌스, 쌘스, 쎈스 => 센스',\n '생리패드, 위생대, 생리댜 => 생리대',\n '샵 => shop',\n '서랖장, 선랍장 => 서랍장',\n '선로션 => 썬로션',\n '선반대, 선반다이 => 선반',\n '선블록, 썬블록, 썬블락, 선블락, 선블럭, 썬블럭 => 썬블록',\n '선스크린 => 썬스크린',\n '선케어, suncare => 썬케어',\n '선크림, suncream, 자외선차단제 => 썬크림',\n '선파우더 => 썬파우더',\n '선플루이드 => 썬플루이드',\n '설것이, 설겆이 => 설거지',\n '섬유린스, 섬유유연재 => 섬유유연제',\n '세면, 세수 => 세안',\n '세재 => 세제',\n '세정 => 세척',\n '세치, 흰머리 => 새치',\n '센치 => 센티',\n '쇠가죽, 우피 => 소가죽',\n '수용복 => 수영복',\n '수통 => 물통',\n '쉬끄, 쉬크, 시크, 씨이크 => chic',\n '쉬트지, 씨트지 => 시트지',\n '슈즈, shoe, shoes => 신발',\n '스립온, slipon, 슬림온 => 슬립온',\n '스케처스, skechers, 스캐처스, 스캐쳐스, 스케챠스, 스케쳐즈, 스키쳐스, 스케쳐, 스켓쳐스, 스캣쳐스, 스캣처스, 스켓처스 => 스케쳐스',\n '스타깅 => 스타킹',\n '스테인레스스틸, 스텐레스, 스탠레스, 스탠래스, 스탠, 스탠, 스텐, 스뎅, 스덴, 스태인레스스틸, 스태인레스, 스텐리스, 스댄, 스테네스, 스텐례스, 스텐네스, 스텡 => 스테인레스',\n '스판덱스, spandex, 스펜덱스 => 스판',\n '시걔, 시게 => 시계',\n '시어무이 => 시어머니',\n '시제이, 씨제이 => cj',\n '신제품, 신품, 신상 => 신상품',\n '실래화, 신래화 => 실내화',\n '썸머, summer, 서머, 섬머, 써머, 여름철 => 여름',\n '쓰래기통, 쓰레기통 => 휴지통',\n '씽글 => 싱글',\n '씽크 => 싱크',\n '씽크대 => 싱크대',\n '아가, 아기, 인펀트, infant, 애기 => 유아',\n '아주머니 => 아줌마',\n '안감, 네피 => 내피',\n '안성마춤 => 안성맞춤',\n '야채 => 채소',\n '양털 => 양모',\n '어께 => 어깨',\n '어른 => 성인',\n '어린이, child, 소인, 차일드, children, 칠드런, 키즈, kids, 키드, kid, 주니어, junior, 쥬니어 => 아동',\n '언더웨어, underwear, 이너웨어, innerwear, 인너웨어, 이너워어, 솟옷 => 속옷',\n '언더웨어란제리, lingerie, 란재리, 난제리 => 란제리',\n '에쎈스, 엣센스 => 에센스',\n '엘지, 엘쥐 => lg',\n '엠플, 앰풀, 엠풀 => 앰플',\n '여성, woman, 우먼, 워먼, 우먼스, 우먼즈 => 여자',\n '여아동, 여자아이, 여자애, 여자어린이, 여쥬니어, 여주니어 => 여아',\n '여친 => 여자친구',\n '예민 => 민감',\n '온수장판, 온수매드, 온수매크 => 온수매트',\n '옷감천, 옷천 => 옷감',\n '외국, 국외 => 해외',\n '운동복, 체육복, 추리닝, 츄리닝, 츄리링, 트래이닝복, 트레닝복, 츄니닝, 트레이님복, 채육복, 추니링 => 트레이닝복',\n '운임비, 운송비 => 배송비',\n '웃옷, 윗도리, 윗옷 => 상의',\n '원단천, 직물 => 원단',\n '유분기 => 유분',\n '유튜브, youtube => 유투브',\n '의상, 의복, 의류, 복, 웨어 => 옷',\n '일주일 => 1주일',\n '쟈크 => 자크',\n '죵료 => 종료',\n '증정품 => 사은품',\n '지에스, 쥐에스 => gs',\n '집개 => 집게',\n '짜쯩 => 짜증',\n '쪼끼 => 조끼',\n '쪼리 => 조리',\n '찌꺼기 => 찌거기',\n '찜찔 => 찜질',\n '차량, car => 자동차',\n '체어, chair => 의자',\n '초등생 => 초등학생',\n '최저가 => 최저가격',\n '충전기 => 충전',\n '치솔, toothbrush => 칫솔',\n '카펫, carpet, 카패트, 카팻, 카팻트, 카펫트, 카폐트, 커페트 => 카페트',\n '캐쉬, cash, 케쉬 => 캐시',\n '커튿, 커턴, 커텐 => 커튼',\n '켐핑 => 캠핑',\n '쿠쿠전자, cuckoo => 쿠쿠',\n '타올, towel, 타월 => 수건',\n '탈모성 => 탈모',\n '터틀넥, 터들넥, 터틀낵, 터틀네크, 터틀렉, 터들렉, turtleneck => 터틀네크라인',\n '테미블 => 테이블',\n '텔레비전, television, 테레비전, 테레비젼, 텔레비젼, 티브이, 텔레비죤, 텔레비존, 테레비존, 테레비죤, 텔리비전, 텔리비젼, 티비, 탤래비전 => tv',\n '토트 => 토드',\n '트래이닝, 스포츠, 트레이닝, training, 트레닝, 츄레이닝, 트네이닝, 트레닝, 트레인, sport, sports, 스포트 => 운동',\n '팔목 => 손목',\n '팔지 => 팔찌',\n '퍼퓸, perfume, 파퓸, 퍼품 => 향수',\n '포장용지, 포장종이 => 포장지',\n '핫펙, 핫팻 => 핫팩',\n '환절기, 한절기 => 간절기',\n '회장품, 화자품 => 화장품',\n '휴지 => 화장지',\n '흡수성 => 흡수']"
      ]
     },
     "execution_count": 58,
     "metadata": {},
     "output_type": "execute_result"
    }
   ],
   "source": [
    "t"
   ]
  },
  {
   "cell_type": "code",
   "execution_count": 55,
   "metadata": {
    "collapsed": false
   },
   "outputs": [
    {
     "data": {
      "text/plain": [
       "['1주일 ',\n '2중 ',\n '3회사은품 3회 사은품',\n '4계절 ',\n '7부바지 ',\n 'age ',\n 'age20 ',\n 'age20s ',\n 'air ',\n 'ali ',\n 'aline ',\n 'allnew ',\n 'aloe ',\n 'alpaca ',\n 'ankle ',\n 'atopy ',\n 'a라인 ',\n 'baby ',\n 'backpack ',\n 'backpacks ',\n 'bag ',\n 'baggy ',\n 'balcony ',\n 'bally ',\n 'band ',\n 'bands ',\n 'basic ',\n 'bb ',\n 'bb크림 ',\n 'belt ',\n 'bench ',\n 'bidet ',\n 'big ',\n 'blanket ',\n 'blouse ',\n 'body ',\n 'boots ',\n 'box ',\n 'boxy ',\n 'bra ',\n 'brand ',\n 'brick ',\n 'brush ',\n 'button ',\n 'buttoned ',\n 'cable ',\n 'calender ',\n 'car ',\n 'card ',\n 'care ',\n 'carpet ',\n 'carrier ',\n 'carseat ',\n 'case ',\n 'cash ',\n 'cashmere ',\n 'casual ',\n 'cc ',\n 'cc크림 ',\n 'cd플레이어 ',\n 'center ',\n 'chair ',\n 'channel ',\n 'character ',\n 'charcoal ',\n 'charmzone ',\n 'check ',\n 'cherry ',\n 'chic ',\n 'child ',\n 'children ',\n 'choice ',\n 'christmas ',\n 'cj ',\n 'classic ',\n 'clean ',\n 'cleaner ',\n 'cleanser ',\n 'cleansing ',\n 'clinic ',\n 'coffee ',\n 'collagen ',\n 'concealer ',\n 'conditioner ',\n 'coral ',\n 'corelle ',\n 'cotton ',\n 'couple ',\n 'coupon ',\n 'cover ',\n 'cream ',\n 'creme ',\n 'cubic ',\n 'cuckoo ',\n 'cushion ',\n 'daily ',\n 'daks ',\n 'dali ',\n 'dark ',\n 'daum ',\n 'davines ',\n 'denim ',\n 'design ',\n 'detail ',\n 'diet ',\n 'doma ',\n 'double ',\n 'down ',\n 'downy ',\n 'dream ',\n 'drill ',\n 'dry ',\n 'dryer ',\n 'duckdown ',\n 'dyson ',\n 'earing ',\n 'earring ',\n 'egg ',\n 'essence ',\n 'europe ',\n 'event ',\n 'face ',\n 'fashion ',\n 'feeling ',\n 'felt ',\n 'fila ',\n 'film ',\n 'filter ',\n 'first ',\n 'fit ',\n 'foundation ',\n 'fox ',\n 'free ',\n 'frill ',\n 'frilled ',\n 'frypan ',\n 'furniture ',\n 'gas ',\n 'gold ',\n 'golf ',\n 'goose ',\n 'goosedown ',\n 'grip ',\n 'gs ',\n 'gs마이샵 ',\n 'gs샵 ',\n 'hair ',\n 'handmade ',\n 'hanssem ',\n 'happycall ',\n 'hazzys ',\n 'head ',\n 'health ',\n 'heater ',\n 'hera ',\n 'hi ',\n 'high ',\n 'h라인 ',\n 'idea ',\n 'illy ',\n 'image ',\n 'inch ',\n 'induction ',\n 'infant ',\n 'inner ',\n 'innerwear ',\n 'item ',\n 'ivory ',\n 'jacket ',\n 'jackets ',\n 'japan ',\n 'jean ',\n 'joy ',\n 'jumper ',\n 'junior ',\n 'kid ',\n 'kids ',\n 'kimchi ',\n 'kit ',\n 'kitchen ',\n 'kleenex ',\n 'knit ',\n 'knitted ',\n 'label ',\n 'lambskin ',\n 'laptop ',\n 'large ',\n 'latex ',\n 'latte ',\n 'lavender ',\n 'layered ',\n 'leather ',\n 'leggings ',\n 'lemon용 ',\n 'lens ',\n 'lg ',\n 'lifting ',\n 'line ',\n 'liner ',\n 'lingerie ',\n 'lipstick ',\n 'liquid ',\n 'lirikos ',\n 'logo ',\n 'loose ',\n 'lotion ',\n 'lotte ',\n 'luxury ',\n 'machine ',\n 'magic ',\n 'maker ',\n 'makeup ',\n 'male ',\n 'man ',\n 'mania ',\n 'marketing ',\n 'mart ',\n 'mascara ',\n 'mask ',\n 'massage ',\n 'mat ',\n 'match ',\n 'mattress ',\n 'milk ',\n 'mini ',\n 'mink ',\n 'mint ',\n 'miss ',\n 'mist ',\n 'model ',\n 'mogg ',\n 'monitor ',\n 'morgan ',\n 'mucota ',\n 'muffler ',\n 'multi ',\n 'nail ',\n 'name ',\n 'nan ',\n 'naver ',\n 'necklace ',\n 'neo ',\n 'nike ',\n 'notebook ',\n 'oil ',\n 'old ',\n 'option ',\n 'orange ',\n 'original ',\n 'outer ',\n 'outlet ',\n 'outwear ',\n 'oven ',\n 'package ',\n 'pact ',\n 'pad ',\n 'padding ',\n 'pads ',\n 'pants ',\n 'panty ',\n 'pattern ',\n 'peeling ',\n 'perfume ',\n 'photo ',\n 'pie ',\n 'plastic ',\n 'play ',\n 'plus ',\n 'pocket ',\n 'point ',\n 'pouch ',\n 'powder ',\n 'power ',\n 'premium ',\n 'print ',\n 'pro ',\n 'psy ',\n 'puff ',\n 'puma ',\n 'pump ',\n 'pumping ',\n 'pure ',\n 'quality ',\n 'racoon ',\n 'real ',\n 'refill ',\n 'refurbished ',\n 'renew ',\n 'reversible ',\n 'review ',\n 'ribbon ',\n 'rinse ',\n 'rolling ',\n 'rose ',\n 'rouge ',\n 'round ',\n 'sale ',\n 'sample ',\n 'sash ',\n 'scarf ',\n 'scratch ',\n 'scrub ',\n 'season ',\n 'seat ',\n 'series ',\n 'serum ',\n 'service ',\n 'set ',\n 'sexy ',\n 'shampoo ',\n 'shinsegae ',\n 'shirt ',\n 'shirts ',\n 'shoe ',\n 'shoes ',\n 'shop ',\n 'side ',\n 'sight ',\n 'silicon ',\n 'silicone ',\n 'silk ',\n 'silver ',\n 'site ',\n 'size ',\n 'skechers ',\n 'skin ',\n 'skinny ',\n 'skirt ',\n 'skirts ',\n 'slacks ',\n 'slim ',\n 'slipon ',\n 'slipper ',\n 'small ',\n 'smart ',\n 'smartphone ',\n 'sneaker ',\n 'sneakers ',\n 'sofa ',\n 'soft ',\n 'sowool ',\n 'spandex ',\n 'sponge ',\n 'sport ',\n 'sports ',\n 'spray ',\n 'star ',\n 'steam ',\n 'stick ',\n 'sticker ',\n 'stress ',\n 'style ',\n 'styling ',\n 'suede ',\n 'summer ',\n 'suncare ',\n 'suncream ',\n 'super ',\n 'susemi ',\n 'sweater ',\n 'sweetpotato ',\n 'table ',\n 'tape ',\n 'teapot ',\n 'teeshirt ',\n 'tefal ',\n 'television ',\n 'tent ',\n 'terra ',\n 'test ',\n 'tex ',\n 'tight ',\n 'time ',\n 'timer ',\n 'tint ',\n 'toothbrush ',\n 'tour ',\n 'towel ',\n 'training ',\n 'treatment ',\n 'tree ',\n 'trouble ',\n 'tshirt ',\n 'tshirts ',\n 'tube ',\n 'tumbler ',\n 'turtleneck ',\n 'tv ',\n 'tv상품 tv 상품',\n 'tv쇼핑 tv 쇼핑',\n 'type ',\n 't셔스 ',\n 't셔츠 ',\n 't커머스 ',\n 'ultra ',\n 'underwear ',\n 'upgrade ',\n 'vaseline ',\n 'velour ',\n 'velvet ',\n 'veranda ',\n 'version ',\n 'vintage ',\n 'vinyl ',\n 'visual ',\n 'vitamin ',\n 'volume ',\n 'water ',\n 'waterproof ',\n 'wine ',\n 'winter ',\n 'wireless ',\n 'woman ',\n 'wonder ',\n 'wool ',\n 'wow ',\n 'xmas ',\n 'x마스 ',\n 'youtube ',\n 'zero ',\n 'ziin ',\n '가격문의 가격 문의',\n '가구 ',\n '가글 ',\n '가드닝 ',\n '가든데코 ',\n '가락지 ',\n '가락찌 ',\n '가루 ',\n '가르시니아 ',\n '가방 ',\n '가보시힐 ',\n '가성비 ',\n '가스 ',\n '가스레인지 ',\n '가습기 ',\n '가시오가피 ',\n '가주문 ',\n '가죽 ',\n '가죽백 ',\n '각질제거 ',\n '각질제거기 ',\n '간식 ',\n '간식거리 ',\n '간식꺼리 ',\n '간절기 ',\n '갈색',\n '갈색깔 ',\n '갈색색',\n '갈색색깔',\n '갈색색상',\n '갈색칼라',\n '갈색컬러',\n '감마리놀렌산 ',\n '감말랭이 ',\n '강성불만 강성 불만',\n '강성항의 강성 항의',\n '개선건의 개선 건의',\n '개선요청 개선 요청',\n '개인적 ',\n '개인차 ',\n '갤럭시탭 ',\n '갤린더 ',\n '갯수 ',\n '갯수문의 갯수 문의',\n '거래내역서 거래 내역서',\n '거실장 ',\n '거위 ',\n '거위털 ',\n '거치대 ',\n '건강즙 ',\n '건망고 ',\n '건바나나 ',\n '건새우 ',\n '건어물 ',\n '건의요청 건의 요청',\n '건자두 ',\n '건조기 ',\n '건조대 ',\n '건포도 ',\n '걷면 ',\n '걸래 ',\n '걸레 ',\n '검은',\n '검은색',\n '검은색깔',\n '검은색상',\n '검은칼라',\n '검은컬러',\n '검정',\n '검정고시 ',\n '검정색',\n '검정색깔',\n '검정색상',\n '검정칼라',\n '검정컬러',\n '겉면 ',\n '겉옷 ',\n '게시판 ',\n '게임기 ',\n '겨울 ',\n '겨울동복 ',\n '겨울옷 ',\n '겨울의류 ',\n '겨울철 ',\n '견본 ',\n '견본품 ',\n '견출지 ',\n '결제건 ',\n '결제금액 결제 금액',\n '결제문의 결제 문의',\n '결제변경 결제 변경',\n '결제완료 결제 완료',\n '결제요청 결제 요청',\n '결제취소 결제 취소',\n '경대 ',\n '경랑 ',\n '경량 ',\n '경보기 ',\n '경비실 ',\n '경유지 ',\n '경품당첨 경품 당첨',\n '계기판 ',\n '계란 ',\n '계산기 ',\n '계좌번호 ',\n '고객미수긍 고객 미수긍',\n '고객번호 ',\n '고객센터 ',\n '고객수긍 고객 수긍',\n '고객이름 고객 이름',\n '고객통화 고객 통화',\n '고구마 ',\n '고구아 ',\n '고데기 ',\n '고등학습 ',\n '고무장갑 ',\n '고양이캔 ',\n '고추가루 ',\n '고추장 ',\n '고춧가루 ',\n '곤색',\n '곤색깔 ',\n '곤색색',\n '곤색색깔',\n '곤색색상',\n '곤색칼라',\n '곤색컬러',\n '골드 ',\n '골드키위 ',\n '골든키위 ',\n '골프 ',\n '공구함 ',\n '공기청정기 ',\n '공무원 ',\n '공미디어 ',\n '공압공구 ',\n '공유기 ',\n '공화분 ',\n '공휴일 ',\n '공휴일제외 공휴일 제외',\n '곶감 ',\n '과실 ',\n '과실주 ',\n '과일 ',\n '과일즙 ',\n '과일칩 ',\n '과즙기 ',\n '과즙망 ',\n '관리실 ',\n '관리자 ',\n '관악기 ',\n '관엽식물 ',\n '교환가능 교환 가능',\n '교환비 ',\n '교환접수 교환 접수',\n '교환진행 교환 진행',\n '교환처리 교환 처리',\n '구강청정기 ',\n '구급함 ',\n '구명조끼 ',\n '구성문의 구성 문의',\n '구성품 ',\n '구스 ',\n '구스다운 ',\n '국내산 ',\n '국민은행 ',\n '국민카드 ',\n '국산 ',\n '국악기 ',\n '국외 ',\n '국제법 ',\n '귀거리 ',\n '귀걸이 ',\n '귀고리 ',\n '귀마개 ',\n '귀저기 ',\n '규빅 ',\n '그늘막 ',\n '그래이',\n '그래이색',\n '그래이색깔',\n '그래이색상',\n '그래이칼라',\n '그래이컬러',\n '그래픽카드 ',\n '그레이',\n '그레이색',\n '그레이색깔',\n '그레이색상',\n '그레이칼라',\n '그레이컬러',\n '그릇장 ',\n '그린',\n '그린색',\n '그린색깔',\n '그린색상',\n '그린칼라',\n '그린컬러',\n '그립 ',\n '극세사카페트 ',\n '금액문의 금액 문의',\n '금요일 ',\n '급수기 ',\n '기내용 ',\n '기념품 ',\n '기능성 ',\n '기능화 ',\n '기름 ',\n '기름종이 ',\n '기사님 기사 님',\n '기사번호 기사 번호',\n '기사분 기사 분',\n '기사연락처 기사 연락처',\n '기저귀 ',\n '기저기 ',\n '긴바지 ',\n '긴팔 ',\n '김자반 ',\n '김치 ',\n '김치냉장고 ',\n '김치냉장고 김치 냉장고',\n '까스 ',\n '깔창 ',\n '껍대기 ',\n '껍데기 ',\n '껍질 ',\n '꽃배달 ',\n '끈적임 ',\n '나들이 ',\n '나뭇가지 ',\n '나비넥타이 ',\n '나이키 ',\n '나침반 ',\n '낚시대 ',\n '낚시릴 ',\n '난제리 ',\n '날씬 ',\n '남녀 ',\n '남비 ',\n '남색',\n '남색깔 ',\n '남색색',\n '남색색깔',\n '남색색상',\n '남색칼라',\n '남색컬러',\n '남성 ',\n '남성용 ',\n '남성화 ',\n '남아 ',\n '남아동 ',\n '남아아동 ',\n '남여 ',\n '남자 ',\n '남자아동 ',\n '남자아이 ',\n '남자애 ',\n '남자친구 ',\n '남친 ',\n '남태평양 ',\n '낭장고 ',\n '내복 ',\n '내부품 ',\n '내용물 ',\n '내용안내 ',\n '내용전달 ',\n '내용확인 ',\n '내의 ',\n '내피 ',\n '냄비 ',\n '냄비받침 ',\n '냄새 ',\n '냄세 ',\n '냅비 ',\n '냉동고 ',\n '냉동보관 냉동 보관',\n '냉동식품 냉동 식품',\n '냉동실 ',\n '냉온풍기 ',\n '냉자고 ',\n '냉장고 ',\n '냉장보관 냉장 보관',\n '냉징고 ',\n '냉풍기 ',\n '너구리털 ',\n '네깅스 ',\n '네블라이저 ',\n '네비게이션 ',\n '네오 ',\n '네이버 ',\n '네이비',\n '네이비색',\n '네이비색깔',\n '네이비색상',\n '네이비칼라',\n '네이비컬러',\n '네일 ',\n '네일아트 네일 아트',\n '네일영양제 네일 영양제',\n '네일컬러 네일 컬러',\n '네임 ',\n '네임택 ',\n '네크레스 ',\n '네크레이스 ',\n '네크리스 ',\n '네클라스 ',\n '네클레스 ',\n '네클레이스 ',\n '네클리스 ',\n '네피 ',\n '넥워머 ',\n '넥크리스 ',\n '넥클레스 ',\n '넥클레이스 ',\n '넥타이핀',\n '노란',\n '노란색',\n '노란색깔',\n '노란색상',\n '노란칼라',\n '노란컬러',\n '노랑',\n '노랑색',\n '노랑색깔',\n '노랑색상',\n '노랑칼라',\n '노랑컬러',\n '노츠북 ',\n '노트복 ',\n '노트북 ',\n '노트붇 ',\n '녹색',\n '녹색깔 ',\n '녹색색',\n '녹색색깔',\n '녹색색상',\n '녹색칼라',\n '녹색컬러',\n '녹화방송 녹화 방송',\n '농구공 ',\n '농구대 ',\n '농구화 ',\n '농기구 ',\n '농산물 ',\n '누비 ',\n '누빔 ',\n '눈섭 ',\n '눈썰매 ',\n '눈썹 ',\n '느트북 ',\n '니이키 ',\n '니트 ',\n '니티 ',\n '닛트 ',\n '다른박스 다른 박스',\n '다른번호 다른 번호',\n '다른사람 다른 사람',\n '다른상품 다른 상품',\n '다비네스 ',\n '다용도 ',\n '다우니 ',\n '다운 ',\n '다운베스트 ',\n '다운점퍼 ',\n '다운코트 ',\n '다음 ',\n '다이손 ',\n '다이슨 ',\n '다이어트 ',\n '다크 ',\n '닥스 ',\n '닦기 ',\n '닦이 ',\n '단감 ',\n '단맛 단 맛',\n '단순변심 ',\n '단품 ',\n '달걀 ',\n '달력 ',\n '달리 ',\n '닭가슴살 ',\n '담당부서 담당 부서',\n '담당자 ',\n '담요 ',\n '답변요청 답변 요청',\n '당도문의 당도 문의',\n '대님 ',\n '대만족 ',\n '대부분 ',\n '대용량 ',\n '대용양 ',\n '대장균 ',\n '대저토마토 ',\n '대한민국 ',\n '대한통운 ',\n '댄스화 ',\n '더블 ',\n '더블쿠폰 더블 쿠폰',\n '더플백 ',\n '더플코트 ',\n '덕다운 ',\n '덥개 ',\n '덧신 ',\n '덮개 ',\n '덮게 ',\n '데님 ',\n '데님팬츠 ',\n '데스크탑 ',\n '데오드란트 ',\n '데일리 ',\n '데코레이션 ',\n '데팔 ',\n '도로명 ',\n '도마 ',\n '도서산간지역 ',\n '도선료 ',\n '도시락 ',\n '도시락통 ',\n '도어가드 ',\n '도어락 ',\n '도어벨 ',\n '도자기 ',\n '도착예정 도착 예정',\n '도톰 ',\n '도툼 ',\n '독서대 ',\n '돈까스 ',\n '돗자리 ',\n '동계복 ',\n '동물인형 ',\n '동복 ',\n '동양사 ',\n '동양화 ',\n '동일상품 ',\n '동일주소 ',\n '동전지갑 ',\n '돼지고기 ',\n '된장 ',\n '두껑 ',\n '두께감 ',\n '두툼 ',\n '두피케어기기 ',\n '뒤꿈치 ',\n '뒤집개 ',\n '뒤쪽 ',\n '뒷꿈치 ',\n '뒷쪽 ',\n '드라이 ',\n '드라이기 ',\n '드라이드 ',\n '드라이아이스 ',\n '드라이어 ',\n '드레스룸 ',\n '드레스장 ',\n '드릴 ',\n '드림 ',\n '들깨 ',\n '등반 ',\n '등산 ',\n '등산화 ',\n '디딤대 ',\n '디스펜서 ',\n '디어옴므 ',\n '디자인 ',\n '디태일 ',\n '디테일 ',\n '디퓨저 ',\n '딜상품 ',\n '딸내미 ',\n '딸네미 ',\n '딸래미 ',\n '딸아이 ',\n '땅콩 ',\n '떡갈비 ',\n '떡볶이 ',\n '똑닥이 ',\n '똑딱이 ',\n '똑소리 ',\n '뚜껑 ',\n '뜨개질 ',\n '라덱스 ',\n '라떼 ',\n '라뮤즈 ',\n '라밴다 ',\n '라밴더 ',\n '라벤다 ',\n '라벤더 ',\n '라벨 ',\n '라운드 ',\n '라운드넥 ',\n '라운드티 ',\n '라운트 ',\n '라은드 ',\n '라이너 ',\n '라인 ',\n '라지 ',\n '라쿤 ',\n '라쿤털 ',\n '라택스 ',\n '라텍스 ',\n '라툰털 ',\n '락쿤 ',\n '락쿤털 ',\n '락텍스 ',\n '란재리 ',\n '란제리 ',\n '란쿤털 ',\n '래깅스 ',\n '래더 ',\n '래쉬가드 ',\n '래이어드 ',\n '랜덤 ',\n '랜즈 ',\n '램가죽 ',\n '램스킨 ',\n '랩탑 ',\n '랩톱 ',\n '럭셔리 ',\n '럭셜 ',\n '런닝머신 ',\n '레긴스 ',\n '레길스 ',\n '레깅느 ',\n '레깅스 ',\n '레깅즈 ',\n '레더 ',\n '레드',\n '레드색',\n '레드색깔',\n '레드색상',\n '레드칼라',\n '레드컬러',\n '레드향 ',\n '레몬 ',\n '레어어드 ',\n '레이블 ',\n '레이어드 ',\n '레킹스 ',\n '렌덤 ',\n '렌즈 ',\n '렘스킨 ',\n '력셔리 ',\n '로고 ',\n '로봇청소기 로봇 청소기',\n '로션 ',\n '로숀 ',\n '로시옹 ',\n '로씨옹 ',\n '로얄제리 ',\n '로즈 ',\n '롤러슈즈 ',\n '롤러코스터 ',\n '롤릴 ',\n '롤링 ',\n '롯대 ',\n '롯데 ',\n '롯데카드 ',\n '롯데택배 롯데 택배',\n '롱코트 ',\n '료션 ',\n '루스 ',\n '루주 ',\n '루쥬 ',\n '루즈 ',\n '루프박스 ',\n '리뉴 ',\n '리리코스 ',\n '리무버 ',\n '리버서블 ',\n '리버스블 ',\n '리버시블 ',\n '리버써블 ',\n '리본 ',\n '리뷰 ',\n '리얼 ',\n '리퀴드 ',\n '리퀴드형 ',\n '리퍼 ',\n '리퍼브 ',\n ...]"
      ]
     },
     "execution_count": 55,
     "metadata": {},
     "output_type": "execute_result"
    }
   ],
   "source": [
    "user_list"
   ]
  },
  {
   "cell_type": "code",
   "execution_count": null,
   "metadata": {},
   "outputs": [],
   "source": []
  }
 ],
 "metadata": {
  "kernelspec": {
   "display_name": "Python 2",
   "language": "python",
   "name": "python2"
  },
  "language_info": {
   "codemirror_mode": {
    "name": "ipython",
    "version": 2
   },
   "file_extension": ".py",
   "mimetype": "text/x-python",
   "name": "python",
   "nbconvert_exporter": "python",
   "pygments_lexer": "ipython2",
   "version": "2.7.6"
  }
 },
 "nbformat": 4,
 "nbformat_minor": 0
}
