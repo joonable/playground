{
 "cells": [
  {
   "cell_type": "code",
   "execution_count": 2,
   "metadata": {
    "collapsed": true
   },
   "outputs": [],
   "source": [
    "import pandas as pd\n",
    "from itertools import chain\n",
    "from elasticsearch import Elasticsearch\n",
    "from elasticsearch.client import IndicesClient\n",
    "from collections import Counter"
   ]
  },
  {
   "cell_type": "code",
   "execution_count": 4,
   "metadata": {},
   "outputs": [],
   "source": [
    "data_dir = '../synonyms_from_category/data/'\n",
    "dt = '20190130'"
   ]
  },
  {
   "cell_type": "code",
   "execution_count": 5,
   "metadata": {},
   "outputs": [],
   "source": [
    "df_synonyms = pd.read_csv('/home/admin-/PycharmProjects/playground/synonyms_from_category/data/candidate_synonyms_final_190130.tsv', sep='\\t', names=['word', 'synonyms'])\n"
   ]
  },
  {
   "cell_type": "code",
   "execution_count": 6,
   "metadata": {},
   "outputs": [],
   "source": [
    "df_users = pd.read_csv('/home/admin-/PycharmProjects/playground/synonyms_from_category/data/cate_WE_user_dict_190130.txt', names=['word'])"
   ]
  },
  {
   "cell_type": "code",
   "execution_count": 7,
   "metadata": {},
   "outputs": [
    {
     "name": "stderr",
     "output_type": "stream",
     "text": [
      "/home/admin-/anaconda3/lib/python3.6/site-packages/pandas/core/frame.py:6201: FutureWarning: Sorting because non-concatenation axis is not aligned. A future version\nof pandas will change to not sort by default.\n\nTo accept the future behavior, pass 'sort=True'.\n\nTo retain the current behavior and silence the warning, pass sort=False\n\n  sort=sort)\n"
     ]
    }
   ],
   "source": [
    "df = df_synonyms.append(df_users, ignore_index=True)"
   ]
  },
  {
   "cell_type": "code",
   "execution_count": 8,
   "metadata": {},
   "outputs": [
    {
     "data": {
      "text/plain": [
       "str"
      ]
     },
     "execution_count": 8,
     "metadata": {},
     "output_type": "execute_result"
    }
   ],
   "source": [
    "df = df.sort_values(by=['word']).reset_index(drop=True)\n",
    "df.synonyms = df.synonyms.astype('str')\n",
    "df.synonyms = df.synonyms.fillna(value=0)\n",
    "type(df.synonyms[1])"
   ]
  },
  {
   "cell_type": "code",
   "execution_count": 9,
   "metadata": {},
   "outputs": [],
   "source": [
    "df['output'] = None\n",
    "\n",
    "\n",
    "def word_and_synonyms(row):\n",
    "    temp_str = row['word']\n",
    "    if row['synonyms'] != 'nan':\n",
    "        temp_str = temp_str + \" \" + row['synonyms']\n",
    "        temp_list = temp_str.split(\" \")\n",
    "    else:\n",
    "        temp_list = [temp_str]\n",
    "    row['output'] = temp_list\n",
    "    return row\n",
    "\n",
    "\n",
    "df = df.apply(lambda row: word_and_synonyms(row), axis=1)"
   ]
  },
  {
   "cell_type": "code",
   "execution_count": 10,
   "metadata": {},
   "outputs": [
    {
     "data": {
      "text/plain": [
       "215                              [도톰, 도툼, 두툼]\n750                       [스티커, sticker, 스티카]\n538                                   [분유케이스]\n717                                   [스노우체인]\n1461                                   [현대소설]\n299                              [리필, refill]\n1141                                    [착용감]\n772                           [시트지, 쉬트지, 씨트지]\n1366                                   [패밀리룩]\n1128                                    [진미채]\n99      [귀걸이, earing, 귀고리, 이어링, earring, 귀거리]\n1046                                    [자전거]\n694                                    [수건걸이]\n276            [로션, lotion, 로숀, 로시옹, 로씨옹, 료션]\n1226                                    [커튼봉]\n627                                     [선반장]\n346                               [면러그 코튼 러그]\n138                                    [남태평양]\n1172                                    [초경량]\n621                           [서랍장, 서랖장, 선랍장]\nName: output, dtype: object"
      ]
     },
     "execution_count": 10,
     "metadata": {},
     "output_type": "execute_result"
    }
   ],
   "source": [
    "df.output.sample(20)"
   ]
  },
  {
   "cell_type": "code",
   "execution_count": 11,
   "metadata": {},
   "outputs": [],
   "source": [
    "list_output = df.output.tolist()\n",
    "list_output = [_.lower() for _ in chain(*list_output)]"
   ]
  },
  {
   "cell_type": "code",
   "execution_count": 12,
   "metadata": {},
   "outputs": [
    {
     "name": "stdout",
     "output_type": "stream",
     "text": [
      "2841 2722\n"
     ]
    }
   ],
   "source": [
    "print(len(pd.Series(list_output)), len(pd.Series(list_output).unique()))"
   ]
  },
  {
   "cell_type": "code",
   "execution_count": 13,
   "metadata": {},
   "outputs": [],
   "source": [
    "pd.Series(list_output).to_csv('/home/admin-/PycharmProjects/playground/synonyms_from_category/data/freq_user_dict_'+dt+'.txt', index=False)"
   ]
  }
 ],
 "metadata": {
  "kernelspec": {
   "display_name": "Python 2",
   "language": "python",
   "name": "python2"
  },
  "language_info": {
   "codemirror_mode": {
    "name": "ipython",
    "version": 2
   },
   "file_extension": ".py",
   "mimetype": "text/x-python",
   "name": "python",
   "nbconvert_exporter": "python",
   "pygments_lexer": "ipython2",
   "version": "2.7.6"
  }
 },
 "nbformat": 4,
 "nbformat_minor": 0
}
